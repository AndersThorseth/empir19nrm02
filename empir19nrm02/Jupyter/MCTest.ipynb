{
 "cells": [
  {
   "cell_type": "markdown",
   "source": [
    "# Some ideas for spectral MC Simulations"
   ],
   "metadata": {
    "collapsed": false
   }
  },
  {
   "cell_type": "code",
   "execution_count": 1,
   "id": "e36582b0",
   "metadata": {},
   "outputs": [],
   "source": [
    "import luxpy as lx\n",
    "import numpy as np\n",
    "\n",
    "%matplotlib inline\n",
    "\n",
    "\n",
    "from empir19nrm02.spectral import McSpectrumX\n",
    "from empir19nrm02.tools import plotHistScales, plotHistScalesWl, plotHistScalesValue, \\\n",
    "                              array2analyse, analyse_stat, seaborn_plot_basedata, seaborn_plot_result\n",
    "from empir19nrm02.f1prime import py_f1PrimeG"
   ]
  },
  {
   "cell_type": "markdown",
   "source": [
    "# Parameter for the simulation\n",
    "#### Let's modify some standard data first and caculate some integrated valeus like $f_{1}^{'}$ and Yxy tristimulus values"
   ],
   "metadata": {
    "collapsed": false
   }
  },
  {
   "cell_type": "code",
   "execution_count": 2,
   "outputs": [],
   "source": [
    "strWeighting = 'A'\n",
    "strObserver = '1931_2'\n",
    "# let's use the V(Lambda) Function (0 ... X, 1...Y, 2...Z)\n",
    "iObserverOffset = 1\n",
    "wlResolution = 5\n",
    "wlStart = 380\n",
    "wlStop = 780\n",
    "trials = 1000\n",
    "\n",
    "fig_number = 1\n",
    "fig_type= '.svg'\n",
    "\n",
    "def get_fig_file_name(filename=None):\n",
    "    global fig_number\n",
    "    global fig_type\n",
    "    if filename is None:\n",
    "        file_name = r'met\\Fig' + str(fig_number) + fig_type\n",
    "        fig_number+=1\n",
    "    else:\n",
    "        file_name = r'met\\Fig' + filename + fig_type\n",
    "    return file_name\n",
    "\n",
    "def save_fig(filename=None):\n",
    "    return pyplot.savefig( get_fig_file_name(filename), bbox_inches='tight', pad_inches=0)"
   ],
   "metadata": {
    "collapsed": false,
    "pycharm": {
     "name": "#%%\n"
    }
   }
  },
  {
   "cell_type": "markdown",
   "source": [
    "# MC Simulation\n",
    "Define some data to work with (let's start with the $V(\\lambda)$ function)\n"
   ],
   "metadata": {
    "collapsed": false
   }
  },
  {
   "cell_type": "code",
   "execution_count": 3,
   "outputs": [],
   "source": [
    "lxCmf = lx._CMF['1931_2']\n",
    "lxCmfInterpolate = lx.cie_interp(lxCmf['bar'], \\\n",
    "    wl_new = np.arange(wlStart,wlStop+1,wlResolution),\\\n",
    "    kind = 'S')\n",
    "res = len(lxCmfInterpolate[0])"
   ],
   "metadata": {
    "collapsed": false,
    "pycharm": {
     "name": "#%%\n"
    }
   }
  },
  {
   "cell_type": "markdown",
   "source": [
    "# Data storage\n",
    "Take a nominal wavelength scale and the ideal detector and sore all together into a class instance SPD from luxpy"
   ],
   "metadata": {
    "collapsed": false
   }
  },
  {
   "cell_type": "code",
   "execution_count": 4,
   "outputs": [],
   "source": [
    "wl=lxCmfInterpolate[0].reshape(1,res)\n",
    "value=lxCmfInterpolate[2].reshape(1,res)\n",
    "spd_init = np.r_[wl, value]"
   ],
   "metadata": {
    "collapsed": false,
    "pycharm": {
     "name": "#%%\n"
    }
   }
  },
  {
   "cell_type": "markdown",
   "source": [
    "# Scale to recerence?\n",
    "True    all graphs will be shown as difference to the reference\n",
    "False   all graphs will be shown as they are (without referencing the data)"
   ],
   "metadata": {
    "collapsed": false
   }
  },
  {
   "cell_type": "code",
   "execution_count": 5,
   "outputs": [],
   "source": [
    "scale_to_reference = True"
   ],
   "metadata": {
    "collapsed": false,
    "pycharm": {
     "name": "#%%\n"
    }
   }
  },
  {
   "cell_type": "markdown",
   "source": [
    "# MC Steps?\n",
    "All MC simulation include several steps (one step for every parameter in the model). The useage of these steps can be\n",
    "selected here.\n",
    "\n",
    "At the end, all selected parameters needs to be switched on together for the combined uncertainty."
   ],
   "metadata": {
    "collapsed": false
   }
  },
  {
   "cell_type": "code",
   "execution_count": 6,
   "outputs": [],
   "source": [
    "mc_enable = { 'wl_noise_nc': True,\n",
    "              'wl_noise_c': True,\n",
    "              'value_noise_nc': True,\n",
    "              'value_noise_c': True,\n",
    "              'value_fourier_noise':True,\n",
    "              'all': True,\n",
    "              }"
   ],
   "metadata": {
    "collapsed": false,
    "pycharm": {
     "name": "#%%\n"
    }
   }
  },
  {
   "cell_type": "markdown",
   "source": [
    "### Array contining instances of the class SPD to store the results of the MC simulation"
   ],
   "metadata": {
    "collapsed": false
   }
  },
  {
   "cell_type": "code",
   "execution_count": 7,
   "outputs": [],
   "source": [
    "array_mc = np.ndarray((trials,),dtype=object)"
   ],
   "metadata": {
    "collapsed": false,
    "pycharm": {
     "name": "#%%\n"
    }
   }
  },
  {
   "cell_type": "markdown",
   "source": [
    "### Array contining the integral results (here $f_{1}^{'}$ for an scalar output)"
   ],
   "metadata": {
    "collapsed": false
   }
  },
  {
   "cell_type": "code",
   "execution_count": 8,
   "outputs": [],
   "source": [
    "result1 = np.zeros( (3, trials))"
   ],
   "metadata": {
    "collapsed": false,
    "pycharm": {
     "name": "#%%\n"
    }
   }
  },
  {
   "cell_type": "markdown",
   "source": [
    "### Array contining the integral results (here Yxy for a moredimensional  output)"
   ],
   "metadata": {
    "collapsed": false,
    "pycharm": {
     "name": "#%% md\n"
    }
   }
  },
  {
   "cell_type": "code",
   "execution_count": 9,
   "outputs": [],
   "source": [
    "result3 = np.zeros( (3, trials))"
   ],
   "metadata": {
    "collapsed": false,
    "pycharm": {
     "name": "#%%\n"
    }
   }
  },
  {
   "cell_type": "markdown",
   "source": [
    "# Running the MC simulation"
   ],
   "metadata": {
    "collapsed": false
   }
  },
  {
   "cell_type": "code",
   "execution_count": 10,
   "outputs": [],
   "source": [
    "\n",
    "def get_file_name(filenumber):\n",
    "    filename = 'MCTest'+str(filenumber)+'.png'\n",
    "    filenumber += 1\n",
    "    return filename"
   ],
   "metadata": {
    "collapsed": false,
    "pycharm": {
     "name": "#%%\n"
    }
   }
  },
  {
   "cell_type": "code",
   "execution_count": 11,
   "outputs": [
    {
     "name": "stdout",
     "output_type": "stream",
     "text": [
      "i= all\n",
      "Statistic for the wavelength scale\n"
     ]
    },
    {
     "ename": "AttributeError",
     "evalue": "'AxesSubplot' object has no property 'constrained_layout'",
     "output_type": "error",
     "traceback": [
      "\u001B[1;31m---------------------------------------------------------------------------\u001B[0m",
      "\u001B[1;31mAttributeError\u001B[0m                            Traceback (most recent call last)",
      "\u001B[1;32m<ipython-input-11-88b415bffe39>\u001B[0m in \u001B[0;36m<module>\u001B[1;34m\u001B[0m\n\u001B[0;32m     43\u001B[0m         \u001B[0manalyse\u001B[0m \u001B[1;33m=\u001B[0m \u001B[0marray2analyse\u001B[0m\u001B[1;33m(\u001B[0m\u001B[0marray_mc\u001B[0m\u001B[1;33m,\u001B[0m \u001B[0mwavelength_stat\u001B[0m \u001B[1;33m=\u001B[0m \u001B[1;32mFalse\u001B[0m\u001B[1;33m,\u001B[0m \u001B[0mscale_to_ref\u001B[0m\u001B[1;33m=\u001B[0m\u001B[0mscale_to_reference\u001B[0m\u001B[1;33m)\u001B[0m\u001B[1;33m\u001B[0m\u001B[1;33m\u001B[0m\u001B[0m\n\u001B[0;32m     44\u001B[0m         \u001B[0mprint\u001B[0m\u001B[1;33m(\u001B[0m\u001B[1;34m'Statistic for the wavelength scale'\u001B[0m\u001B[1;33m)\u001B[0m\u001B[1;33m\u001B[0m\u001B[1;33m\u001B[0m\u001B[0m\n\u001B[1;32m---> 45\u001B[1;33m         \u001B[0manalyse_stat\u001B[0m\u001B[1;33m(\u001B[0m \u001B[0marray_mc\u001B[0m\u001B[1;33m,\u001B[0m \u001B[0mwavelength_stat\u001B[0m \u001B[1;33m=\u001B[0m \u001B[1;32mTrue\u001B[0m\u001B[1;33m,\u001B[0m \u001B[0mscale_to_ref\u001B[0m\u001B[1;33m=\u001B[0m\u001B[0mscale_to_reference\u001B[0m\u001B[1;33m)\u001B[0m\u001B[1;33m\u001B[0m\u001B[1;33m\u001B[0m\u001B[0m\n\u001B[0m\u001B[0;32m     46\u001B[0m         \u001B[0mplotHistScalesWl\u001B[0m\u001B[1;33m(\u001B[0m \u001B[0manalyse\u001B[0m\u001B[1;33m)\u001B[0m\u001B[1;33m\u001B[0m\u001B[1;33m\u001B[0m\u001B[0m\n\u001B[0;32m     47\u001B[0m \u001B[1;33m\u001B[0m\u001B[0m\n",
      "\u001B[1;32mF:\\TTBV\\Python\\empir19nrm02\\empir19nrm02\\tools\\plotting.py\u001B[0m in \u001B[0;36manalyse_stat\u001B[1;34m(spectrum_mc, wavelength_stat, scale_to_ref)\u001B[0m\n\u001B[0;32m    141\u001B[0m     \u001B[0mfig\u001B[0m \u001B[1;33m=\u001B[0m \u001B[0mplt\u001B[0m\u001B[1;33m.\u001B[0m\u001B[0mfigure\u001B[0m\u001B[1;33m(\u001B[0m\u001B[0mfigsize\u001B[0m\u001B[1;33m=\u001B[0m\u001B[1;33m(\u001B[0m\u001B[1;36m10\u001B[0m\u001B[1;33m,\u001B[0m \u001B[1;36m10\u001B[0m\u001B[1;33m)\u001B[0m\u001B[1;33m)\u001B[0m\u001B[1;33m\u001B[0m\u001B[1;33m\u001B[0m\u001B[0m\n\u001B[0;32m    142\u001B[0m \u001B[1;33m\u001B[0m\u001B[0m\n\u001B[1;32m--> 143\u001B[1;33m     \u001B[0max1\u001B[0m \u001B[1;33m=\u001B[0m \u001B[0mplt\u001B[0m\u001B[1;33m.\u001B[0m\u001B[0msubplot\u001B[0m\u001B[1;33m(\u001B[0m\u001B[1;36m221\u001B[0m\u001B[1;33m,\u001B[0m \u001B[0mconstrained_layout\u001B[0m\u001B[1;33m=\u001B[0m\u001B[1;32mTrue\u001B[0m\u001B[1;33m)\u001B[0m\u001B[1;33m\u001B[0m\u001B[1;33m\u001B[0m\u001B[0m\n\u001B[0m\u001B[0;32m    144\u001B[0m     \u001B[0max2\u001B[0m \u001B[1;33m=\u001B[0m \u001B[0mplt\u001B[0m\u001B[1;33m.\u001B[0m\u001B[0msubplot\u001B[0m\u001B[1;33m(\u001B[0m\u001B[1;36m222\u001B[0m\u001B[1;33m,\u001B[0m \u001B[0mconstrained_layout\u001B[0m\u001B[1;33m=\u001B[0m\u001B[1;32mTrue\u001B[0m\u001B[1;33m)\u001B[0m\u001B[1;33m\u001B[0m\u001B[1;33m\u001B[0m\u001B[0m\n\u001B[0;32m    145\u001B[0m     \u001B[0max3\u001B[0m \u001B[1;33m=\u001B[0m \u001B[0mplt\u001B[0m\u001B[1;33m.\u001B[0m\u001B[0msubplot\u001B[0m\u001B[1;33m(\u001B[0m\u001B[1;36m212\u001B[0m\u001B[1;33m,\u001B[0m \u001B[0mconstrained_layout\u001B[0m\u001B[1;33m=\u001B[0m\u001B[1;32mTrue\u001B[0m\u001B[1;33m)\u001B[0m\u001B[1;33m\u001B[0m\u001B[1;33m\u001B[0m\u001B[0m\n",
      "\u001B[1;32m~\\anaconda3\\lib\\site-packages\\matplotlib\\pyplot.py\u001B[0m in \u001B[0;36msubplot\u001B[1;34m(*args, **kwargs)\u001B[0m\n\u001B[0;32m   1140\u001B[0m \u001B[1;33m\u001B[0m\u001B[0m\n\u001B[0;32m   1141\u001B[0m     \u001B[0mfig\u001B[0m \u001B[1;33m=\u001B[0m \u001B[0mgcf\u001B[0m\u001B[1;33m(\u001B[0m\u001B[1;33m)\u001B[0m\u001B[1;33m\u001B[0m\u001B[1;33m\u001B[0m\u001B[0m\n\u001B[1;32m-> 1142\u001B[1;33m     \u001B[0max\u001B[0m \u001B[1;33m=\u001B[0m \u001B[0mfig\u001B[0m\u001B[1;33m.\u001B[0m\u001B[0madd_subplot\u001B[0m\u001B[1;33m(\u001B[0m\u001B[1;33m*\u001B[0m\u001B[0margs\u001B[0m\u001B[1;33m,\u001B[0m \u001B[1;33m**\u001B[0m\u001B[0mkwargs\u001B[0m\u001B[1;33m)\u001B[0m\u001B[1;33m\u001B[0m\u001B[1;33m\u001B[0m\u001B[0m\n\u001B[0m\u001B[0;32m   1143\u001B[0m     \u001B[0mbbox\u001B[0m \u001B[1;33m=\u001B[0m \u001B[0max\u001B[0m\u001B[1;33m.\u001B[0m\u001B[0mbbox\u001B[0m\u001B[1;33m\u001B[0m\u001B[1;33m\u001B[0m\u001B[0m\n\u001B[0;32m   1144\u001B[0m     \u001B[0maxes_to_delete\u001B[0m \u001B[1;33m=\u001B[0m \u001B[1;33m[\u001B[0m\u001B[1;33m]\u001B[0m\u001B[1;33m\u001B[0m\u001B[1;33m\u001B[0m\u001B[0m\n",
      "\u001B[1;32m~\\anaconda3\\lib\\site-packages\\matplotlib\\figure.py\u001B[0m in \u001B[0;36madd_subplot\u001B[1;34m(self, *args, **kwargs)\u001B[0m\n\u001B[0;32m   1400\u001B[0m                     \u001B[1;31m# more similar to add_axes.\u001B[0m\u001B[1;33m\u001B[0m\u001B[1;33m\u001B[0m\u001B[1;33m\u001B[0m\u001B[0m\n\u001B[0;32m   1401\u001B[0m                     \u001B[0mself\u001B[0m\u001B[1;33m.\u001B[0m\u001B[0m_axstack\u001B[0m\u001B[1;33m.\u001B[0m\u001B[0mremove\u001B[0m\u001B[1;33m(\u001B[0m\u001B[0max\u001B[0m\u001B[1;33m)\u001B[0m\u001B[1;33m\u001B[0m\u001B[1;33m\u001B[0m\u001B[0m\n\u001B[1;32m-> 1402\u001B[1;33m             \u001B[0max\u001B[0m \u001B[1;33m=\u001B[0m \u001B[0msubplot_class_factory\u001B[0m\u001B[1;33m(\u001B[0m\u001B[0mprojection_class\u001B[0m\u001B[1;33m)\u001B[0m\u001B[1;33m(\u001B[0m\u001B[0mself\u001B[0m\u001B[1;33m,\u001B[0m \u001B[1;33m*\u001B[0m\u001B[0margs\u001B[0m\u001B[1;33m,\u001B[0m \u001B[1;33m**\u001B[0m\u001B[0mkwargs\u001B[0m\u001B[1;33m)\u001B[0m\u001B[1;33m\u001B[0m\u001B[1;33m\u001B[0m\u001B[0m\n\u001B[0m\u001B[0;32m   1403\u001B[0m \u001B[1;33m\u001B[0m\u001B[0m\n\u001B[0;32m   1404\u001B[0m         \u001B[1;32mreturn\u001B[0m \u001B[0mself\u001B[0m\u001B[1;33m.\u001B[0m\u001B[0m_add_axes_internal\u001B[0m\u001B[1;33m(\u001B[0m\u001B[0mkey\u001B[0m\u001B[1;33m,\u001B[0m \u001B[0max\u001B[0m\u001B[1;33m)\u001B[0m\u001B[1;33m\u001B[0m\u001B[1;33m\u001B[0m\u001B[0m\n",
      "\u001B[1;32m~\\anaconda3\\lib\\site-packages\\matplotlib\\axes\\_subplots.py\u001B[0m in \u001B[0;36m__init__\u001B[1;34m(self, fig, *args, **kwargs)\u001B[0m\n\u001B[0;32m     40\u001B[0m         \u001B[0mself\u001B[0m\u001B[1;33m.\u001B[0m\u001B[0mupdate_params\u001B[0m\u001B[1;33m(\u001B[0m\u001B[1;33m)\u001B[0m\u001B[1;33m\u001B[0m\u001B[1;33m\u001B[0m\u001B[0m\n\u001B[0;32m     41\u001B[0m         \u001B[1;31m# _axes_class is set in the subplot_class_factory\u001B[0m\u001B[1;33m\u001B[0m\u001B[1;33m\u001B[0m\u001B[1;33m\u001B[0m\u001B[0m\n\u001B[1;32m---> 42\u001B[1;33m         \u001B[0mself\u001B[0m\u001B[1;33m.\u001B[0m\u001B[0m_axes_class\u001B[0m\u001B[1;33m.\u001B[0m\u001B[0m__init__\u001B[0m\u001B[1;33m(\u001B[0m\u001B[0mself\u001B[0m\u001B[1;33m,\u001B[0m \u001B[0mfig\u001B[0m\u001B[1;33m,\u001B[0m \u001B[0mself\u001B[0m\u001B[1;33m.\u001B[0m\u001B[0mfigbox\u001B[0m\u001B[1;33m,\u001B[0m \u001B[1;33m**\u001B[0m\u001B[0mkwargs\u001B[0m\u001B[1;33m)\u001B[0m\u001B[1;33m\u001B[0m\u001B[1;33m\u001B[0m\u001B[0m\n\u001B[0m\u001B[0;32m     43\u001B[0m         \u001B[1;31m# add a layout box to this, for both the full axis, and the poss\u001B[0m\u001B[1;33m\u001B[0m\u001B[1;33m\u001B[0m\u001B[1;33m\u001B[0m\u001B[0m\n\u001B[0;32m     44\u001B[0m         \u001B[1;31m# of the axis.  We need both because the axes may become smaller\u001B[0m\u001B[1;33m\u001B[0m\u001B[1;33m\u001B[0m\u001B[1;33m\u001B[0m\u001B[0m\n",
      "\u001B[1;32m~\\anaconda3\\lib\\site-packages\\matplotlib\\axes\\_base.py\u001B[0m in \u001B[0;36m__init__\u001B[1;34m(self, fig, rect, facecolor, frameon, sharex, sharey, label, xscale, yscale, box_aspect, **kwargs)\u001B[0m\n\u001B[0;32m    523\u001B[0m             \u001B[0mself\u001B[0m\u001B[1;33m.\u001B[0m\u001B[0mset_yscale\u001B[0m\u001B[1;33m(\u001B[0m\u001B[0myscale\u001B[0m\u001B[1;33m)\u001B[0m\u001B[1;33m\u001B[0m\u001B[1;33m\u001B[0m\u001B[0m\n\u001B[0;32m    524\u001B[0m \u001B[1;33m\u001B[0m\u001B[0m\n\u001B[1;32m--> 525\u001B[1;33m         \u001B[0mself\u001B[0m\u001B[1;33m.\u001B[0m\u001B[0mupdate\u001B[0m\u001B[1;33m(\u001B[0m\u001B[0mkwargs\u001B[0m\u001B[1;33m)\u001B[0m\u001B[1;33m\u001B[0m\u001B[1;33m\u001B[0m\u001B[0m\n\u001B[0m\u001B[0;32m    526\u001B[0m \u001B[1;33m\u001B[0m\u001B[0m\n\u001B[0;32m    527\u001B[0m         \u001B[1;32mif\u001B[0m \u001B[0mself\u001B[0m\u001B[1;33m.\u001B[0m\u001B[0mxaxis\u001B[0m \u001B[1;32mis\u001B[0m \u001B[1;32mnot\u001B[0m \u001B[1;32mNone\u001B[0m\u001B[1;33m:\u001B[0m\u001B[1;33m\u001B[0m\u001B[1;33m\u001B[0m\u001B[0m\n",
      "\u001B[1;32m~\\anaconda3\\lib\\site-packages\\matplotlib\\artist.py\u001B[0m in \u001B[0;36mupdate\u001B[1;34m(self, props)\u001B[0m\n\u001B[0;32m    994\u001B[0m                     \u001B[0mfunc\u001B[0m \u001B[1;33m=\u001B[0m \u001B[0mgetattr\u001B[0m\u001B[1;33m(\u001B[0m\u001B[0mself\u001B[0m\u001B[1;33m,\u001B[0m \u001B[1;34mf\"set_{k}\"\u001B[0m\u001B[1;33m,\u001B[0m \u001B[1;32mNone\u001B[0m\u001B[1;33m)\u001B[0m\u001B[1;33m\u001B[0m\u001B[1;33m\u001B[0m\u001B[0m\n\u001B[0;32m    995\u001B[0m                     \u001B[1;32mif\u001B[0m \u001B[1;32mnot\u001B[0m \u001B[0mcallable\u001B[0m\u001B[1;33m(\u001B[0m\u001B[0mfunc\u001B[0m\u001B[1;33m)\u001B[0m\u001B[1;33m:\u001B[0m\u001B[1;33m\u001B[0m\u001B[1;33m\u001B[0m\u001B[0m\n\u001B[1;32m--> 996\u001B[1;33m                         raise AttributeError(f\"{type(self).__name__!r} object \"\n\u001B[0m\u001B[0;32m    997\u001B[0m                                              f\"has no property {k!r}\")\n\u001B[0;32m    998\u001B[0m                     \u001B[0mret\u001B[0m\u001B[1;33m.\u001B[0m\u001B[0mappend\u001B[0m\u001B[1;33m(\u001B[0m\u001B[0mfunc\u001B[0m\u001B[1;33m(\u001B[0m\u001B[0mv\u001B[0m\u001B[1;33m)\u001B[0m\u001B[1;33m)\u001B[0m\u001B[1;33m\u001B[0m\u001B[1;33m\u001B[0m\u001B[0m\n",
      "\u001B[1;31mAttributeError\u001B[0m: 'AxesSubplot' object has no property 'constrained_layout'"
     ]
    },
    {
     "data": {
      "text/plain": "<Figure size 720x720 with 0 Axes>"
     },
     "metadata": {},
     "output_type": "display_data"
    }
   ],
   "source": [
    "filenumber = 0\n",
    "\n",
    "for iMC in ['all']:\n",
    "#for iMC in mc_enable:\n",
    "    # do nothing if a contribution is not enabled\n",
    "    if mc_enable[iMC] == False: continue\n",
    "\n",
    "    # initialise the result data arrays\n",
    "    result1.fill(0)\n",
    "    result3.fill(0)\n",
    "\n",
    "    # init the spectral array with the reference distribution to add some noise later on\n",
    "    for i in range(trials):\n",
    "        array_mc[i] = McSpectrumX(spd_init)\n",
    "\n",
    "    # for all trials\n",
    "    for i in range(0, trials):\n",
    "        # no noise for the first item as reference for later investigations\n",
    "        if i != 0:\n",
    "            if mc_enable['wl_noise_nc'] and (iMC == 'wl_noise_nc' or iMC == 'all'):\n",
    "                array_mc[i].add_wl_noise_nc( 0., 1., distribution='uniform')\n",
    "            if mc_enable['wl_noise_c'] and (iMC == 'wl_noise_c' or iMC == 'all'):\n",
    "                array_mc[i].add_wl_noise_c( 0., 1., distribution='uniform')\n",
    "            if mc_enable['value_noise_nc'] and (iMC == 'value_noise_nc' or iMC == 'all'):\n",
    "                array_mc[i].add_value_noise_nc( 0., 0.01, distribution='normal')\n",
    "            if mc_enable['value_noise_c'] and (iMC == 'value_noise_c' or iMC == 'all'):\n",
    "                array_mc[i].add_value_noise_c( 0., 0.01, distribution='normal')\n",
    "            if mc_enable['value_fourier_noise'] and (iMC == 'value_fourier_noise' or iMC == 'all'):\n",
    "                array_mc[i].add_value_fourier_noise( array_mc[0], 1, stddev=0.01)\n",
    "\n",
    "        # calculate some sample integral data from the generated distribution\n",
    "\n",
    "        [result1[0, i], _] = py_f1PrimeG(array_mc[i].spd.wl, array_mc[i].spd.value, strWeighting='A')\n",
    "        [result1[1, i], _] = py_f1PrimeG(array_mc[i].spd.wl, array_mc[i].spd.value, strWeighting='LED_B3')\n",
    "        [result1[2, i], _] = py_f1PrimeG(array_mc[i].spd.wl, array_mc[i].spd.value, strWeighting='E', dCutOff=-0.003)\n",
    "        result3[:,i] = lx.xyz_to_Yxy(array_mc[i].spd.to_xyz(relative=False).value)\n",
    "\n",
    "\n",
    "    print(\"i=\", iMC)\n",
    "\n",
    "    if iMC=='all':\n",
    "        # Show all the graphs only for the final result\n",
    "        analyse = array2analyse(array_mc, wavelength_stat = False, scale_to_ref=scale_to_reference)\n",
    "        print('Statistic for the wavelength scale')\n",
    "        analyse_stat( array_mc, wavelength_stat = True, scale_to_ref=scale_to_reference)\n",
    "        plotHistScalesWl( analyse)\n",
    "\n",
    "        print('Statistic for the value scale')\n",
    "        analyse_stat( array_mc, wavelength_stat = False, scale_to_ref=scale_to_reference)\n",
    "        plotHistScalesValue( analyse)\n",
    "\n",
    "        print('Statistic for the scalar result')\n",
    "        plotHistScales( 100.*result1, title = \"result statistics\", xLabel=\"$f_{1}^{'} / \\%$\")\n",
    "        seaborn_plot_result( result3)"
   ],
   "metadata": {
    "collapsed": false,
    "pycharm": {
     "name": "#%%\n"
    }
   }
  },
  {
   "cell_type": "code",
   "execution_count": null,
   "id": "a641e62a",
   "metadata": {},
   "outputs": [],
   "source": [
    "seaborn_plot_basedata(array_mc, wavelength_to_observe = 450, filename=get_file_name(filenumber))\n",
    "filenumber+=1\n",
    "seaborn_plot_basedata(array_mc, wavelength_to_observe = 550, filename=get_file_name(filenumber))\n",
    "filenumber+=1\n",
    "seaborn_plot_basedata(array_mc, wavelength_to_observe = 650, filename=get_file_name(filenumber))\n",
    "filenumber+=1"
   ]
  },
  {
   "cell_type": "code",
   "execution_count": null,
   "id": "0c16fc12-1904-47ab-9abb-325f3a03b23b",
   "metadata": {},
   "outputs": [],
   "source": [
    "seaborn_plot_result( result3, filename=get_file_name(filenumber))\n",
    "filenumber+=1"
   ]
  },
  {
   "cell_type": "code",
   "execution_count": null,
   "outputs": [],
   "source": [
    "import seaborn as sns\n",
    "import pandas as pd\n",
    "\n",
    "def seaborn_plot_result_f1prime(loc_result):\n",
    "    disp_array_count = loc_result.shape[1]\n",
    "    step=1\n",
    "    disp_array = np.zeros((3, disp_array_count - 1))\n",
    "    for i in range(disp_array_count - 1):\n",
    "        disp_array[0, i] = loc_result[0, i * step + 1] - loc_result[0, 0]\n",
    "        disp_array[1, i] = loc_result[1, i * step + 1] - loc_result[1, 0]\n",
    "        disp_array[2, i] = loc_result[2, i * step + 1] - loc_result[2, 0]\n",
    "\n",
    "    sns.set_theme(style=\"ticks\")\n",
    "    df = pd.DataFrame(data=disp_array.T, columns=['$\\Delta f_{1}^{´}$', '$\\Delta f_{1,\\mathrm{LED}}^{´}$', '$\\Delta f_{1,\\mathrm{R}}^{´´}$'])\n",
    "    grid = sns.pairplot(df, corner=True)"
   ],
   "metadata": {
    "collapsed": false,
    "pycharm": {
     "name": "#%%\n"
    }
   }
  },
  {
   "cell_type": "code",
   "execution_count": null,
   "outputs": [],
   "source": [
    "seaborn_plot_result_f1prime( result1)\n",
    "save_fig( 'MCf1Results')"
   ],
   "metadata": {
    "collapsed": false,
    "pycharm": {
     "name": "#%%\n"
    }
   }
  },
  {
   "cell_type": "code",
   "execution_count": null,
   "outputs": [],
   "source": [
    "#mcComponents = 4\n",
    "#\n",
    "#array = np.ndarray((trials,),dtype=object)\n",
    "#for i in range(trials):\n",
    "#    array[i] = McSpectrumX(spd_init)\n",
    "#\n",
    "#for iMC in range(mcComponents):\n",
    "#    for jMC in range(iMC,mcComponents):\n",
    "#        print (iMC, jMC)\n",
    "#        str = 'MCFile_{}_{}'\n",
    "#        fileName = str.format(iMC, jMC)\n",
    "#        np.save( fileName, array)\n",
    "#\n"
   ],
   "metadata": {
    "collapsed": false,
    "pycharm": {
     "name": "#%%\n"
    }
   }
  }
 ],
 "metadata": {
  "kernelspec": {
   "name": "python3",
   "language": "python",
   "display_name": "Python 3"
  },
  "language_info": {
   "codemirror_mode": {
    "name": "ipython",
    "version": 3
   },
   "file_extension": ".py",
   "mimetype": "text/x-python",
   "name": "python",
   "nbconvert_exporter": "python",
   "pygments_lexer": "ipython3",
   "version": "3.8.8"
  }
 },
 "nbformat": 4,
 "nbformat_minor": 5
}