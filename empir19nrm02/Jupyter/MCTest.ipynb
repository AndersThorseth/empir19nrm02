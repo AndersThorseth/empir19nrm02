{
 "cells": [
  {
   "cell_type": "markdown",
   "source": [
    "# Test for spectral MC Simulations"
   ],
   "metadata": {
    "collapsed": false
   }
  },
  {
   "cell_type": "code",
   "execution_count": 1,
   "id": "e36582b0",
   "metadata": {},
   "outputs": [],
   "source": [
    "import luxpy as lx\n",
    "import numpy as np\n",
    "import matplotlib.pyplot as plt\n",
    "%matplotlib inline\n",
    "\n",
    "import empir19nrm02 as empir\n",
    "\n",
    "from empir19nrm02.spectral import McSpectrumX\n",
    "from empir19nrm02.tools import sumMC, draw_values_gum\n",
    "from empir19nrm02.f1prime import py_f1PrimeG"
   ]
  },
  {
   "cell_type": "markdown",
   "source": [
    "# Parameter for Standard $f_{1}^{'}$"
   ],
   "metadata": {
    "collapsed": false,
    "pycharm": {
     "name": "#%% md\n"
    }
   }
  },
  {
   "cell_type": "code",
   "execution_count": 2,
   "outputs": [],
   "source": [
    "strWeighting = 'A'\n",
    "strObserver = '1931_2'\n",
    "iObserverOffset = 1\n",
    "wlResolution = 5\n",
    "wlStart = 380\n",
    "wlStop = 780\n",
    "trials = 10000"
   ],
   "metadata": {
    "collapsed": false,
    "pycharm": {
     "name": "#%%\n"
    }
   }
  },
  {
   "cell_type": "code",
   "execution_count": 3,
   "id": "69d500da",
   "metadata": {},
   "outputs": [],
   "source": [
    "def plotHistScales( data, fig=None, ax=None, bins=50, density=True,\n",
    "             title='Title', xLabel='xLabel', yLabel=None):\n",
    "    plt.hist(data[1:], bins=bins, density=density)\n",
    "    plt.xlabel(xLabel)\n",
    "    plt.title(title)\n",
    "    if yLabel is None:         \n",
    "        plt.ylabel('Probability')\n",
    "    else:\n",
    "        plt.ylabel(yLabel)\n",
    "    \n",
    "    # stat over all\n",
    "    [value, interval] = sumMC(data, Coverage=0.95)\n",
    "   \n",
    "    plt.axvline(interval[0])\n",
    "    plt.axvline(interval[1])\n",
    "    plt.show()\n",
    "    print( 'Value=', value, 'Inteval(95%)=', interval[1]-interval[0])\n",
    "\n",
    "def plotHistScalesWl( data, fig=None, ax=None, bins=50, density=True,\n",
    "              title =  'Histogram of wavelength scale',\n",
    "              xLabel = '$\\Delta \\lambda / nm$'):\n",
    "    plotHistScales( data,fig=fig, bins=bins, density=density, title=title, xLabel=xLabel)        \n",
    "\n",
    "def plotHistScalesValue( data, fig=None, ax=None, bins=50, density=True,\n",
    "              title =  'Histogram of value scale',\n",
    "              xLabel = '$\\Delta y / a.u.$'):\n",
    "    plotHistScales( data, fig=fig, ax=ax, bins=bins, density=density, title=title, xLabel=xLabel)        \n"
   ]
  },
  {
   "cell_type": "code",
   "execution_count": 4,
   "id": "0d4a03f4",
   "metadata": {},
   "outputs": [],
   "source": [
    "# Noch nicht alle Argumente implementiert - teilweise nur angedacht!\n",
    "def analyse_stat( spectrumMC, fig=None, ax=None, scalewl=True, scaleValue=False):\n",
    "    _trials=len( spectrumMC)-1\n",
    "    _res=len(spectrumMC[0].spd.wl)\n",
    "    analyse = np.zeros( (_trials, res))\n",
    "    for i in range(_trials):\n",
    "        if scalewl == True: \n",
    "            analyse[i]=spectrumMC[i+1].spd.wl - spectrumMC[0].spd.wl\n",
    "        if scaleValue == True:\n",
    "            analyse[i]=spectrumMC[i+1].spd.value - spectrumMC[0].spd.value\n",
    "    statData = np.zeros( (res, 2))\n",
    "    statData[:,0] = np.mean(analyse, axis=0)\n",
    "    statData[:,1] = np.std(analyse, axis=0)\n",
    "    corrData = np.corrcoef(analyse.T)\n",
    "    \n",
    "\n",
    "    if fig is None:\n",
    "        fig1, ax = plt.subplots()\n",
    "    else:\n",
    "        fig1 = fig\n",
    "    color = 'tab:red'\n",
    "    ax.set_xlabel('$\\lambda / nm$')\n",
    "    ax.set_ylabel('$\\mu$', color=color)\n",
    "    ax.plot(spectrumMC[0].spd.wl, statData[:,0], color=color)\n",
    "    ax.tick_params(axis='y', labelcolor=color)\n",
    "\n",
    "    ax2 = ax.twinx()  # instantiate a second axes that shares the same x-axis\n",
    "    color = 'tab:blue'\n",
    "    ax2.set_ylabel('$\\sigma$', color=color)  # we already handled the x-label with ax1\n",
    "    ax2.plot(spectrumMC[0].spd.wl, statData[:,1], color=color)\n",
    "    ax2.tick_params(axis='y', labelcolor=color)\n",
    "\n",
    "    fig1.tight_layout()  # otherwise the right y-label is slightly clipped\n",
    "    \n",
    "    if scalewl == True:\n",
    "        plt.title('Data Statistics Wavelength')\n",
    "    else:\n",
    "        plt.title('Data Statistics Value')\n",
    "    if fig is None:\n",
    "        plt.show()\n",
    "\n",
    "    \n",
    "    plt.hist(analyse, bins=50, density=True)\n",
    "    if scalewl == True:\n",
    "        plotHistScalesWl( analyse)\n",
    "    else:\n",
    "        plotHistScalesValue( analyse)\n",
    "\n",
    "    cax = plt.imshow(corrData, vmin=-1, vmax=1, cmap=\"jet\", interpolation=\"nearest\")\n",
    "    plt.colorbar(cax, ticks=[-1, -0.75, -0.5, -0.25, 0, 0.25, 0.5, 0.75, 1])    \n",
    "    plt.show()"
   ]
  },
  {
   "cell_type": "code",
   "execution_count": 7,
   "id": "8bd36600",
   "metadata": {},
   "outputs": [
    {
     "name": "stdout",
     "output_type": "stream",
     "text": [
      "i= wl_noise_nc\n"
     ]
    },
    {
     "data": {
      "text/plain": "<Figure size 432x288 with 1 Axes>",
      "image/png": "[encoded data removed]"
     },
     "metadata": {
      "needs_background": "light"
     },
     "output_type": "display_data"
    },
    {
     "name": "stdout",
     "output_type": "stream",
     "text": [
      "Value= [1.6318849401323503, 0.16433824192128607] Inteval(95%)= 0.6410699382395137\n",
      "i= wl_noise_c\n"
     ]
    },
    {
     "data": {
      "text/plain": "<Figure size 432x288 with 1 Axes>",
      "image/png": "[encoded data removed]"
     },
     "metadata": {
      "needs_background": "light"
     },
     "output_type": "display_data"
    },
    {
     "name": "stdout",
     "output_type": "stream",
     "text": [
      "Value= [1.6507692374667131, 0.9610608011623339] Inteval(95%)= 3.160233202318753\n",
      "i= value_noise_nc\n"
     ]
    },
    {
     "data": {
      "text/plain": "<Figure size 432x288 with 1 Axes>",
      "image/png": "[encoded data removed]"
     },
     "metadata": {
      "needs_background": "light"
     },
     "output_type": "display_data"
    },
    {
     "name": "stdout",
     "output_type": "stream",
     "text": [
      "Value= [3.0411689611462673, 0.2795932489726314] Inteval(95%)= 1.0998512875715138\n",
      "i= value_noise_c\n"
     ]
    },
    {
     "data": {
      "text/plain": "<Figure size 432x288 with 1 Axes>",
      "image/png": "[encoded data removed]"
     },
     "metadata": {
      "needs_background": "light"
     },
     "output_type": "display_data"
    },
    {
     "name": "stdout",
     "output_type": "stream",
     "text": [
      "Value= [3.8593754463098007, 2.9150793700967963] Inteval(95%)= 10.599111007967807\n",
      "i= all\n"
     ]
    },
    {
     "data": {
      "text/plain": "<Figure size 432x288 with 1 Axes>",
      "image/png": "[encoded data removed]"
     },
     "metadata": {
      "needs_background": "light"
     },
     "output_type": "display_data"
    },
    {
     "name": "stdout",
     "output_type": "stream",
     "text": [
      "Value= [4.489515528959024, 2.632414972556838] Inteval(95%)= 10.215660894844612\n"
     ]
    }
   ],
   "source": [
    "lxCmf = lx._CMF['1931_2']\n",
    "lxCmfInterpolate = lx.cie_interp(lxCmf['bar'], \\\n",
    "    wl_new = np.arange(wlStart,wlStop+1,wlResolution),\\\n",
    "    kind = 'S')\n",
    "res = len(lxCmfInterpolate[0])\n",
    "\n",
    "wl=lxCmfInterpolate[0].reshape(1,res)\n",
    "value=lxCmfInterpolate[2].reshape(1,res)\n",
    "spd_init = np.r_[wl, value]\n",
    "\n",
    "mcComponents = 1\n",
    "\n",
    "mc_enable = { 'wl_noise_nc': True,\n",
    "              'wl_noise_c': True,\n",
    "              'value_noise_nc': True,\n",
    "              'value_noise_c': True,\n",
    "              'all': True,\n",
    "              }\n",
    "\n",
    "for iMC in mc_enable:\n",
    "    if mc_enable[iMC] == False: continue\n",
    "\n",
    "    array = np.ndarray((trials,),dtype=object)\n",
    "    result = np.zeros( trials)\n",
    "\n",
    "    for i in range(trials):\n",
    "        array[i] = McSpectrumX(spd_init)\n",
    "\n",
    "    #left the first one without noise\n",
    "    result[0] = py_f1PrimeG( array[0].spd.wl, array[0].spd.value)\n",
    "\n",
    "    if iMC==mcComponents: final_run = True\n",
    "    for i in range(1, trials):\n",
    "        if mc_enable['wl_noise_nc'] and (iMC == 'wl_noise_nc' or iMC == 'all'):\n",
    "            array[i].add_wl_noise_nc(array[0], 0., 1., distribution='uniform')\n",
    "        if mc_enable['wl_noise_c'] and (iMC == 'wl_noise_c' or iMC == 'all'):\n",
    "            array[i].add_wl_noise_c(array[0], 0., 1., distribution='uniform')\n",
    "        if mc_enable['value_noise_nc'] and (iMC == 'value_noise_nc' or iMC == 'all'):\n",
    "            array[i].add_value_noise_nc(array[0], 0., 0.01, distribution='normal')\n",
    "        if mc_enable['value_noise_c'] and (iMC == 'value_noise_c' or iMC == 'all'):\n",
    "            array[i].add_value_noise_c(array[0], 0., 0.01, distribution='normal')\n",
    "\n",
    "        result[i] = py_f1PrimeG(array[i].spd.wl, array[i].spd.value)\n",
    "\n",
    "    print(\"i=\", iMC)-\n",
    "    #analyse_stat( array, scalewl=True, scaleValue=False)\n",
    "    #analyse_stat( array, scalewl=False, scaleValue=True)\n",
    "\n",
    "    plotHistScales( 100.*result, title = \"result statistics\", xLabel=\"$f_{1}^{'} / \\%$\")\n"
   ]
  },
  {
   "cell_type": "code",
   "execution_count": 6,
   "id": "a641e62a",
   "metadata": {},
   "outputs": [
    {
     "name": "stdout",
     "output_type": "stream",
     "text": [
      "0 0\n"
     ]
    },
    {
     "name": "stderr",
     "output_type": "stream",
     "text": [
      "<ipython-input-6-ac057c705156>:3: DeprecationWarning: `np.object` is a deprecated alias for the builtin `object`. To silence this warning, use `object` by itself. Doing this will not modify any behavior and is safe. \n",
      "Deprecated in NumPy 1.20; for more details and guidance: https://numpy.org/devdocs/release/1.20.0-notes.html#deprecations\n",
      "  array = np.ndarray((trials,),dtype=np.object)\n"
     ]
    },
    {
     "name": "stdout",
     "output_type": "stream",
     "text": [
      "0 1\n",
      "0 2\n",
      "0 3\n",
      "1 1\n",
      "1 2\n",
      "1 3\n",
      "2 2\n",
      "2 3\n",
      "3 3\n"
     ]
    }
   ],
   "source": [
    "mcComponents = 4\n",
    "    \n",
    "array = np.ndarray((trials,),dtype=np.object)\n",
    "for i in range(trials):\n",
    "    array[i] = McSpectrumX(spd_init)\n",
    "\n",
    "for iMC in range(mcComponents):\n",
    "    for jMC in range(iMC,mcComponents):\n",
    "        print (iMC, jMC)\n",
    "        str = 'MCFile_{}_{}'\n",
    "        fileName = str.format(iMC, jMC)\n",
    "        np.save( fileName, array)"
   ]
  },
  {
   "cell_type": "code",
   "execution_count": 6,
   "id": "0c16fc12-1904-47ab-9abb-325f3a03b23b",
   "metadata": {},
   "outputs": [],
   "source": []
  }
 ],
 "metadata": {
  "kernelspec": {
   "display_name": "Python 3",
   "language": "python",
   "name": "python3"
  },
  "language_info": {
   "codemirror_mode": {
    "name": "ipython",
    "version": 3
   },
   "file_extension": ".py",
   "mimetype": "text/x-python",
   "name": "python",
   "nbconvert_exporter": "python",
   "pygments_lexer": "ipython3",
   "version": "3.8.8"
  }
 },
 "nbformat": 4,
 "nbformat_minor": 5
}