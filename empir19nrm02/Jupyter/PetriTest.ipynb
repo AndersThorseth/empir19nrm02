{
 "cells": [
  {
   "cell_type": "code",
   "execution_count": 44,
   "id": "c19ce1cf",
   "metadata": {},
   "outputs": [],
   "source": [
    "import numpy as np\n",
    "import math\n",
    "import pythonXLL\n",
    "import luxpy as lx\n",
    "#import MCToolsPTBVMe\n",
    "\n",
    "trials = 100\n",
    "number = 0\n",
    "wl = lx.getwlr([360, 830, 5])"
   ]
  },
  {
   "cell_type": "code",
   "execution_count": 2,
   "id": "c5493610",
   "metadata": {},
   "outputs": [],
   "source": [
    "SPDX = %xl_get -c _SPD2"
   ]
  },
  {
   "cell_type": "code",
   "execution_count": 3,
   "id": "49eecd49",
   "metadata": {},
   "outputs": [
    {
     "data": {
      "text/plain": [
       "(95, 2)"
      ]
     },
     "execution_count": 3,
     "metadata": {},
     "output_type": "execute_result"
    }
   ],
   "source": [
    "SPDX.shape"
   ]
  },
  {
   "cell_type": "code",
   "execution_count": 4,
   "id": "0728a8b6",
   "metadata": {},
   "outputs": [],
   "source": [
    "SPD=SPDX.to_numpy()[:,0]"
   ]
  },
  {
   "cell_type": "code",
   "execution_count": 5,
   "id": "c782e372",
   "metadata": {},
   "outputs": [
    {
     "data": {
      "text/plain": [
       "array([6.1495e-02, 6.9526e-02, 7.8271e-02, 8.7760e-02, 9.8018e-02,\n",
       "       1.0907e-01, 1.2093e-01, 1.3362e-01, 1.4717e-01, 1.6157e-01,\n",
       "       1.7685e-01, 1.9300e-01, 2.1005e-01, 2.2799e-01, 2.4682e-01,\n",
       "       2.6654e-01, 2.8714e-01, 3.0862e-01, 3.3098e-01, 3.5419e-01,\n",
       "       3.7824e-01, 4.0312e-01, 4.2881e-01, 4.5529e-01, 4.8254e-01,\n",
       "       5.1053e-01, 5.3924e-01, 5.6865e-01, 5.9871e-01, 6.2942e-01,\n",
       "       6.6073e-01, 6.9261e-01, 7.2504e-01, 7.5798e-01, 7.9139e-01,\n",
       "       8.2525e-01, 8.5952e-01, 8.9416e-01, 9.2914e-01, 9.6444e-01,\n",
       "       1.0000e+00, 1.0358e+00, 1.0718e+00, 1.1080e+00, 1.1443e+00,\n",
       "       1.1807e+00, 1.2172e+00, 1.2538e+00, 1.2903e+00, 1.3268e+00,\n",
       "       1.3633e+00, 1.3997e+00, 1.4360e+00, 1.4721e+00, 1.5081e+00,\n",
       "       1.5439e+00, 1.5795e+00, 1.6149e+00, 1.6499e+00, 1.6848e+00,\n",
       "       1.7193e+00, 1.7534e+00, 1.7873e+00, 1.8207e+00, 1.8538e+00,\n",
       "       1.8865e+00, 1.9188e+00, 1.9506e+00, 1.9820e+00, 2.0130e+00,\n",
       "       2.0435e+00, 2.0735e+00, 2.1030e+00, 2.1320e+00, 2.1605e+00,\n",
       "       2.1884e+00, 2.2159e+00, 2.2428e+00, 2.2692e+00, 2.2950e+00,\n",
       "       2.3203e+00, 2.3450e+00, 2.3691e+00, 2.3927e+00, 2.4158e+00,\n",
       "       2.4382e+00, 2.4601e+00, 2.4815e+00, 2.5022e+00, 2.5224e+00,\n",
       "       2.5420e+00, 2.5611e+00, 2.5795e+00, 2.5974e+00, 2.6148e+00])"
      ]
     },
     "execution_count": 5,
     "metadata": {},
     "output_type": "execute_result"
    }
   ],
   "source": [
    "SPD"
   ]
  },
  {
   "cell_type": "code",
   "execution_count": 6,
   "id": "5b1abf95",
   "metadata": {},
   "outputs": [
    {
     "data": {
      "text/plain": [
       "(95,)"
      ]
     },
     "execution_count": 6,
     "metadata": {},
     "output_type": "execute_result"
    }
   ],
   "source": [
    "SPD.shape"
   ]
  },
  {
   "cell_type": "code",
   "execution_count": 7,
   "id": "7ebee13d",
   "metadata": {},
   "outputs": [],
   "source": [
    "uSPD=SPDX.to_numpy()[:,1]"
   ]
  },
  {
   "cell_type": "code",
   "execution_count": 8,
   "id": "be489a6d",
   "metadata": {},
   "outputs": [
    {
     "data": {
      "text/plain": [
       "array([1.0000e-02, 1.0000e-02, 1.0000e-02, 1.0000e-02, 1.0000e-02,\n",
       "       1.0000e-02, 1.0000e-02, 1.0000e-02, 1.0000e-02, 1.0000e-02,\n",
       "       1.0000e-02, 1.0000e-02, 1.0000e-02, 1.0000e-02, 1.0000e-02,\n",
       "       1.0000e-02, 1.0000e-02, 1.0000e-02, 1.0000e-02, 1.0000e-02,\n",
       "       1.0000e-02, 1.0000e-02, 1.0000e-02, 1.0000e-02, 1.0000e-02,\n",
       "       1.0000e-02, 1.0000e-02, 1.0000e-02, 1.0000e-02, 1.0000e-02,\n",
       "       1.0000e-02, 1.0000e-02, 1.0000e-02, 1.0000e-02, 1.0000e-02,\n",
       "       1.0000e-02, 1.0000e-02, 1.0000e-02, 1.0000e-02, 1.0000e-02,\n",
       "       1.0000e-02, 1.0000e-02, 1.0000e-02, 1.0000e-02, 1.0000e-02,\n",
       "       1.0000e-02, 1.0000e-02, 1.0000e-02, 1.0000e-02, 1.0000e-02,\n",
       "       1.0000e-02, 1.0000e-02, 1.0000e-02, 1.0000e-02, 1.0000e-02,\n",
       "       1.0000e-02, 1.0000e-02, 1.0000e-02, 1.0000e-02, 1.0000e-02,\n",
       "       1.0000e-02, 1.0000e-02, 1.0000e-02, 1.0000e-02, 1.0000e-02,\n",
       "       1.0000e-02, 1.0000e-02, 1.0000e-02, 1.0000e-02, 1.0000e-02,\n",
       "       1.0000e-02, 1.0000e-02, 1.0000e-02, 1.0000e-02, 1.0000e-02,\n",
       "       1.0000e-02, 1.0000e-02, 1.0000e-02, 1.0000e-02, 1.0000e-02,\n",
       "       1.0000e-02, 1.0000e-02, 1.0000e-02, 1.0000e-02, 1.0000e-02,\n",
       "       1.0000e-02, 1.0000e-02, 1.0000e-02, 1.0000e-02, 1.0000e-02,\n",
       "       1.0000e-02, 1.0000e-02, 1.0000e-02, 1.0000e-02, 1.0000e-02])"
      ]
     },
     "execution_count": 8,
     "metadata": {},
     "output_type": "execute_result"
    }
   ],
   "source": [
    "uSPD"
   ]
  },
  {
   "cell_type": "code",
   "execution_count": 9,
   "id": "0f18ce4c",
   "metadata": {},
   "outputs": [
    {
     "data": {
      "text/plain": [
       "(95,)"
      ]
     },
     "execution_count": 9,
     "metadata": {},
     "output_type": "execute_result"
    }
   ],
   "source": [
    "wl.shape"
   ]
  },
  {
   "cell_type": "code",
   "execution_count": 10,
   "id": "2dd227ef",
   "metadata": {},
   "outputs": [],
   "source": [
    "rMatrix = np.zeros((trials,wl.size))"
   ]
  },
  {
   "cell_type": "code",
   "execution_count": 11,
   "id": "3be03f67",
   "metadata": {},
   "outputs": [
    {
     "data": {
      "text/plain": [
       "(100, 95)"
      ]
     },
     "execution_count": 11,
     "metadata": {},
     "output_type": "execute_result"
    }
   ],
   "source": [
    "rMatrix.shape"
   ]
  },
  {
   "cell_type": "code",
   "execution_count": 12,
   "id": "e2d6746b",
   "metadata": {},
   "outputs": [],
   "source": [
    "rMatrixSPD = np.zeros((trials,wl.size))"
   ]
  },
  {
   "cell_type": "code",
   "execution_count": 13,
   "id": "e551cbea",
   "metadata": {},
   "outputs": [
    {
     "data": {
      "text/plain": [
       "array([[-1.8884e+00],\n",
       "       [1.6747e-01],\n",
       "       [1.2001e+00],\n",
       "       [5.6893e-01],\n",
       "       [9.9973e-01],\n",
       "       [-4.2835e-01],\n",
       "       [2.1993e-01],\n",
       "       [1.0476e+00],\n",
       "       [-8.6668e-01],\n",
       "       [-1.8899e-01],\n",
       "       [-4.5078e-01],\n",
       "       [-1.6532e-01],\n",
       "       [-1.0431e+00],\n",
       "       [4.1748e-01],\n",
       "       [-1.5988e+00],\n",
       "       [4.4779e-01],\n",
       "       [6.0431e-01],\n",
       "       [-1.0804e+00],\n",
       "       [1.1287e+00],\n",
       "       [-5.3196e-01],\n",
       "       [1.2283e+00],\n",
       "       [-3.7949e-01],\n",
       "       [7.4810e-01],\n",
       "       [-5.6122e-01],\n",
       "       [2.3412e+00],\n",
       "       [8.4543e-01],\n",
       "       [6.3131e-01],\n",
       "       [1.9164e+00],\n",
       "       [-1.6670e+00],\n",
       "       [-1.0181e+00],\n",
       "       [2.0403e-01],\n",
       "       [-9.0485e-02],\n",
       "       [7.4365e-01],\n",
       "       [6.2811e-01],\n",
       "       [1.9418e+00],\n",
       "       [-8.0027e-01],\n",
       "       [5.4453e-01],\n",
       "       [9.5466e-01],\n",
       "       [7.9247e-01],\n",
       "       [1.7470e+00],\n",
       "       [-5.6064e-01],\n",
       "       [-1.7157e+00],\n",
       "       [-1.1653e+00],\n",
       "       [3.6518e-01],\n",
       "       [7.9058e-01],\n",
       "       [-2.7053e-01],\n",
       "       [2.1871e-01],\n",
       "       [9.0616e-01],\n",
       "       [2.7058e-01],\n",
       "       [1.0777e+00],\n",
       "       [-1.3852e+00],\n",
       "       [4.5698e-01],\n",
       "       [1.3858e+00],\n",
       "       [1.1397e-01],\n",
       "       [-6.9559e-01],\n",
       "       [1.7489e+00],\n",
       "       [-2.5839e-01],\n",
       "       [-1.1548e+00],\n",
       "       [8.9486e-01],\n",
       "       [1.0225e+00],\n",
       "       [-4.9201e-01],\n",
       "       [-1.9275e+00],\n",
       "       [-8.4749e-02],\n",
       "       [-8.0430e-01],\n",
       "       [-1.0680e+00],\n",
       "       [-1.3297e-01],\n",
       "       [-8.7426e-01],\n",
       "       [-4.0962e-01],\n",
       "       [-2.1100e+00],\n",
       "       [1.5910e+00],\n",
       "       [4.4153e-01],\n",
       "       [-1.7921e+00],\n",
       "       [1.3735e+00],\n",
       "       [9.0049e-01],\n",
       "       [4.5956e-01],\n",
       "       [-2.2441e-01],\n",
       "       [-2.3575e+00],\n",
       "       [6.6900e-01],\n",
       "       [5.8491e-01],\n",
       "       [-1.7533e-01],\n",
       "       [-1.1972e+00],\n",
       "       [3.3568e-01],\n",
       "       [-2.0482e-01],\n",
       "       [-3.0246e-01],\n",
       "       [-2.6175e-02],\n",
       "       [2.9843e-01],\n",
       "       [1.0291e+00],\n",
       "       [7.9524e-01],\n",
       "       [-1.8999e+00],\n",
       "       [2.9433e-01],\n",
       "       [-1.3751e+00],\n",
       "       [-2.4007e+00],\n",
       "       [1.0268e+00],\n",
       "       [-2.7899e-01],\n",
       "       [2.2887e-01],\n",
       "       [1.5469e+00],\n",
       "       [9.8044e-02],\n",
       "       [1.7860e+00],\n",
       "       [6.6786e-01],\n",
       "       [-9.5679e-01]])"
      ]
     },
     "execution_count": 13,
     "metadata": {},
     "output_type": "execute_result"
    }
   ],
   "source": [
    "rGammai = np.random.normal(size=(trials, number+1))\n",
    "rGammai"
   ]
  },
  {
   "cell_type": "code",
   "execution_count": 14,
   "id": "36452765",
   "metadata": {},
   "outputs": [],
   "source": [
    "%xl_set rGammai -c _Test"
   ]
  },
  {
   "cell_type": "code",
   "execution_count": 15,
   "id": "d3212d15",
   "metadata": {},
   "outputs": [
    {
     "data": {
      "text/plain": [
       "array([3.5660e+00, 2.8047e-02, 1.4402e+00, 3.2368e-01, 9.9945e-01,\n",
       "       1.8349e-01, 4.8371e-02, 1.0974e+00, 7.5113e-01, 3.5718e-02,\n",
       "       2.0320e-01, 2.7331e-02, 1.0880e+00, 1.7429e-01, 2.5562e+00,\n",
       "       2.0052e-01, 3.6519e-01, 1.1673e+00, 1.2740e+00, 2.8298e-01,\n",
       "       1.5088e+00, 1.4401e-01, 5.5965e-01, 3.1497e-01, 5.4813e+00,\n",
       "       7.1475e-01, 3.9855e-01, 3.6727e+00, 2.7789e+00, 1.0364e+00,\n",
       "       4.1626e-02, 8.1875e-03, 5.5302e-01, 3.9452e-01, 3.7707e+00,\n",
       "       6.4044e-01, 2.9652e-01, 9.1138e-01, 6.2800e-01, 3.0518e+00,\n",
       "       3.1431e-01, 2.9436e+00, 1.3579e+00, 1.3336e-01, 6.2501e-01,\n",
       "       7.3184e-02, 4.7834e-02, 8.2113e-01, 7.3215e-02, 1.1614e+00,\n",
       "       1.9187e+00, 2.0883e-01, 1.9204e+00, 1.2989e-02, 4.8384e-01,\n",
       "       3.0585e+00, 6.6763e-02, 1.3336e+00, 8.0078e-01, 1.0456e+00,\n",
       "       2.4207e-01, 3.7152e+00, 7.1824e-03, 6.4690e-01, 1.1407e+00,\n",
       "       1.7681e-02, 7.6432e-01, 1.6779e-01, 4.4520e+00, 2.5314e+00,\n",
       "       1.9495e-01, 3.2118e+00, 1.8866e+00, 8.1089e-01, 2.1120e-01,\n",
       "       5.0362e-02, 5.5580e+00, 4.4756e-01, 3.4212e-01, 3.0742e-02,\n",
       "       1.4332e+00, 1.1268e-01, 4.1953e-02, 9.1481e-02, 6.8511e-04,\n",
       "       8.9058e-02, 1.0591e+00, 6.3241e-01, 3.6097e+00, 8.6629e-02,\n",
       "       1.8908e+00, 5.7634e+00, 1.0544e+00, 7.7837e-02, 5.2379e-02,\n",
       "       2.3928e+00, 9.6126e-03, 3.1899e+00, 4.4604e-01, 9.1545e-01])"
      ]
     },
     "execution_count": 15,
     "metadata": {},
     "output_type": "execute_result"
    }
   ],
   "source": [
    "rSum = np.sum(rGammai**2, axis=1)\n",
    "rSum"
   ]
  },
  {
   "cell_type": "code",
   "execution_count": 16,
   "id": "07009ad4",
   "metadata": {},
   "outputs": [],
   "source": [
    "outSum = rSum\n",
    "outSum.resize(trials,1)\n",
    "%xl_set outSum -c _Test2"
   ]
  },
  {
   "cell_type": "markdown",
   "id": "305f17fb",
   "metadata": {},
   "source": [
    "rSum"
   ]
  },
  {
   "cell_type": "code",
   "execution_count": 17,
   "id": "6cd631a2",
   "metadata": {},
   "outputs": [
    {
     "data": {
      "text/plain": [
       "array([1.8884e+00, 1.6747e-01, 1.2001e+00, 5.6893e-01, 9.9973e-01,\n",
       "       4.2835e-01, 2.1993e-01, 1.0476e+00, 8.6668e-01, 1.8899e-01,\n",
       "       4.5078e-01, 1.6532e-01, 1.0431e+00, 4.1748e-01, 1.5988e+00,\n",
       "       4.4779e-01, 6.0431e-01, 1.0804e+00, 1.1287e+00, 5.3196e-01,\n",
       "       1.2283e+00, 3.7949e-01, 7.4810e-01, 5.6122e-01, 2.3412e+00,\n",
       "       8.4543e-01, 6.3131e-01, 1.9164e+00, 1.6670e+00, 1.0181e+00,\n",
       "       2.0403e-01, 9.0485e-02, 7.4365e-01, 6.2811e-01, 1.9418e+00,\n",
       "       8.0027e-01, 5.4453e-01, 9.5466e-01, 7.9247e-01, 1.7470e+00,\n",
       "       5.6064e-01, 1.7157e+00, 1.1653e+00, 3.6518e-01, 7.9058e-01,\n",
       "       2.7053e-01, 2.1871e-01, 9.0616e-01, 2.7058e-01, 1.0777e+00,\n",
       "       1.3852e+00, 4.5698e-01, 1.3858e+00, 1.1397e-01, 6.9559e-01,\n",
       "       1.7489e+00, 2.5839e-01, 1.1548e+00, 8.9486e-01, 1.0225e+00,\n",
       "       4.9201e-01, 1.9275e+00, 8.4749e-02, 8.0430e-01, 1.0680e+00,\n",
       "       1.3297e-01, 8.7426e-01, 4.0962e-01, 2.1100e+00, 1.5910e+00,\n",
       "       4.4153e-01, 1.7921e+00, 1.3735e+00, 9.0049e-01, 4.5956e-01,\n",
       "       2.2441e-01, 2.3575e+00, 6.6900e-01, 5.8491e-01, 1.7533e-01,\n",
       "       1.1972e+00, 3.3568e-01, 2.0482e-01, 3.0246e-01, 2.6175e-02,\n",
       "       2.9843e-01, 1.0291e+00, 7.9524e-01, 1.8999e+00, 2.9433e-01,\n",
       "       1.3751e+00, 2.4007e+00, 1.0268e+00, 2.7899e-01, 2.2887e-01,\n",
       "       1.5469e+00, 9.8044e-02, 1.7860e+00, 6.6786e-01, 9.5679e-01])"
      ]
     },
     "execution_count": 17,
     "metadata": {},
     "output_type": "execute_result"
    }
   ],
   "source": [
    "rSum2 = np.sqrt(np.sum(rGammai**2, axis=1))\n",
    "rSum2"
   ]
  },
  {
   "cell_type": "code",
   "execution_count": 18,
   "id": "02d93668",
   "metadata": {},
   "outputs": [
    {
     "data": {
      "text/plain": [
       "(100,)"
      ]
     },
     "execution_count": 18,
     "metadata": {},
     "output_type": "execute_result"
    }
   ],
   "source": [
    "rSum2.shape"
   ]
  },
  {
   "cell_type": "code",
   "execution_count": null,
   "id": "d00ac677",
   "metadata": {},
   "outputs": [],
   "source": []
  },
  {
   "cell_type": "code",
   "execution_count": 19,
   "id": "286643e1",
   "metadata": {},
   "outputs": [],
   "source": [
    "outSum = rSum2\n",
    "outSum.resize(trials,1)\n",
    "%xl_set outSum -c _Test3"
   ]
  },
  {
   "cell_type": "code",
   "execution_count": 20,
   "id": "0acfeb40",
   "metadata": {},
   "outputs": [
    {
     "data": {
      "text/plain": [
       "(100, 1)"
      ]
     },
     "execution_count": 20,
     "metadata": {},
     "output_type": "execute_result"
    }
   ],
   "source": [
    "rGammai.shape"
   ]
  },
  {
   "cell_type": "code",
   "execution_count": 21,
   "id": "20e49f60",
   "metadata": {},
   "outputs": [
    {
     "data": {
      "text/plain": [
       "(100, 1)"
      ]
     },
     "execution_count": 21,
     "metadata": {},
     "output_type": "execute_result"
    }
   ],
   "source": [
    "rSum2.shape"
   ]
  },
  {
   "cell_type": "code",
   "execution_count": 22,
   "id": "371fbe1e",
   "metadata": {},
   "outputs": [
    {
     "data": {
      "text/plain": [
       "(100, 1)"
      ]
     },
     "execution_count": 22,
     "metadata": {},
     "output_type": "execute_result"
    }
   ],
   "source": [
    "rGammaiN = rGammai/rSum2\n",
    "rGammaiN.shape"
   ]
  },
  {
   "cell_type": "markdown",
   "id": "86c81a28",
   "metadata": {},
   "source": [
    "No normalization for the fully correlated part"
   ]
  },
  {
   "cell_type": "code",
   "execution_count": 27,
   "id": "5b0dc6ed",
   "metadata": {},
   "outputs": [],
   "source": [
    "rGammaiN[:,0] = rGammai[:,0]"
   ]
  },
  {
   "cell_type": "code",
   "execution_count": 26,
   "id": "1b4f7871",
   "metadata": {},
   "outputs": [],
   "source": [
    "%xl_set rGammaiN -c _Test4"
   ]
  },
  {
   "cell_type": "code",
   "execution_count": 27,
   "id": "b50c084e",
   "metadata": {},
   "outputs": [],
   "source": [
    "rPhasei = np.random.uniform(low = 0, high = 2*math.pi, size = (trials,number+1))"
   ]
  },
  {
   "cell_type": "code",
   "execution_count": 28,
   "id": "6456588a",
   "metadata": {},
   "outputs": [
    {
     "data": {
      "text/plain": [
       "(100, 11)"
      ]
     },
     "execution_count": 28,
     "metadata": {},
     "output_type": "execute_result"
    }
   ],
   "source": [
    "rPhasei.shape"
   ]
  },
  {
   "cell_type": "code",
   "execution_count": 29,
   "id": "48284ac0",
   "metadata": {},
   "outputs": [],
   "source": [
    "def py_getBaseFunctions( number, wl, phaseVector):\n",
    "    lambda1 = wl[0]\n",
    "    deltaLambda = wl[wl.size-1]-lambda1\n",
    "    baseFunctions = np.zeros((number+1, wl.size))\n",
    "    for i in range(number+1):\n",
    "        if i==0:\n",
    "            singleBase = np.ones(wl.size)\n",
    "        else:\n",
    "            singleBase = math.sqrt(2)*np.sin(i*(2*math.pi*((wl-lambda1)/(deltaLambda))+phaseVector[i]))\n",
    "        baseFunctions[i,:] = singleBase.transpose()\n",
    "    return baseFunctions.transpose()"
   ]
  },
  {
   "cell_type": "code",
   "execution_count": 30,
   "id": "0e4f38bb",
   "metadata": {},
   "outputs": [],
   "source": [
    " for i in range(trials):\n",
    "    baseFunctions = py_getBaseFunctions( number, wl, rPhasei[i])\n",
    "    deltaSPD = np.dot(baseFunctions, rGammaiN[i].T)\n",
    "    rMatrix[i] = deltaSPD.T\n",
    "    rMatrixSPD[i] = (1.+rMatrix[i]*uSPD)*SPD\n"
   ]
  },
  {
   "cell_type": "code",
   "execution_count": 31,
   "id": "52a91ec7",
   "metadata": {},
   "outputs": [
    {
     "data": {
      "text/plain": [
       "(95, 11)"
      ]
     },
     "execution_count": 31,
     "metadata": {},
     "output_type": "execute_result"
    }
   ],
   "source": [
    "baseFunctions.shape"
   ]
  },
  {
   "cell_type": "code",
   "execution_count": 32,
   "id": "8dd66533",
   "metadata": {},
   "outputs": [
    {
     "data": {
      "text/plain": [
       "(11, 100)"
      ]
     },
     "execution_count": 32,
     "metadata": {},
     "output_type": "execute_result"
    }
   ],
   "source": [
    "rGammaiN.T.shape"
   ]
  },
  {
   "cell_type": "code",
   "execution_count": 33,
   "id": "bf4ca9db",
   "metadata": {},
   "outputs": [
    {
     "data": {
      "text/plain": [
       "array([3.9067e-01, 2.5998e-01, 5.0389e-01, 1.7267e-01, -1.2625e-03,\n",
       "       2.8277e-02, -2.7644e-01, 5.5198e-01, -5.6025e-02, 2.9056e-02,\n",
       "       -3.3194e-01])"
      ]
     },
     "execution_count": 33,
     "metadata": {},
     "output_type": "execute_result"
    }
   ],
   "source": [
    "rGammaiN[0]"
   ]
  },
  {
   "cell_type": "code",
   "execution_count": 34,
   "id": "f9959bcf",
   "metadata": {},
   "outputs": [
    {
     "data": {
      "text/plain": [
       "(95,)"
      ]
     },
     "execution_count": 34,
     "metadata": {},
     "output_type": "execute_result"
    }
   ],
   "source": [
    "deltaSPD.shape"
   ]
  },
  {
   "cell_type": "code",
   "execution_count": 35,
   "id": "c9bf87a6",
   "metadata": {},
   "outputs": [
    {
     "data": {
      "text/plain": [
       "(100, 95)"
      ]
     },
     "execution_count": 35,
     "metadata": {},
     "output_type": "execute_result"
    }
   ],
   "source": [
    "rMatrix.shape"
   ]
  },
  {
   "cell_type": "code",
   "execution_count": 36,
   "id": "180d236e",
   "metadata": {},
   "outputs": [],
   "source": [
    "%xl_set baseFunctions -c _SpecTest1"
   ]
  },
  {
   "cell_type": "code",
   "execution_count": 37,
   "id": "fb854171",
   "metadata": {},
   "outputs": [],
   "source": [
    "deltaSPDTemp =  deltaSPD\n",
    "deltaSPDTemp.resize((wl.size,1)) \n",
    "deltaSPDTemp.shape\n",
    "%xl_set deltaSPDTemp -c _SpecTest2"
   ]
  },
  {
   "cell_type": "code",
   "execution_count": 38,
   "id": "72f5a8c4",
   "metadata": {},
   "outputs": [],
   "source": [
    "%xl_set rMatrix.T -c _SpecTest3"
   ]
  },
  {
   "cell_type": "code",
   "execution_count": 39,
   "id": "3f8324a9",
   "metadata": {},
   "outputs": [],
   "source": [
    "%xl_set rMatrixSPD.T -c _SpecTest4"
   ]
  },
  {
   "cell_type": "code",
   "execution_count": null,
   "id": "48e418ce",
   "metadata": {},
   "outputs": [],
   "source": []
  }
 ],
 "metadata": {
  "kernelspec": {
   "display_name": "Python 3",
   "language": "python",
   "name": "python3"
  },
  "language_info": {
   "codemirror_mode": {
    "name": "ipython",
    "version": 3
   },
   "file_extension": ".py",
   "mimetype": "text/x-python",
   "name": "python",
   "nbconvert_exporter": "python",
   "pygments_lexer": "ipython3",
   "version": "3.8.8"
  }
 },
 "nbformat": 4,
 "nbformat_minor": 5
}
