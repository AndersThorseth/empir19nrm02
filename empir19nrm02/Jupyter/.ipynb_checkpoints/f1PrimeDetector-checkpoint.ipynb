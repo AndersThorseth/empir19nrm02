{
 "cells": [
  {
   "cell_type": "markdown",
   "id": "794339f5-dd97-49be-a6c1-0c2f2c66dda2",
   "metadata": {},
   "source": [
    "### For the use of all luxpy functions used here see:\n",
    "### https://github.com/ksmet1977/luxpy \n",
    "### Tutorial: https://doi.org/10.1080/15502724.2018.1518717 "
   ]
  },
  {
   "cell_type": "markdown",
   "id": "2c10804a",
   "metadata": {},
   "source": [
    "# Some short evalautions for $f_{1}^{'}$ in a more general form"
   ]
  },
  {
   "cell_type": "code",
   "execution_count": 1,
   "id": "863a18da-e3ec-4101-8577-45e2ff30562c",
   "metadata": {
    "jupyter": {
     "source_hidden": true
    },
    "tags": []
   },
   "outputs": [],
   "source": [
    "# Use some packages\n",
    "import luxpy as lx\n",
    "from luxpy.utils import getdata\n",
    "import numpy as np\n",
    "from matplotlib import pyplot\n",
    "from matplotlib import cm\n",
    "from matplotlib.ticker import LinearLocator\n",
    "%matplotlib inline\n",
    "from mpl_toolkits.mplot3d import Axes3D"
   ]
  },
  {
   "cell_type": "code",
   "execution_count": 3,
   "id": "a0d04ee9-ea52-4063-a12b-32e4934e0e1d",
   "metadata": {
    "jupyter": {
     "source_hidden": true
    },
    "tags": []
   },
   "outputs": [
    {
     "ename": "SyntaxError",
     "evalue": "invalid syntax (<ipython-input-3-ceff52e1d4e5>, line 5)",
     "output_type": "error",
     "traceback": [
      "\u001b[1;36m  File \u001b[1;32m\"<ipython-input-3-ceff52e1d4e5>\"\u001b[1;36m, line \u001b[1;32m5\u001b[0m\n\u001b[1;33m    import 19nrm02\u001b[0m\n\u001b[1;37m           ^\u001b[0m\n\u001b[1;31mSyntaxError\u001b[0m\u001b[1;31m:\u001b[0m invalid syntax\n"
     ]
    }
   ],
   "source": [
    "#import sys\n",
    "#sys.path.append('F:/TTBV/Python/19nrm02/19nrm02/f1prime')\n",
    "#sys.path.append('E:/TTBV/Python/19nrm02/19nrm02/f1prime')\n",
    "#sys.path.append('D:/TTBV/Python/19nrm02/19nrm02/f1prime')\n",
    "import 19nrm02"
   ]
  },
  {
   "cell_type": "code",
   "execution_count": 3,
   "id": "65e35570-c5ce-4269-8f5b-958016b7e68d",
   "metadata": {
    "jupyter": {
     "source_hidden": true
    },
    "tags": []
   },
   "outputs": [],
   "source": [
    "# Help with some functions to avoid duplications\n",
    "def plotSelectedSPD( SPD, iNumber, title='Selected SPD', fileName=None):\n",
    "    pyplot.plot(SPD[0,:], SPD[iNumber,:])\n",
    "    pyplot.xlabel('$\\lambda$ / nm')\n",
    "    pyplot.ylabel('SPD / A.U.')\n",
    "    pyplot.title(title)\n",
    "    if fileName != None: pyplot.savefig(fileName)\n",
    "    \n",
    "def plotYxy( Yxy, title='xy-plot', fileName=None):\n",
    "    pyplot.plot(Yxy[:,1], Yxy[:,2], '*')\n",
    "    pyplot.xlabel('x')\n",
    "    pyplot.ylabel('y')\n",
    "    pyplot.title(title)\n",
    "    if fileName != None: pyplot.savefig(fileName)\n",
    "    \n",
    "def plotHist( data, xLabel='x', yLabel='y', title='title', fileName=None):\n",
    "    pyplot.hist(data)\n",
    "    pyplot.xlabel(xLabel)\n",
    "    pyplot.ylabel(yLabel)\n",
    "    pyplot.title(title)\n",
    "    if fileName != None: pyplot.savefig(fileName)\n",
    "        "
   ]
  },
  {
   "cell_type": "markdown",
   "id": "b4be355e-6f64-43ae-bc51-2e904d7c55da",
   "metadata": {},
   "source": [
    "## Read some detecotr data (colloection of about 120 Photometers, mainly from Bp and used for CIE S 025)\n",
    "### the first detector is an ideal $V(\\lambda)$ Detector, $\\lambda$=380(5)780nm\n",
    "### General: every entry (spectral responsivity, SPD is a row in the matrix, the first row is containing the wavelength scale) "
   ]
  },
  {
   "cell_type": "code",
   "execution_count": 4,
   "id": "41ad6ddb-5148-4db1-9ce6-dacc20e30aac",
   "metadata": {},
   "outputs": [
    {
     "ename": "FileNotFoundError",
     "evalue": "[Errno 2] No such file or directory: 'VL_Detectors.csv'",
     "output_type": "error",
     "traceback": [
      "\u001b[1;31m---------------------------------------------------------------------------\u001b[0m",
      "\u001b[1;31mFileNotFoundError\u001b[0m                         Traceback (most recent call last)",
      "\u001b[1;32m<ipython-input-4-44cbd9b5d776>\u001b[0m in \u001b[0;36m<module>\u001b[1;34m\u001b[0m\n\u001b[1;32m----> 1\u001b[1;33m \u001b[0mvldetectors\u001b[0m \u001b[1;33m=\u001b[0m \u001b[0mgetdata\u001b[0m\u001b[1;33m(\u001b[0m\u001b[1;34m'VL_Detectors.csv'\u001b[0m\u001b[1;33m,\u001b[0m\u001b[0msep\u001b[0m\u001b[1;33m=\u001b[0m\u001b[1;34m';'\u001b[0m\u001b[1;33m,\u001b[0m\u001b[0mkind\u001b[0m\u001b[1;33m=\u001b[0m\u001b[1;34m'np'\u001b[0m\u001b[1;33m)\u001b[0m\u001b[1;33m.\u001b[0m\u001b[0mT\u001b[0m\u001b[1;33m\u001b[0m\u001b[1;33m\u001b[0m\u001b[0m\n\u001b[0m\u001b[0;32m      2\u001b[0m \u001b[1;33m\u001b[0m\u001b[0m\n",
      "\u001b[1;32mf:\\ttbv\\python\\luxpy\\luxpy\\utils\\utilities.py\u001b[0m in \u001b[0;36mgetdata\u001b[1;34m(data, kind, columns, header, sep, datatype, copy, verbosity)\u001b[0m\n\u001b[0;32m    342\u001b[0m     \u001b[1;32mif\u001b[0m \u001b[0misinstance\u001b[0m\u001b[1;33m(\u001b[0m\u001b[0mdata\u001b[0m\u001b[1;33m,\u001b[0m\u001b[0mstr\u001b[0m\u001b[1;33m)\u001b[0m\u001b[1;33m:\u001b[0m\u001b[1;33m\u001b[0m\u001b[1;33m\u001b[0m\u001b[0m\n\u001b[0;32m    343\u001b[0m         \u001b[0mdatafile\u001b[0m \u001b[1;33m=\u001b[0m \u001b[0mdata\u001b[0m\u001b[1;33m\u001b[0m\u001b[1;33m\u001b[0m\u001b[0m\n\u001b[1;32m--> 344\u001b[1;33m         \u001b[0mdata\u001b[0m \u001b[1;33m=\u001b[0m \u001b[0mpd\u001b[0m\u001b[1;33m.\u001b[0m\u001b[0mread_csv\u001b[0m\u001b[1;33m(\u001b[0m\u001b[0mdata\u001b[0m\u001b[1;33m,\u001b[0m\u001b[0mnames\u001b[0m\u001b[1;33m=\u001b[0m\u001b[1;32mNone\u001b[0m\u001b[1;33m,\u001b[0m\u001b[0mindex_col\u001b[0m \u001b[1;33m=\u001b[0m \u001b[1;32mNone\u001b[0m\u001b[1;33m,\u001b[0m\u001b[0mheader\u001b[0m \u001b[1;33m=\u001b[0m \u001b[0mheader\u001b[0m\u001b[1;33m,\u001b[0m\u001b[0msep\u001b[0m \u001b[1;33m=\u001b[0m \u001b[0msep\u001b[0m\u001b[1;33m)\u001b[0m\u001b[1;33m\u001b[0m\u001b[1;33m\u001b[0m\u001b[0m\n\u001b[0m\u001b[0;32m    345\u001b[0m \u001b[1;33m\u001b[0m\u001b[0m\n\u001b[0;32m    346\u001b[0m         \u001b[1;31m# Set column headers:\u001b[0m\u001b[1;33m\u001b[0m\u001b[1;33m\u001b[0m\u001b[1;33m\u001b[0m\u001b[0m\n",
      "\u001b[1;32m~\\anaconda3\\lib\\site-packages\\pandas\\io\\parsers.py\u001b[0m in \u001b[0;36mread_csv\u001b[1;34m(filepath_or_buffer, sep, delimiter, header, names, index_col, usecols, squeeze, prefix, mangle_dupe_cols, dtype, engine, converters, true_values, false_values, skipinitialspace, skiprows, skipfooter, nrows, na_values, keep_default_na, na_filter, verbose, skip_blank_lines, parse_dates, infer_datetime_format, keep_date_col, date_parser, dayfirst, cache_dates, iterator, chunksize, compression, thousands, decimal, lineterminator, quotechar, quoting, doublequote, escapechar, comment, encoding, dialect, error_bad_lines, warn_bad_lines, delim_whitespace, low_memory, memory_map, float_precision, storage_options)\u001b[0m\n\u001b[0;32m    608\u001b[0m     \u001b[0mkwds\u001b[0m\u001b[1;33m.\u001b[0m\u001b[0mupdate\u001b[0m\u001b[1;33m(\u001b[0m\u001b[0mkwds_defaults\u001b[0m\u001b[1;33m)\u001b[0m\u001b[1;33m\u001b[0m\u001b[1;33m\u001b[0m\u001b[0m\n\u001b[0;32m    609\u001b[0m \u001b[1;33m\u001b[0m\u001b[0m\n\u001b[1;32m--> 610\u001b[1;33m     \u001b[1;32mreturn\u001b[0m \u001b[0m_read\u001b[0m\u001b[1;33m(\u001b[0m\u001b[0mfilepath_or_buffer\u001b[0m\u001b[1;33m,\u001b[0m \u001b[0mkwds\u001b[0m\u001b[1;33m)\u001b[0m\u001b[1;33m\u001b[0m\u001b[1;33m\u001b[0m\u001b[0m\n\u001b[0m\u001b[0;32m    611\u001b[0m \u001b[1;33m\u001b[0m\u001b[0m\n\u001b[0;32m    612\u001b[0m \u001b[1;33m\u001b[0m\u001b[0m\n",
      "\u001b[1;32m~\\anaconda3\\lib\\site-packages\\pandas\\io\\parsers.py\u001b[0m in \u001b[0;36m_read\u001b[1;34m(filepath_or_buffer, kwds)\u001b[0m\n\u001b[0;32m    460\u001b[0m \u001b[1;33m\u001b[0m\u001b[0m\n\u001b[0;32m    461\u001b[0m     \u001b[1;31m# Create the parser.\u001b[0m\u001b[1;33m\u001b[0m\u001b[1;33m\u001b[0m\u001b[1;33m\u001b[0m\u001b[0m\n\u001b[1;32m--> 462\u001b[1;33m     \u001b[0mparser\u001b[0m \u001b[1;33m=\u001b[0m \u001b[0mTextFileReader\u001b[0m\u001b[1;33m(\u001b[0m\u001b[0mfilepath_or_buffer\u001b[0m\u001b[1;33m,\u001b[0m \u001b[1;33m**\u001b[0m\u001b[0mkwds\u001b[0m\u001b[1;33m)\u001b[0m\u001b[1;33m\u001b[0m\u001b[1;33m\u001b[0m\u001b[0m\n\u001b[0m\u001b[0;32m    463\u001b[0m \u001b[1;33m\u001b[0m\u001b[0m\n\u001b[0;32m    464\u001b[0m     \u001b[1;32mif\u001b[0m \u001b[0mchunksize\u001b[0m \u001b[1;32mor\u001b[0m \u001b[0miterator\u001b[0m\u001b[1;33m:\u001b[0m\u001b[1;33m\u001b[0m\u001b[1;33m\u001b[0m\u001b[0m\n",
      "\u001b[1;32m~\\anaconda3\\lib\\site-packages\\pandas\\io\\parsers.py\u001b[0m in \u001b[0;36m__init__\u001b[1;34m(self, f, engine, **kwds)\u001b[0m\n\u001b[0;32m    817\u001b[0m             \u001b[0mself\u001b[0m\u001b[1;33m.\u001b[0m\u001b[0moptions\u001b[0m\u001b[1;33m[\u001b[0m\u001b[1;34m\"has_index_names\"\u001b[0m\u001b[1;33m]\u001b[0m \u001b[1;33m=\u001b[0m \u001b[0mkwds\u001b[0m\u001b[1;33m[\u001b[0m\u001b[1;34m\"has_index_names\"\u001b[0m\u001b[1;33m]\u001b[0m\u001b[1;33m\u001b[0m\u001b[1;33m\u001b[0m\u001b[0m\n\u001b[0;32m    818\u001b[0m \u001b[1;33m\u001b[0m\u001b[0m\n\u001b[1;32m--> 819\u001b[1;33m         \u001b[0mself\u001b[0m\u001b[1;33m.\u001b[0m\u001b[0m_engine\u001b[0m \u001b[1;33m=\u001b[0m \u001b[0mself\u001b[0m\u001b[1;33m.\u001b[0m\u001b[0m_make_engine\u001b[0m\u001b[1;33m(\u001b[0m\u001b[0mself\u001b[0m\u001b[1;33m.\u001b[0m\u001b[0mengine\u001b[0m\u001b[1;33m)\u001b[0m\u001b[1;33m\u001b[0m\u001b[1;33m\u001b[0m\u001b[0m\n\u001b[0m\u001b[0;32m    820\u001b[0m \u001b[1;33m\u001b[0m\u001b[0m\n\u001b[0;32m    821\u001b[0m     \u001b[1;32mdef\u001b[0m \u001b[0mclose\u001b[0m\u001b[1;33m(\u001b[0m\u001b[0mself\u001b[0m\u001b[1;33m)\u001b[0m\u001b[1;33m:\u001b[0m\u001b[1;33m\u001b[0m\u001b[1;33m\u001b[0m\u001b[0m\n",
      "\u001b[1;32m~\\anaconda3\\lib\\site-packages\\pandas\\io\\parsers.py\u001b[0m in \u001b[0;36m_make_engine\u001b[1;34m(self, engine)\u001b[0m\n\u001b[0;32m   1048\u001b[0m             )\n\u001b[0;32m   1049\u001b[0m         \u001b[1;31m# error: Too many arguments for \"ParserBase\"\u001b[0m\u001b[1;33m\u001b[0m\u001b[1;33m\u001b[0m\u001b[1;33m\u001b[0m\u001b[0m\n\u001b[1;32m-> 1050\u001b[1;33m         \u001b[1;32mreturn\u001b[0m \u001b[0mmapping\u001b[0m\u001b[1;33m[\u001b[0m\u001b[0mengine\u001b[0m\u001b[1;33m]\u001b[0m\u001b[1;33m(\u001b[0m\u001b[0mself\u001b[0m\u001b[1;33m.\u001b[0m\u001b[0mf\u001b[0m\u001b[1;33m,\u001b[0m \u001b[1;33m**\u001b[0m\u001b[0mself\u001b[0m\u001b[1;33m.\u001b[0m\u001b[0moptions\u001b[0m\u001b[1;33m)\u001b[0m  \u001b[1;31m# type: ignore[call-arg]\u001b[0m\u001b[1;33m\u001b[0m\u001b[1;33m\u001b[0m\u001b[0m\n\u001b[0m\u001b[0;32m   1051\u001b[0m \u001b[1;33m\u001b[0m\u001b[0m\n\u001b[0;32m   1052\u001b[0m     \u001b[1;32mdef\u001b[0m \u001b[0m_failover_to_python\u001b[0m\u001b[1;33m(\u001b[0m\u001b[0mself\u001b[0m\u001b[1;33m)\u001b[0m\u001b[1;33m:\u001b[0m\u001b[1;33m\u001b[0m\u001b[1;33m\u001b[0m\u001b[0m\n",
      "\u001b[1;32m~\\anaconda3\\lib\\site-packages\\pandas\\io\\parsers.py\u001b[0m in \u001b[0;36m__init__\u001b[1;34m(self, src, **kwds)\u001b[0m\n\u001b[0;32m   1865\u001b[0m \u001b[1;33m\u001b[0m\u001b[0m\n\u001b[0;32m   1866\u001b[0m         \u001b[1;31m# open handles\u001b[0m\u001b[1;33m\u001b[0m\u001b[1;33m\u001b[0m\u001b[1;33m\u001b[0m\u001b[0m\n\u001b[1;32m-> 1867\u001b[1;33m         \u001b[0mself\u001b[0m\u001b[1;33m.\u001b[0m\u001b[0m_open_handles\u001b[0m\u001b[1;33m(\u001b[0m\u001b[0msrc\u001b[0m\u001b[1;33m,\u001b[0m \u001b[0mkwds\u001b[0m\u001b[1;33m)\u001b[0m\u001b[1;33m\u001b[0m\u001b[1;33m\u001b[0m\u001b[0m\n\u001b[0m\u001b[0;32m   1868\u001b[0m         \u001b[1;32massert\u001b[0m \u001b[0mself\u001b[0m\u001b[1;33m.\u001b[0m\u001b[0mhandles\u001b[0m \u001b[1;32mis\u001b[0m \u001b[1;32mnot\u001b[0m \u001b[1;32mNone\u001b[0m\u001b[1;33m\u001b[0m\u001b[1;33m\u001b[0m\u001b[0m\n\u001b[0;32m   1869\u001b[0m         \u001b[1;32mfor\u001b[0m \u001b[0mkey\u001b[0m \u001b[1;32min\u001b[0m \u001b[1;33m(\u001b[0m\u001b[1;34m\"storage_options\"\u001b[0m\u001b[1;33m,\u001b[0m \u001b[1;34m\"encoding\"\u001b[0m\u001b[1;33m,\u001b[0m \u001b[1;34m\"memory_map\"\u001b[0m\u001b[1;33m,\u001b[0m \u001b[1;34m\"compression\"\u001b[0m\u001b[1;33m)\u001b[0m\u001b[1;33m:\u001b[0m\u001b[1;33m\u001b[0m\u001b[1;33m\u001b[0m\u001b[0m\n",
      "\u001b[1;32m~\\anaconda3\\lib\\site-packages\\pandas\\io\\parsers.py\u001b[0m in \u001b[0;36m_open_handles\u001b[1;34m(self, src, kwds)\u001b[0m\n\u001b[0;32m   1360\u001b[0m         \u001b[0mLet\u001b[0m \u001b[0mthe\u001b[0m \u001b[0mreaders\u001b[0m \u001b[0mopen\u001b[0m \u001b[0mIOHanldes\u001b[0m \u001b[0mafter\u001b[0m \u001b[0mthey\u001b[0m \u001b[0mare\u001b[0m \u001b[0mdone\u001b[0m \u001b[1;32mwith\u001b[0m \u001b[0mtheir\u001b[0m \u001b[0mpotential\u001b[0m \u001b[0mraises\u001b[0m\u001b[1;33m.\u001b[0m\u001b[1;33m\u001b[0m\u001b[1;33m\u001b[0m\u001b[0m\n\u001b[0;32m   1361\u001b[0m         \"\"\"\n\u001b[1;32m-> 1362\u001b[1;33m         self.handles = get_handle(\n\u001b[0m\u001b[0;32m   1363\u001b[0m             \u001b[0msrc\u001b[0m\u001b[1;33m,\u001b[0m\u001b[1;33m\u001b[0m\u001b[1;33m\u001b[0m\u001b[0m\n\u001b[0;32m   1364\u001b[0m             \u001b[1;34m\"r\"\u001b[0m\u001b[1;33m,\u001b[0m\u001b[1;33m\u001b[0m\u001b[1;33m\u001b[0m\u001b[0m\n",
      "\u001b[1;32m~\\anaconda3\\lib\\site-packages\\pandas\\io\\common.py\u001b[0m in \u001b[0;36mget_handle\u001b[1;34m(path_or_buf, mode, encoding, compression, memory_map, is_text, errors, storage_options)\u001b[0m\n\u001b[0;32m    640\u001b[0m                 \u001b[0merrors\u001b[0m \u001b[1;33m=\u001b[0m \u001b[1;34m\"replace\"\u001b[0m\u001b[1;33m\u001b[0m\u001b[1;33m\u001b[0m\u001b[0m\n\u001b[0;32m    641\u001b[0m             \u001b[1;31m# Encoding\u001b[0m\u001b[1;33m\u001b[0m\u001b[1;33m\u001b[0m\u001b[1;33m\u001b[0m\u001b[0m\n\u001b[1;32m--> 642\u001b[1;33m             handle = open(\n\u001b[0m\u001b[0;32m    643\u001b[0m                 \u001b[0mhandle\u001b[0m\u001b[1;33m,\u001b[0m\u001b[1;33m\u001b[0m\u001b[1;33m\u001b[0m\u001b[0m\n\u001b[0;32m    644\u001b[0m                 \u001b[0mioargs\u001b[0m\u001b[1;33m.\u001b[0m\u001b[0mmode\u001b[0m\u001b[1;33m,\u001b[0m\u001b[1;33m\u001b[0m\u001b[1;33m\u001b[0m\u001b[0m\n",
      "\u001b[1;31mFileNotFoundError\u001b[0m: [Errno 2] No such file or directory: 'VL_Detectors.csv'"
     ]
    }
   ],
   "source": [
    "vldetectors = getdata('data\\VL_Detectors.csv',sep=';',kind='np').T"
   ]
  },
  {
   "cell_type": "markdown",
   "id": "4650fb67-3515-4b7f-bf5f-c948baf3d688",
   "metadata": {},
   "source": [
    "### About 120 detectors in 5nm steps (this is enough for our purpouse)"
   ]
  },
  {
   "cell_type": "code",
   "execution_count": null,
   "id": "571267a7-bfc7-406a-8bda-a1f020a9a820",
   "metadata": {},
   "outputs": [],
   "source": [
    "vldetectors.shape"
   ]
  },
  {
   "cell_type": "markdown",
   "id": "a50f2e06-6e07-412a-9779-9daf68d2894e",
   "metadata": {},
   "source": [
    "### Two functions for the evaluation from the luxpy package"
   ]
  },
  {
   "cell_type": "code",
   "execution_count": null,
   "id": "e953dbac-6f71-4338-a277-6191d9f3a045",
   "metadata": {
    "tags": []
   },
   "outputs": [],
   "source": [
    "?lx.spectral_mismatch_and_uncertainty.f1prime"
   ]
  },
  {
   "cell_type": "code",
   "execution_count": null,
   "id": "b0bd01a3-7f8e-411a-87e2-1cb824183a67",
   "metadata": {
    "tags": []
   },
   "outputs": [],
   "source": [
    "?lx.spectral_mismatch_and_uncertainty.get_spectral_mismatch_correction_factors"
   ]
  },
  {
   "cell_type": "markdown",
   "id": "91af76ae-1fe3-4887-b523-72da254bf9a4",
   "metadata": {},
   "source": [
    "### Get some statistical data from the detectors"
   ]
  },
  {
   "cell_type": "markdown",
   "id": "c2eb33dd-3838-474d-acc5-9c3bccdfa565",
   "metadata": {},
   "source": [
    "### Get all f1p values (standard evaluaton, weighting with illuminant A, target function $V(\\lambda)$)"
   ]
  },
  {
   "cell_type": "code",
   "execution_count": null,
   "id": "4bc9c95f-0353-43c3-b8ba-6468a035b993",
   "metadata": {},
   "outputs": [],
   "source": [
    "f1p=lx.spectral_mismatch_and_uncertainty.f1prime(vldetectors, S_C='A', cieobs='1931_2', s_target_index=2)"
   ]
  },
  {
   "cell_type": "code",
   "execution_count": null,
   "id": "56d27046-f7df-4677-aa20-fd17ddd2abff",
   "metadata": {},
   "outputs": [],
   "source": [
    "plotHist( f1p, xLabel='$f_{1}^{´}$', yLabel='Probability', title='Histogram of $f_{1}^{´}$', fileName='Histogram of f1Prime.png')"
   ]
  },
  {
   "cell_type": "markdown",
   "id": "7e0f0f09-757f-4ef2-b26d-7a6f24e44e0a",
   "metadata": {},
   "source": [
    "### Sort the detectors on their $f_{1}^{'}$ values to make the visualization easier"
   ]
  },
  {
   "cell_type": "code",
   "execution_count": null,
   "id": "06e75d0a-9ead-4951-9998-13334e89ac9c",
   "metadata": {},
   "outputs": [],
   "source": [
    "vldetectors[1:]=vldetectors[np.argsort(f1p)+1]\n",
    "f1p=lx.spectral_mismatch_and_uncertainty.f1prime(vldetectors, S_C='A', cieobs='1931_2', s_target_index=2)"
   ]
  },
  {
   "cell_type": "markdown",
   "id": "245ba0a9-0e0f-4fbf-a756-2ef717411752",
   "metadata": {},
   "source": [
    "### Get all f1pLED values (standard evaluaton, weighting with illuminant LED_B3/L41, target function $V(\\lambda)$)"
   ]
  },
  {
   "cell_type": "code",
   "execution_count": null,
   "id": "426056cd-0e84-4533-b0e8-ff230ca3a0ff",
   "metadata": {},
   "outputs": [],
   "source": [
    "f1pLED=lx.spectral_mismatch_and_uncertainty.f1prime(vldetectors, S_C='LED_B3', cieobs='1931_2', s_target_index=2)\n",
    "plotHist( f1pLED, xLabel='$f_{1,\\mathrm{LED}}^{´}$', yLabel='Probability', title='Histogram of $f_{1,\\mathrm{LED}}^{´}$', fileName='Histogram of f1PrimeLED.png')"
   ]
  },
  {
   "cell_type": "markdown",
   "id": "f2307075-caea-4dd4-af00-5aaf95013d48",
   "metadata": {},
   "source": [
    "### Let's have a look for the differences $f_{1}^{´}$-$f_{1,\\mathrm{LED}}^{´}$ and  $f_{1}^{´}$-$f_{1}^{*}$ over $f_{1}^{´}$\n",
    "### BTW:  $f_{1}^{*}$ is using the weighting with Standard illuminant E (no weighting at all)"
   ]
  },
  {
   "cell_type": "code",
   "execution_count": null,
   "id": "20b4fa3f-ce97-4764-a309-7261429d1662",
   "metadata": {},
   "outputs": [],
   "source": [
    "f1pE=lx.spectral_mismatch_and_uncertainty.f1prime(vldetectors, S_C='E', cieobs='1931_2', s_target_index=2)\n",
    "pyplot.plot(f1p, f1p-f1pLED, '*', label='$f_{1,\\mathrm{LED}}^{´}$')\n",
    "pyplot.plot(f1p, f1p-f1pE, 'o', label='$f_{1}^{*}$')\n",
    "pyplot.xlabel('$f_{1}^{´}$')\n",
    "pyplot.ylabel('$f_{1}^{´}$ difference')\n",
    "pyplot.title('Difference of the different weightings A, LED, E')\n",
    "pyplot.legend()\n",
    "pyplot.savefig('Difference of the different weightings A LED E.png')"
   ]
  },
  {
   "cell_type": "markdown",
   "id": "55817ecb-5d0d-4c1f-b4b1-f0d9902bee9e",
   "metadata": {},
   "source": [
    "## Introduce some light source data for evaluation"
   ]
  },
  {
   "cell_type": "markdown",
   "id": "671d62d9-20df-4ea6-b679-90a2456c5cdf",
   "metadata": {},
   "source": [
    "### Blackbody data with different color temperatures"
   ]
  },
  {
   "cell_type": "code",
   "execution_count": null,
   "id": "72e8fa22-2db6-4cb7-89e8-cf02027ba40a",
   "metadata": {},
   "outputs": [],
   "source": [
    "SPD_BB=getdata('SPD_BB.csv',sep=';',kind='np').T\n",
    "SPD_BB.shape"
   ]
  },
  {
   "cell_type": "code",
   "execution_count": null,
   "id": "98edc9dd-fe77-4a73-81f2-ebcd2cb61522",
   "metadata": {},
   "outputs": [],
   "source": [
    "pyplot.plot(lx.xyz_to_cct(lx.spd_to_xyz(SPD_BB)), \"*\")\n",
    "pyplot.xlabel('Lightsource number')\n",
    "pyplot.ylabel('CCT / K')\n",
    "pyplot.hlines(2856, 0, SPD_BB.shape[0])\n",
    "pyplot.title('CCT data of different light sources')\n",
    "pyplot.savefig('SPD_BB_CCT.png')"
   ]
  },
  {
   "cell_type": "code",
   "execution_count": null,
   "id": "295f7405-c69b-43de-bb33-08e71d755ec1",
   "metadata": {},
   "outputs": [],
   "source": [
    "plotSelectedSPD( SPD_BB, 20, title='Selected SPD BB', fileName='SPD_BB_Selected.png')"
   ]
  },
  {
   "cell_type": "markdown",
   "id": "2716af32-a231-49d8-84d8-288224ec5a24",
   "metadata": {},
   "source": [
    "### Some PT White LED Spectra (mainly from the S 025 calculations)"
   ]
  },
  {
   "cell_type": "code",
   "execution_count": null,
   "id": "07e1ded1-a88f-4ee3-8da5-1e08566322d0",
   "metadata": {},
   "outputs": [],
   "source": [
    "SPD_PTLED=getdata('SPD_PT_LED_White.csv',sep=';',kind='np').T\n",
    "SPD_PTLED.shape"
   ]
  },
  {
   "cell_type": "code",
   "execution_count": null,
   "id": "6d6bf668-5ec5-480f-befe-c65aa4db30e3",
   "metadata": {},
   "outputs": [],
   "source": [
    "Yxy=lx.xyz_to_Yxy(lx.spd_to_xyz(SPD_PTLED))\n",
    "plotYxy( Yxy, title='Chromaticity data of PT white LEDs', fileName='SPD_PTLED_xy.png')"
   ]
  },
  {
   "cell_type": "code",
   "execution_count": null,
   "id": "a94b65ff-bb99-4e1c-9633-a64a19c8d1b6",
   "metadata": {},
   "outputs": [],
   "source": [
    "plotSelectedSPD( SPD_PTLED, 20, title='Selected SPD PT', fileName='SPD_PTLED_Selected.png')"
   ]
  },
  {
   "cell_type": "markdown",
   "id": "0c5ad737-102c-4e09-bacb-cde434a6053d",
   "metadata": {},
   "source": [
    "### Some RGB White LED Spectra (mainly from the S 025 calculations)¶"
   ]
  },
  {
   "cell_type": "code",
   "execution_count": null,
   "id": "3ea1856b-9efd-405d-b223-19d994868ed7",
   "metadata": {},
   "outputs": [],
   "source": [
    "SPD_RGB=getdata('SPD_RGB_LED_White.csv',sep=';',kind='np').T\n",
    "SPD_RGB.shape"
   ]
  },
  {
   "cell_type": "code",
   "execution_count": null,
   "id": "d5c4b3fe-a177-4dea-a426-178ec3ab4004",
   "metadata": {},
   "outputs": [],
   "source": [
    "Yxy=lx.xyz_to_Yxy(lx.spd_to_xyz(SPD_RGB))\n",
    "plotYxy( Yxy, title='Chromaticity data of RGB white LEDs', fileName='SPD_RGB_xy.png')"
   ]
  },
  {
   "cell_type": "code",
   "execution_count": null,
   "id": "863e771d-a72d-400a-b3f2-38b1e7b94b33",
   "metadata": {},
   "outputs": [],
   "source": [
    "plotSelectedSPD( SPD_RGB, 20, title='Selected SPD RGB', fileName='SPD_RGB_Selected.png')"
   ]
  },
  {
   "cell_type": "markdown",
   "id": "98b4221c-6763-4fa2-93d9-19e12abfbcb3",
   "metadata": {},
   "source": [
    "### Some Monochromatic LED Spectra¶"
   ]
  },
  {
   "cell_type": "code",
   "execution_count": null,
   "id": "baf8b677-0c4f-40d2-814b-0a3beb1bc60f",
   "metadata": {},
   "outputs": [],
   "source": [
    "SPD_Mono=getdata('SPD_LED_Mono.csv',sep=';',kind='np').T\n",
    "SPD_Mono.shape"
   ]
  },
  {
   "cell_type": "code",
   "execution_count": null,
   "id": "ea77a91a-0b4d-4e14-b426-5ed0e74c3679",
   "metadata": {},
   "outputs": [],
   "source": [
    "Yxy=lx.xyz_to_Yxy(lx.spd_to_xyz(SPD_Mono))\n",
    "plotYxy( Yxy, title='Chromaticity data of Monocromatic LEDs', fileName='SPD_MonoLEDs_xy.png')"
   ]
  },
  {
   "cell_type": "code",
   "execution_count": null,
   "id": "2428d1de-3488-48d6-8da6-cb836f3c1d36",
   "metadata": {},
   "outputs": [],
   "source": [
    "plotSelectedSPD( SPD_Mono, 260, title='Selected SPD Mono', fileName='SPD_Mono_Selected.png')"
   ]
  },
  {
   "cell_type": "markdown",
   "id": "97816d80-6145-47e4-a751-163fd10c17ae",
   "metadata": {},
   "source": [
    "### Combine the spectral data\n",
    "### (note: the first row contains the wavelength scale and is droped expect for the first data set)"
   ]
  },
  {
   "cell_type": "code",
   "execution_count": null,
   "id": "f0866f06-52e0-474f-acf6-4874f819d87b",
   "metadata": {},
   "outputs": [],
   "source": [
    "spectra=np.vstack((SPD_BB, SPD_PTLED[1:], SPD_RGB[1:]))\n",
    "#Without the Mono LEDs (to be handled later on)\n",
    "spectra=SPD_Mono\n",
    "SMCF=lx.spectral_mismatch_and_uncertainty.get_spectral_mismatch_correction_factors( spectra, vldetectors, S_C='A')\n",
    "SMCFLED=lx.spectral_mismatch_and_uncertainty.get_spectral_mismatch_correction_factors( spectra, vldetectors, S_C='LED_B3')"
   ]
  },
  {
   "cell_type": "code",
   "execution_count": null,
   "id": "167c0ad4-8aae-4071-ada8-11174502d1dd",
   "metadata": {},
   "outputs": [],
   "source": [
    "print (spectra.shape)\n",
    "print (SMCF.shape)"
   ]
  },
  {
   "cell_type": "markdown",
   "id": "6322aef6-fc5a-49d4-ac50-c2525b603ac2",
   "metadata": {},
   "source": [
    "### The SMCF is an image now. (one column for each detector, one row for each SPD)"
   ]
  },
  {
   "cell_type": "code",
   "execution_count": null,
   "id": "6f2d16ed-6d10-49ce-81cf-f4e438601632",
   "metadata": {},
   "outputs": [],
   "source": [
    "pyplot.imshow(SMCF, vmin=0.97, vmax=1.03)"
   ]
  },
  {
   "cell_type": "code",
   "execution_count": null,
   "id": "9fbe6e02-3d80-4096-ac2e-bf189caabe83",
   "metadata": {},
   "outputs": [],
   "source": [
    "X = np.arange(0, vldetectors.shape[0]-1, 1)\n",
    "Y = np.arange(0, spectra.shape[0]-1, 1)\n",
    "X, Y = np.meshgrid(X, Y)\n",
    "fig = pyplot.figure(figsize=[12, 12])\n",
    "ax = Axes3D(fig)\n",
    "surf = ax.plot_surface(X, Y, SMCF,cmap=cm.coolwarm)\n",
    "# Customize the z axis.\n",
    "ax.set_zlim(0.95, 1.05)\n",
    "ax.zaxis.set_major_locator(LinearLocator(10))\n",
    "# A StrMethodFormatter is used automatically\n",
    "ax.zaxis.set_major_formatter('{x:.02f}')\n",
    "ax.set_xlabel('detector#')\n",
    "ax.set_ylabel('illuminant#')\n",
    "ax.set_zlabel('SMCF')\n",
    "# Add a color bar which maps values to colors.\n",
    "fig.colorbar(surf, shrink=0.5, aspect=5)\n",
    "fig.show\n",
    "pyplot.savefig('SMCF_Detector_f1Prime.png')"
   ]
  },
  {
   "cell_type": "code",
   "execution_count": null,
   "id": "930c2e7a-668f-45c9-8d55-0ceb1715fd61",
   "metadata": {},
   "outputs": [],
   "source": [
    "f1pA=lx.spectral_mismatch_and_uncertainty.f1prime(vldetectors, S_C='A', cieobs='1931_2', s_target_index=2)\n",
    "f1pE=lx.spectral_mismatch_and_uncertainty.f1prime(vldetectors, S_C='E', cieobs='1931_2', s_target_index=2)\n",
    "f1pLED=lx.spectral_mismatch_and_uncertainty.f1prime(vldetectors, S_C='LED_B3', cieobs='1931_2', s_target_index=2)\n",
    "f1pA_py=f1prime.py_f1PrimeGlx(vldetectors, strObserver='1931_2', iObserverOffset = 1, strWeighting='A', iMin=0, dCutOff=0., dBandWidth=0.)\n",
    "f1pAFMin=f1prime.py_f1PrimeGlx(vldetectors, strObserver='1931_2', iObserverOffset = 1, strWeighting='A', iMin=1, dCutOff=0., dBandWidth=0.)\n",
    "f1pAFCutOffR=f1prime.py_f1PrimeGlx(vldetectors, strObserver='1931_2', iObserverOffset = 1, strWeighting='A', iMin=0, dCutOff=-0.01, dBandWidth=0.)\n",
    "f1pBW20nm=f1prime.py_f1PrimeGlx(vldetectors, strObserver='1931_2', iObserverOffset = 1, strWeighting='A', iMin=0, dCutOff=0., dBandWidth=20.)\n",
    "f1pEval = np.vstack(( f1pA, f1pE, f1pLED, f1pAFMin, f1pAFCutOffR, f1pBW20nm))\n",
    "f1pEvalCorr = np.corrcoef(f1pEval)"
   ]
  },
  {
   "cell_type": "code",
   "execution_count": null,
   "id": "2aebc9b1-f256-4e1b-aabd-af460fb1cc3f",
   "metadata": {},
   "outputs": [],
   "source": [
    "fig, ax = pyplot.subplots(figsize=(8,8))\n",
    "im = ax.imshow(f1pEvalCorr)\n",
    "fig.colorbar(im)\n",
    "x_label_list = ['$f_{1}^{´}$', '$f_{1}^{*}$', '$f_{1,\\mathrm{LED}}^{´}$', '$f_{1,\\mathrm{Min}}^{´}$', '$f_{1,\\mathrm{R}}^{´´}$', '$f_{1,\\mathrm{BW20nm}}^{´}$']\n",
    "ax.set_xticks(np.arange(len(x_label_list)))\n",
    "ax.set_yticks(np.arange(len(x_label_list)))\n",
    "ax.set_xticklabels(x_label_list)\n",
    "ax.set_yticklabels(x_label_list)\n",
    "\n",
    "pyplot.setp(ax.get_xticklabels(), rotation=90, ha=\"right\",\n",
    "         rotation_mode=\"anchor\")\n",
    "\n",
    "# Loop over data dimensions and create text annotations.\n",
    "for i in range(len(x_label_list)):\n",
    "    for j in range(len(x_label_list)):\n",
    "        text = ax.text(j, i, round(f1pEvalCorr[i, j],2),\n",
    "                       ha=\"center\", va=\"center\", color=\"r\")\n",
    "\n",
    "ax.set_title('$f_{1}^{´}$ Correlations')\n",
    "fig.tight_layout()\n",
    "pyplot.savefig('f1p Correlations.png')"
   ]
  },
  {
   "cell_type": "code",
   "execution_count": null,
   "id": "9e08e7c9-5574-40b8-94bc-7613b2a2a70a",
   "metadata": {},
   "outputs": [],
   "source": []
  },
  {
   "cell_type": "code",
   "execution_count": null,
   "id": "c9085f52-15e0-4331-8676-31e9ba82f5ff",
   "metadata": {},
   "outputs": [],
   "source": [
    "# 0 Illuminant A\n",
    "# 1 Illuminant LED\n",
    "pyplot.plot(f1pA, SMCF[0,:], '*')\n",
    "pyplot.plot(f1pLED, SMCFLED[1,:], 'o')\n",
    "pyplot.xlabel('$f_{1}^{´}$ and $f_{1,\\mathrm{LED}}^{´}$')\n",
    "pyplot.ylabel('SMCF')\n",
    "pyplot.title('SMCF for calibration SPD (should be 1)')\n",
    "pyplot.savefig('calibation check.png')"
   ]
  },
  {
   "cell_type": "code",
   "execution_count": null,
   "id": "a4fcacb1-2bc1-44b3-a47d-3a3e43c4a372",
   "metadata": {},
   "outputs": [],
   "source": [
    "# 0 Illuminant A\n",
    "# 1 Illuminant LED\n",
    "# Attention: Here the LED is used for the calibration with A and vice versa\n",
    "pyplot.plot(f1pA, SMCF[1,:], '*')\n",
    "pyplot.plot(f1pLED, SMCFLED[0,:], 'o')\n",
    "pyplot.xlabel('$f_{1}^{´}$ and $f_{1,\\mathrm{LED}}^{´}$')\n",
    "pyplot.ylabel('SMCF')\n",
    "pyplot.title('SMCF for a SPD different from the calibration (should _not_ be 1)')\n",
    "pyplot.savefig('check A LED reverse.png')"
   ]
  },
  {
   "cell_type": "code",
   "execution_count": null,
   "id": "22325611-228a-4f7e-a68f-32d9d151fc22",
   "metadata": {},
   "outputs": [],
   "source": [
    "meanA0=np.mean(abs(SMCF-1), axis=0)\n",
    "pyplot.plot(f1pA, meanA0, '*')\n",
    "\n",
    "pyplot.xlabel('$f_{1}^{´}$')\n",
    "pyplot.ylabel('$mean(SMCF)$')\n",
    "pyplot.title('$|1-mean(SMCFA)|$ for a all SPD over all sensors')\n",
    "pyplot.savefig('f1Prime_mean_SMCFA.png')"
   ]
  },
  {
   "cell_type": "code",
   "execution_count": null,
   "id": "8466684e-7fd8-4f2e-9bb9-fdc6c933c5f1",
   "metadata": {},
   "outputs": [],
   "source": [
    "stdA0=np.std(SMCF, axis=0)\n",
    "pyplot.plot(f1pA, stdA0, '*')\n",
    "\n",
    "pyplot.xlabel('$f_{1}^{´}$')\n",
    "pyplot.ylabel('$\\sigma(SMCF)$')\n",
    "pyplot.title('$\\sigma(SMCFA)$ for a all SPD over all sensors')\n",
    "pyplot.savefig('f1Prime_sigma_SMCFA.png')"
   ]
  },
  {
   "cell_type": "code",
   "execution_count": null,
   "id": "2ded78b1-288b-47f7-b91f-f522af2fb4bb",
   "metadata": {},
   "outputs": [],
   "source": [
    "meanLED=np.mean(abs(SMCFLED-1), axis=0)\n",
    "pyplot.plot(f1pLED, meanLED, '*')\n",
    "\n",
    "pyplot.xlabel('$f_{1.\\mathrm{LED}}^{´}$')\n",
    "pyplot.ylabel('$\\sigma(SMCF)$')\n",
    "pyplot.title('|1-mean(SMCFLED)| for a all SPD over all sensors')\n",
    "pyplot.savefig('f1Prime_mean_SMCFLED.png')"
   ]
  },
  {
   "cell_type": "code",
   "execution_count": null,
   "id": "2dbf67ec-622c-4490-bc7a-1c93df898ad0",
   "metadata": {},
   "outputs": [],
   "source": [
    "stdLED=np.std(SMCFLED, axis=0)\n",
    "pyplot.plot(f1pLED, stdLED, '*')\n",
    "\n",
    "pyplot.xlabel('$f_{1.\\mathrm{LED}}^{´}$')\n",
    "pyplot.ylabel('$\\sigma(SMCF)$')\n",
    "pyplot.title('$\\sigma(SMCFLED)$ for a all SPD over all sensors')\n",
    "pyplot.savefig('f1Prime_sigma_SMCFLED.png')"
   ]
  },
  {
   "cell_type": "code",
   "execution_count": null,
   "id": "23340b51-68f5-4e1f-b264-c344c3b96c41",
   "metadata": {},
   "outputs": [],
   "source": [
    "f1pEval2 = np.vstack(( f1pA, f1pE, f1pLED, f1pAFMin, f1pAFCutOffR, f1pBW20nm, meanA0, stdA0, meanLED, stdLED))\n",
    "f1pEvalCorr2 = np.corrcoef(f1pEval2)\n",
    "x_label_list = ['$f_{1}^{´}$', '$f_{1}^{*}$', '$f_{1,\\mathrm{LED}}^{´}$', '$f_{1,\\mathrm{Min}}^{´}$', '$f_{1,\\mathrm{R}}^{´´}$', '$f_{1,\\mathrm{BW20nm}}^{´}$', \\\n",
    "               'SMCFA', '$\\sigma(SMCFA)$', 'SMCFLED', '$\\sigma(SMCFLED)$']"
   ]
  },
  {
   "cell_type": "code",
   "execution_count": null,
   "id": "9941944e-8269-4f55-8b0b-b2fd5faf504f",
   "metadata": {},
   "outputs": [],
   "source": [
    "fig, ax = pyplot.subplots(figsize=(8,8))\n",
    "im = ax.imshow(f1pEvalCorr2)\n",
    "fig.colorbar(im)\n",
    "ax.set_xticks(np.arange(len(x_label_list)))\n",
    "ax.set_yticks(np.arange(len(x_label_list)))\n",
    "ax.set_xticklabels(x_label_list)\n",
    "ax.set_yticklabels(x_label_list)\n",
    "\n",
    "pyplot.setp(ax.get_xticklabels(), rotation=90, ha=\"right\",\n",
    "         rotation_mode=\"anchor\")\n",
    "\n",
    "# Loop over data dimensions and create text annotations.\n",
    "for i in range(len(x_label_list)):\n",
    "    for j in range(len(x_label_list)):\n",
    "        text = ax.text(j, i, round(f1pEvalCorr2[i, j],2),\n",
    "                       ha=\"center\", va=\"center\", color=\"r\")\n",
    "\n",
    "ax.set_title('$f_{1}^{´}$ Correlations Plus')\n",
    "fig.tight_layout()\n",
    "pyplot.savefig('f1p Correlations2.png')\n"
   ]
  },
  {
   "cell_type": "code",
   "execution_count": null,
   "id": "8206399a-2949-43a3-8b8e-acd53ef2981a",
   "metadata": {},
   "outputs": [],
   "source": [
    "pyplot.plot(lx._CMF['1931_2']['bar'][0], lx._CMF['1931_2']['bar'][2], label='$V(\\lambda)$')\n",
    "pyplot.plot(lx._CIE_ILLUMINANTS['A'][0], lx._CIE_ILLUMINANTS['A'][1]/np.max(lx._CIE_ILLUMINANTS['A'][1]), label='CIE Standard Illuminant A')\n",
    "pyplot.plot(lx._CIE_ILLUMINANTS['LED_B3'][0], lx._CIE_ILLUMINANTS['LED_B3'][1]/np.max(lx._CIE_ILLUMINANTS['LED_B3'][1]), label='Illuminant LED/LED_B3/L41')\n",
    "\n",
    "pyplot.xlabel('$\\lambda$ / nm')\n",
    "pyplot.ylabel('Signal / A.U.')\n",
    "pyplot.title('Target and weighting functions')\n",
    "pyplot.legend()\n",
    "pyplot.savefig('Target and weighting.png')\n",
    "\n",
    "VLDetectorNoise=getdata('VL_DetectorsVLPlusNoise.csv',sep=';',kind='np').T\n",
    "VLDetectorNoise.shape"
   ]
  },
  {
   "cell_type": "code",
   "execution_count": null,
   "id": "37445a91-f48d-4522-bf7a-51dcd93802b8",
   "metadata": {},
   "outputs": [],
   "source": [
    "f1pA=lx.spectral_mismatch_and_uncertainty.f1prime(VLDetectorNoise, S_C='A', cieobs='1931_2', s_target_index=2)\n",
    "f1pE=lx.spectral_mismatch_and_uncertainty.f1prime(VLDetectorNoise, S_C='E', cieobs='1931_2', s_target_index=2)\n",
    "f1pLED=lx.spectral_mismatch_and_uncertainty.f1prime(VLDetectorNoise, S_C='LED_B3', cieobs='1931_2', s_target_index=2)\n",
    "f1pA_py=f1prime.py_f1PrimeGlx(VLDetectorNoise, strObserver='1931_2', iObserverOffset = 1, strWeighting='A', iMin=0, dCutOff=0., dBandWidth=0.)\n",
    "f1pAFMin=f1prime.py_f1PrimeGlx(VLDetectorNoise, strObserver='1931_2', iObserverOffset = 1, strWeighting='A', iMin=1, dCutOff=0., dBandWidth=0.)\n",
    "f1pAFCutOffR=f1prime.py_f1PrimeGlx(VLDetectorNoise, strObserver='1931_2', iObserverOffset = 1, strWeighting='A', iMin=0, dCutOff=-0.01, dBandWidth=0.)\n",
    "f1pBW20nm=f1prime.py_f1PrimeGlx(VLDetectorNoise, strObserver='1931_2', iObserverOffset = 1, strWeighting='A', iMin=0, dCutOff=0., dBandWidth=20.)"
   ]
  },
  {
   "cell_type": "code",
   "execution_count": null,
   "id": "12a5e869-03d5-44ec-b76c-3064630f318d",
   "metadata": {},
   "outputs": [],
   "source": [
    "xRange = np.arange(375,780+1,5)\n",
    "pyplot.plot(xRange, f1pA, '*', label='$f_{1}^{´}$')\n",
    "pyplot.plot(xRange, f1pE, 'x', label='$f_{1}^{*}$')\n",
    "pyplot.plot(xRange, f1pLED, 'o', label='$f_{1,\\mathrm{LED}}^{´}$')\n",
    "#pyplot.plot(xRange, f1pA-f1pA_py, 'ro', label='$f_{1,\\mathrm{lx}}^{´}-f_{1,\\mathrm{py}}^{´}$')\n",
    "pyplot.plot(xRange, f1pAFMin, 'v', label='$f_{1,\\mathrm{Min}}^{´}$')\n",
    "pyplot.plot(xRange, f1pAFCutOffR, '-', label='$f_{1}^{´´}$')\n",
    "pyplot.plot(xRange, f1pBW20nm, '+', label='$f_{1,\\mathrm{20nm}}^{´}$')\n",
    "\n",
    "pyplot.xlabel('$\\lambda$ / nm')\n",
    "pyplot.ylabel('$f_{1}^{´}$')\n",
    "pyplot.title('$f_{1}^{´}$ weighting influence')\n",
    "pyplot.legend()\n",
    "pyplot.savefig('weighting influence.png')"
   ]
  },
  {
   "cell_type": "code",
   "execution_count": null,
   "id": "1e8dd1f4-9144-43b7-bc51-7371cc50c3d6",
   "metadata": {},
   "outputs": [],
   "source": [
    "VLDetectorShift=getdata('VL_DetectorsVLShift.csv',sep=';',kind='np').T\n",
    "f1pA=lx.spectral_mismatch_and_uncertainty.f1prime(VLDetectorShift, S_C='A', cieobs='1931_2', s_target_index=2)\n",
    "f1pE=lx.spectral_mismatch_and_uncertainty.f1prime(VLDetectorShift, S_C='E', cieobs='1931_2', s_target_index=2)\n",
    "f1pLED=lx.spectral_mismatch_and_uncertainty.f1prime(VLDetectorShift, S_C='LED_B3', cieobs='1931_2', s_target_index=2)\n",
    "\n",
    "xRange = np.arange(-5,5+0.2,0.1)\n",
    "subPlot = 5\n",
    "pyplot.plot(xRange[::subPlot], f1pA[::subPlot], '*', label='$f_{1}^{´}$')\n",
    "pyplot.plot(xRange[::subPlot], f1pE[::subPlot], 'x', label='$f_{1}^{*}$')\n",
    "pyplot.plot(xRange[::subPlot], f1pLED[::subPlot], 'o', label='$f_{1,\\mathrm{LED}}^{´}$')\n",
    "\n",
    "pyplot.xlabel('$\\Delta\\lambda$ / nm')\n",
    "pyplot.ylabel('$f_{1}^{´}$')\n",
    "pyplot.title('$f_{1}^{´}$ wavelength shift influence')\n",
    "pyplot.legend()\n",
    "pyplot.savefig('f1Prime_Sens_WLShift.png')"
   ]
  },
  {
   "cell_type": "code",
   "execution_count": null,
   "id": "45828c2c-af8e-4b59-86cc-0d0910a4c7d8",
   "metadata": {},
   "outputs": [],
   "source": [
    "VLDetectorNumber = VLDetectorShift.shape[0]\n",
    "pyplot.plot(VLDetectorShift[0,:], VLDetectorShift[2,:], 'r-', label='shift -5nm')\n",
    "pyplot.plot(VLDetectorShift[0,:], VLDetectorShift[int((VLDetectorNumber-1)/2),:], 'g-', label='$V(\\lambda)$')\n",
    "pyplot.plot(VLDetectorShift[0,:], VLDetectorShift[VLDetectorNumber-1,:], 'b-', label='shift +5nm')\n",
    "pyplot.xlabel('$\\lambda$ / nm')\n",
    "pyplot.ylabel('spectral responsivity / A.U.')\n",
    "pyplot.title('Shifted $V(\\lambda$) functions')\n",
    "pyplot.legend()\n",
    "pyplot.savefig('VLShifts.png')\n",
    "    "
   ]
  },
  {
   "cell_type": "markdown",
   "id": "742d3a54-f58e-4d7a-8aac-e26aa523dee5",
   "metadata": {},
   "source": [
    "# Ende Gelände"
   ]
  }
 ],
 "metadata": {
  "kernelspec": {
   "display_name": "Python 3",
   "language": "python",
   "name": "python3"
  },
  "language_info": {
   "codemirror_mode": {
    "name": "ipython",
    "version": 3
   },
   "file_extension": ".py",
   "mimetype": "text/x-python",
   "name": "python",
   "nbconvert_exporter": "python",
   "pygments_lexer": "ipython3",
   "version": "3.8.8"
  }
 },
 "nbformat": 4,
 "nbformat_minor": 5
}
