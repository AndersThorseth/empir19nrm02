{
 "cells": [
  {
   "cell_type": "markdown",
   "source": [
    "# Quality Metrics for the Spectral Matching of Photometric Detectors\n",
    "## Selection of a new Metric"
   ],
   "metadata": {
    "collapsed": false
   }
  },
  {
   "cell_type": "code",
   "execution_count": 1,
   "outputs": [],
   "source": [
    "# Use some packages\n",
    "import luxpy as lx\n",
    "import numpy as np\n",
    "from matplotlib import pyplot\n",
    "%matplotlib inline\n",
    "from sklearn.linear_model import LinearRegression\n",
    "import random\n",
    "from sigfig import round\n",
    "\n",
    "strVLambda = '$V(\\lambda)$'\n",
    "strf1p = '$f_{1}^{´}$'\n",
    "strf1pE = '$f_{1,\\mathrm{E}}^{´}$'\n",
    "strf1pLED = '$f_{1,\\mathrm{L}}^{´}$'\n",
    "strf1pMin = '$f_{1,\\mathrm{Min}}^{´}$'\n",
    "strf1pp = '$f_{1}^{´´}$'\n",
    "strf1ppR = '$f_{1,\\mathrm{R}}^{´´}$'\n",
    "strf1pBW = '$f_{1,\\mathrm{BW}}^{´}$'\n",
    "\n",
    "str_m_mean = r'$m_{\\bar{F}_{i}}$'\n",
    "str_m_mean_a = r'$m_{\\bar{F}_{i}^{a}}$'\n",
    "str_m_sigma = '$m_{\\sigma}$'\n",
    "str_m_sigma_a = '$m_{\\sigma}^{a}$'\n",
    "str_q_plus = '$F_{i,q+}$'\n",
    "str_q_plus_a = '$F^{a}_{i,q+}$'\n",
    "str_m_q_plus = '$m_{q+}$'\n",
    "str_m_q_plus_a = '$m_{q+}^{a}$'\n",
    "str_m_q_minus = '$m_{q-}$'\n",
    "str_m_q_max = '$m_{\\mathrm{q,max}}$'\n",
    "str_m_q_max_a = '$m_{\\mathrm{q,max}}^{a}$'\n",
    "str_m_q_min = '$m_{\\mathrm{q,min}}$'\n",
    "\n",
    "#strAU = ' / A.U.'\n",
    "strAU = ''"
   ],
   "metadata": {
    "collapsed": false,
    "pycharm": {
     "name": "#%%\n"
    }
   }
  },
  {
   "cell_type": "markdown",
   "source": [
    "### Demonstration code for article"
   ],
   "metadata": {
    "collapsed": false
   }
  },
  {
   "cell_type": "code",
   "execution_count": 2,
   "outputs": [],
   "source": [
    "from empir19nrm02 import _RES, _SPD\n",
    "from empir19nrm02.f1prime import py_f1PrimeG, py_f1PrimeGlx\n",
    "from empir19nrm02.tools import plotSelectedSPD, plotYxy, plotHist, plotCorrMatrixSmall, plotHistScales\n",
    "\n",
    "a1=1\n",
    "a2=0.7\n",
    "a3=0.4\n",
    "a4=0.3\n",
    "figs_x = 5\n",
    "figs_y = 5\n",
    "b_not_for_paper = False\n",
    "quantil = 0.05\n",
    "dCutOff=0.003\n",
    "selected_detector = 73\n",
    "selected_SPD = 42\n",
    "fig_number = 1\n",
    "fig_type= '.svg'\n",
    "table_type= '.csv'\n",
    "label_font_size=14\n",
    "\n",
    "def get_fig_file_name(filename=None, table=False):\n",
    "    global fig_number\n",
    "    global fig_type\n",
    "    if filename is None:\n",
    "        file_name = r'met\\Fig' + str(fig_number) + fig_type\n",
    "        fig_number+=1\n",
    "    else:\n",
    "        if table:\n",
    "            file_name = r'met\\Table' + filename + table_type\n",
    "        else:\n",
    "            file_name = r'met\\Fig' + filename + fig_type\n",
    "    return file_name\n",
    "\n",
    "def save_fig(filename=None):\n",
    "    return pyplot.savefig( get_fig_file_name(filename), bbox_inches='tight', pad_inches=0)"
   ],
   "metadata": {
    "collapsed": false,
    "pycharm": {
     "name": "#%%\n"
    }
   }
  },
  {
   "cell_type": "code",
   "execution_count": 3,
   "outputs": [],
   "source": [
    "def SMCFPlotCalc(x_data_i, y_data_i, eins_minus=False, r_sq_calc=False):\n",
    "    # sort the database for the x values\n",
    "    y_data_i_sigma = np.std(y_data_i, axis=0)\n",
    "    if eins_minus:\n",
    "        y_data_i = np.abs(1-y_data_i)\n",
    "    y_data_i_mean = np.mean(y_data_i, axis=0)\n",
    "    y_data_i_min = np.min(y_data_i, axis=0)\n",
    "    y_data_i_max = np.max(y_data_i, axis=0)\n",
    "    quantilPlus=np.quantile( y_data_i, 1-quantil/2, axis=0)\n",
    "    quantilMinus=np.quantile( y_data_i, quantil/2, axis=0)\n",
    "\n",
    "    # sorting is only necessary for fill_between, not for the regression\n",
    "    index = np.argsort(x_data_i)\n",
    "    x_data=x_data_i[index]\n",
    "    y_data=y_data_i_mean[index]\n",
    "    y_data_min=y_data_i_min[index]\n",
    "    y_data_max=y_data_i_max[index]\n",
    "    qPlus=quantilPlus[index]\n",
    "    qMinus=quantilMinus[index]\n",
    "    sigma=y_data_i_sigma[index]\n",
    "\n",
    "    #regression\n",
    "    x = x_data.reshape(-1,1)\n",
    "    lr_model = LinearRegression()\n",
    "    lr_model.fit(x, y_data)\n",
    "    y_pred_mean = lr_model.predict(x)\n",
    "    m_mean=lr_model.coef_[0]\n",
    "    m_mean_r_sq = lr_model.score(x, y_data)\n",
    "\n",
    "    lr_model.fit(x, qPlus)\n",
    "    y_pred_qMax = lr_model.predict(x)\n",
    "    m_qMax=lr_model.coef_[0]\n",
    "    m_qMax_r_sq = lr_model.score(x, qPlus)\n",
    "\n",
    "    lr_model.fit(x, qMinus)\n",
    "    y_pred_qMin = lr_model.predict(x)\n",
    "    m_qMin=lr_model.coef_[0]\n",
    "    r_sq = lr_model.score(x, qMinus)\n",
    "\n",
    "    # without the first data set (normally zero)\n",
    "    nonZeros =np.where(x_data != 0)\n",
    "    smcfSlopeMax = np.zeros(x_data.shape[0])\n",
    "    smcfSlopeMin = np.zeros(x_data.shape[0])\n",
    "    if not eins_minus:\n",
    "        smcfSlopeMax[nonZeros]=(y_data_max[nonZeros]-1)/x_data[nonZeros]\n",
    "        smcfSlopeMin[nonZeros]=(y_data_min[nonZeros]-1)/x_data[nonZeros]\n",
    "    else:\n",
    "        smcfSlopeMax[nonZeros]=(y_data_max[nonZeros])/x_data[nonZeros]\n",
    "        smcfSlopeMin[nonZeros]=(y_data_min[nonZeros])/x_data[nonZeros]\n",
    "    smcfSlopeQMax = np.quantile( smcfSlopeMax, 1-quantil)\n",
    "    smcfSlopeQMin = np.quantile( smcfSlopeMin, quantil)\n",
    "\n",
    "    lr_model.fit(x, sigma)\n",
    "    y_pred_sigma = lr_model.predict(x)\n",
    "    m_sigma=lr_model.coef_[0]\n",
    "    m_sigma_r_sq = lr_model.score(x, sigma)\n",
    "    if eins_minus:\n",
    "        if r_sq_calc:\n",
    "            return [m_mean, m_mean_r_sq, m_sigma, m_sigma_r_sq, m_qMax, m_qMax_r_sq, smcfSlopeQMax]\n",
    "        else:\n",
    "            return [m_mean, m_sigma, m_qMax, smcfSlopeQMax]\n",
    "    else:\n",
    "        return [m_mean, m_sigma, m_qMax, m_qMin, smcfSlopeQMax, smcfSlopeQMin]\n",
    "\n",
    "def SMCFPlot(x_data_i, y_data_i, xlabel, ylabel, title=None, filename=None, ylabel2=None, eins_minus=False, quantil_ind=False):\n",
    "    # the standard deviation is caculated without the absolut value function\n",
    "    y_data_i_sigma = np.std(y_data_i, axis=0)\n",
    "    if eins_minus:\n",
    "        y_data_i = np.abs(1-y_data_i)\n",
    "    y_data_i_mean = np.mean(y_data_i, axis=0)\n",
    "    y_data_i_min = np.min(y_data_i, axis=0)\n",
    "    y_data_i_max = np.max(y_data_i, axis=0)\n",
    "    quantilPlus=np.quantile( y_data_i, 1-quantil/2, axis=0)\n",
    "    quantilMinus=np.quantile( y_data_i, quantil/2, axis=0)\n",
    "\n",
    "    # sorting is only necessary for fill_between, not for the regression\n",
    "    y_data=y_data_i_mean[index]\n",
    "    y_data_min=y_data_i_min[index]\n",
    "    y_data_max=y_data_i_max[index]\n",
    "    qPlus=quantilPlus[index]\n",
    "    qMinus=quantilMinus[index]\n",
    "    sigma=y_data_i_sigma[index]\n",
    "\n",
    "    fig, ax1 = pyplot.subplots()\n",
    "    ax1.plot(x_data, y_data, '*', label=ylabel)\n",
    "    ax1.fill_between(x_data, y_data_max, y_data_min, alpha=0.2)\n",
    "\n",
    "    #regression\n",
    "    x = x_data.reshape(-1,1)\n",
    "    lr_model = LinearRegression()\n",
    "    lr_model.fit(x, y_data)\n",
    "    y_pred_mean = lr_model.predict(x)\n",
    "    m_mean=lr_model.coef_\n",
    "    r_sq = lr_model.score(x, y_data)\n",
    "    if eins_minus:\n",
    "        ax1.plot(x, y_pred_mean, 'b-', label=str_m_mean_a + '= ' + round( str(m_mean[0]), sigfigs=2) + r' %/%' + ' $r^{2}=$ '+ round( str(r_sq), sigfigs=2))\n",
    "    else:\n",
    "        ax1.plot(x, y_pred_mean, 'b-', label=str_m_mean + '= ' + round( str(m_mean[0]), sigfigs=2) + r' %/%' + ' $r^{2}=$ '+ round( str(r_sq), sigfigs=2))\n",
    "\n",
    "\n",
    "    if quantil_ind:\n",
    "        lr_model.fit(x, qPlus)\n",
    "        y_pred_qMax = lr_model.predict(x)\n",
    "        m_qMax=lr_model.coef_\n",
    "        r_sq = lr_model.score(x, qPlus)\n",
    "        if eins_minus:\n",
    "            ax1.plot(x, qPlus, 'gx', label=str_q_plus_a)\n",
    "            ax1.plot(x, y_pred_qMax, 'g--', label=str_m_q_plus_a + '= ' + round( str(m_qMax[0]), sigfigs=2) + r' %/%' + ' $r^{2}=$ '+ round( str(r_sq), sigfigs=2))\n",
    "        else:\n",
    "            ax1.plot(x, y_pred_qMax, 'g--', label=str_m_q_plus + '= ' + round( str(m_qMax[0]), sigfigs=2) + r' %/%' + ' $r^{2}=$ '+ round( str(r_sq), sigfigs=2))\n",
    "\n",
    "        if not eins_minus:\n",
    "            lr_model.fit(x, qMinus)\n",
    "            y_pred_qMin = lr_model.predict(x)\n",
    "            m_qMin=lr_model.coef_\n",
    "            r_sq = lr_model.score(x, qMinus)\n",
    "            ax1.plot(x, y_pred_qMin, 'g-.', label=str_m_q_minus + '= ' + round( str(m_qMin[0]), sigfigs=2) + r' %/%' + ' $r^{2}=$ '+ round( str(r_sq), sigfigs=2))\n",
    "    else:\n",
    "        # without the first data set (normally zero)\n",
    "        if not eins_minus:\n",
    "            smcfSlopeMax=(y_data_max[1:]-1)/x_data[1:]\n",
    "            smcfSlopeMin=(y_data_min[1:]-1)/x_data[1:]\n",
    "        else:\n",
    "            smcfSlopeMax=(y_data_max[1:])/x_data[1:]\n",
    "            smcfSlopeMin=(y_data_min[1:])/x_data[1:]\n",
    "        smcfSlopeQMax = np.quantile( smcfSlopeMax, 1-quantil)\n",
    "        smcfSlopeQMin = np.quantile( smcfSlopeMin, quantil)\n",
    "        if not eins_minus:\n",
    "            ax1.plot( [0,0.1], [1, smcfSlopeQMax*0.1+1], 'b--', label=str_m_q_max + ' ' + round( str(smcfSlopeQMax), sigfigs=2) + r' %/%')\n",
    "            ax1.plot( [0,0.1], [1, smcfSlopeQMin*0.1+1], 'b-.', label=str_m_q_min + ' ' + round( str(smcfSlopeQMin), sigfigs=2) + r' %/%')\n",
    "        else:\n",
    "            ax1.plot( [0,0.1], [0, smcfSlopeQMax*0.1], 'b--', label=str_m_q_max_a + ' '  + round( str(smcfSlopeQMax), sigfigs=2) + r' %/%')\n",
    "\n",
    "    if ylabel2 is not None:\n",
    "        ax2 = ax1.twinx()\n",
    "        ax2.plot(x_data, sigma, 'ro', label=ylabel2)\n",
    "        ax2.set_ylabel(ylabel2)\n",
    "        ax2.spines['right'].set_color('red')\n",
    "        ax2.yaxis.label.set_color('red')\n",
    "        ax2.tick_params(axis='y', colors='red')\n",
    "        lr_model.fit(x, sigma)\n",
    "        y_pred_sigma = lr_model.predict(x)\n",
    "        m_sigma=lr_model.coef_\n",
    "        r_sq = lr_model.score(x, sigma)\n",
    "        ax2.plot(x, y_pred_sigma, 'r-', label=str_m_sigma + '= '+ round( str(m_sigma[0]), sigfigs=2) + r' 1/%' + ' $r^{2}=$ '+ round( str(r_sq), sigfigs=2))\n",
    "\n",
    "    ax1.set_xlabel( xlabel, fontsize=label_font_size)\n",
    "    ax1.set_ylabel(ylabel, fontsize=label_font_size)\n",
    "    if not eins_minus:\n",
    "        ax1.set_ylim([0.95, 1.05])\n",
    "    else:\n",
    "        ax1.set_ylim([0.0, 0.05])\n",
    "\n",
    "    pyplot.title(title)\n",
    "    lines_labels = [ax.get_legend_handles_labels() for ax in fig.axes]\n",
    "    lines, labels = [sum(lol, []) for lol in zip(*lines_labels)]\n",
    "    #fig.legend(lines, labels, bbox_to_anchor=(0, 0, 1, 0), loc=\"upper left\", mode=\"expand\", ncol=2)\n",
    "    fig.legend(lines, labels)\n",
    "    if filename is not None:\n",
    "        pyplot.savefig(filename)\n"
   ],
   "metadata": {
    "collapsed": false,
    "pycharm": {
     "name": "#%%\n"
    }
   }
  },
  {
   "cell_type": "markdown",
   "source": [
    "## Read some detector and spd data from the empir19nrm02 package\n",
    "<li>every entry (spectral responsivity, SPD is a row in the matrix, the first row is containing the wavelength scale)</li>\n",
    "<li>For all data files in this project the first (sometimes also the second) data set(s) are used for referecne\n",
    "calculations (e.g. for detectors the first one is V(Lambda) and for SPDs the first is standard illuminant A\n",
    "and the second one sometimes illuminant L41)</li>"
   ],
   "metadata": {
    "collapsed": false
   }
  },
  {
   "cell_type": "markdown",
   "source": [
    "### Select the source data for simulation (change the entries in res_data (True/False for the required data sets)\n",
    "### Detector Data\n",
    "<li>VLDetectors: Current Collection</li>\n",
    "<li>CIES025_VLDetectors: Collection from CIES025:2015</li>"
   ],
   "metadata": {
    "collapsed": false
   }
  },
  {
   "cell_type": "code",
   "execution_count": 4,
   "outputs": [
    {
     "name": "stdout",
     "output_type": "stream",
     "text": [
      "Detector data base:\n",
      "Name: VLDetectors\n",
      "    Size: 127\n",
      "    Use: True\n",
      "Name: CIES025_VLDetectors\n",
      "    Size: 121\n",
      "    Use: False\n",
      "Detectors for the Simulation:\n",
      "    Detectors: VLDetectors \n",
      "    Number of detectors: 127\n"
     ]
    }
   ],
   "source": [
    "res_data = { 'VLDetectors': True,\n",
    "              'CIES025_VLDetectors': False\n",
    "              }\n",
    "detector_start_reading = True\n",
    "detector_names = ''\n",
    "print('Detector data base:')\n",
    "for detector, enable in res_data.items():\n",
    "    print('Name:', detector )\n",
    "    print('    Size:', _RES[detector]['S']['data'].shape[0]-1 )\n",
    "    print('    Use:', enable )\n",
    "    if enable:\n",
    "        detector_names = detector_names + detector + ' '\n",
    "        if detector_start_reading:\n",
    "            vldetectorsTemp=_RES[detector]['S']['data'].copy()\n",
    "            wl_start = vldetectorsTemp[0].copy()\n",
    "            detector_start_reading=False\n",
    "        else:\n",
    "            data_to_append = _RES[detector]['S']['data'].copy()\n",
    "            interpolated_data = lx.cie_interp(data_to_append, wl_start, negative_values_allowed=True, kind='linear')\n",
    "            vldetectorsTemp = np.vstack( (vldetectorsTemp, interpolated_data[1:]))\n",
    "\n",
    "print( 'Detectors for the Simulation:')\n",
    "print( '    Detectors:', detector_names)\n",
    "print( '    Number of detectors:', vldetectorsTemp.shape[0]-1)"
   ],
   "metadata": {
    "collapsed": false,
    "pycharm": {
     "name": "#%%\n"
    }
   }
  },
  {
   "cell_type": "markdown",
   "source": [
    "## Test the data analyses for different wavelength resolutions based on the same data set.\n",
    "<li>bInterpol=False means using the original wavelength resolution of the data set (probably 5nm)</li>\n",
    "<li>bInterpol=True  means using the wavelength resolution of 1nm by interpolation of the original data to that resolution</li>"
   ],
   "metadata": {
    "collapsed": false
   }
  },
  {
   "cell_type": "code",
   "execution_count": 5,
   "outputs": [
    {
     "name": "stdout",
     "output_type": "stream",
     "text": [
      "(128, 81)\n",
      "(128, 81)\n"
     ]
    }
   ],
   "source": [
    "bInterpol = False\n",
    "if bInterpol:\n",
    "    wl_interpol = lx.getwlr([380,780,1])\n",
    "    vldetectors=lx.cie_interp(vldetectorsTemp, wl_interpol, negative_values_allowed=True, kind='S')\n",
    "else:\n",
    "    vldetectors=vldetectorsTemp\n",
    "\n",
    "print( vldetectorsTemp.shape)\n",
    "print( vldetectors.shape)"
   ],
   "metadata": {
    "collapsed": false,
    "pycharm": {
     "name": "#%%\n"
    }
   }
  },
  {
   "cell_type": "markdown",
   "source": [
    "### Select the SPD data for simulation (change the entries in spd_data (True/False for the required data sets)\n",
    "### SPD Data\n",
    "<li>BB: Collection of Blackbody SPDs </li>\n",
    "<li>PTLED':  Collection of PT White LEDs</li>\n",
    "<li>CIES025_PTLED':  Collection of PT White LEDs used in CIES025:2015</li>\n",
    "<li>OSRAM_PTLED':  Collection of PT White LEDs from OSRAM</li>\n",
    "<li>RGBLED':  Collection of RGB White LEDs</li>\n",
    "<li>CIES025_RGBLED':  Collection of RGB White LEDs used in CIES025:2015</li>\n",
    "<li>PHOTOLED':  Collection of PT White LEDs from the PhotoLED-Project</li>\n",
    "<li>MONOLED':  Collection of Monochrome LEDs</li>\n",
    "<li>OSRAM_MONOLED':  Collection of Monochrome LEDs from OSRAM</li>"
   ],
   "metadata": {
    "collapsed": false
   }
  },
  {
   "cell_type": "code",
   "execution_count": 6,
   "outputs": [
    {
     "name": "stdout",
     "output_type": "stream",
     "text": [
      "SPD data base:\n",
      "Name: BB \t\t\t Size: 55 \t\t Use: False\n",
      "Name: PTLED \t\t\t Size: 229 \t\t Use: False\n",
      "Name: CIES025_PTLED \t\t\t Size: 228 \t\t Use: False\n",
      "Name: OSRAM_PTLED \t\t\t Size: 137 \t\t Use: False\n",
      "Name: RGBLED \t\t\t Size: 98 \t\t Use: False\n",
      "Name: CIES025_RGBLED \t\t\t Size: 97 \t\t Use: False\n",
      "Name: PHOTOLED \t\t\t Size: 1496 \t\t Use: True\n",
      "Name: MONOLED \t\t\t Size: 288 \t\t Use: False\n",
      "Name: OSRAM_MONOLED \t\t\t Size: 260 \t\t Use: False\n",
      "\n",
      "SPDs for the Simulation:\n",
      "    SPD: PHOTOLED \n",
      "    Number of spds: 1496\n"
     ]
    }
   ],
   "source": [
    "spd_data = {'BB': False,\n",
    "            'PTLED': False,\n",
    "            'CIES025_PTLED': False,\n",
    "            'OSRAM_PTLED': False,\n",
    "            'RGBLED':  False,\n",
    "            'CIES025_RGBLED':  False,\n",
    "            'PHOTOLED':  True,\n",
    "            'MONOLED':  False,\n",
    "            'OSRAM_MONOLED':  False}\n",
    "\n",
    "\n",
    "spd_start_reading = True\n",
    "spd_names = ''\n",
    "print('SPD data base:')\n",
    "for spd, enable in spd_data.items():\n",
    "    print('Name:', spd, '\\t\\t\\t', 'Size:', _SPD[spd]['S']['data'].shape[0]-1, '\\t\\t', 'Use:', enable)\n",
    "    if enable:\n",
    "        spd_names = spd_names + spd + ' '\n",
    "        if spd_start_reading:\n",
    "            spectra=_SPD[spd]['S']['data'].copy()\n",
    "            wl_start = spectra[0].copy()\n",
    "            spd_start_reading=False\n",
    "        else:\n",
    "            data_to_append = _SPD[spd]['S']['data'].copy()\n",
    "            interpolated_data = lx.cie_interp(data_to_append, wl_start, negative_values_allowed=True, kind='S')\n",
    "            spectra = np.vstack( (spectra, interpolated_data))\n",
    "\n",
    "print( '\\nSPDs for the Simulation:')\n",
    "print( '    SPD:', spd_names)\n",
    "print( '    Number of spds:', spectra.shape[0]-1)\n"
   ],
   "metadata": {
    "collapsed": false,
    "pycharm": {
     "name": "#%%\n"
    }
   }
  },
  {
   "cell_type": "markdown",
   "source": [
    "### Calculating all the different $f_{1}^{'}$ values."
   ],
   "metadata": {
    "collapsed": false
   }
  },
  {
   "cell_type": "markdown",
   "source": [
    "### Sort the detectors on their $f_{1}^{'}$ values to make the visualization easier"
   ],
   "metadata": {
    "collapsed": false
   }
  },
  {
   "cell_type": "code",
   "execution_count": 7,
   "outputs": [],
   "source": [
    "#f1pT=py_f1PrimeGlx(vldetectors, strObserver='1931_2', iObserverOffset = 1, strWeighting='A', iMin=0, dCutOff=0., dBandWidth=0.)\n",
    "#vldetectors[1:]=vldetectors[np.argsort(f1pT)+1]"
   ],
   "metadata": {
    "collapsed": false,
    "pycharm": {
     "name": "#%%\n"
    }
   }
  },
  {
   "cell_type": "markdown",
   "source": [
    "# What is the topic here?"
   ],
   "metadata": {
    "collapsed": false
   }
  },
  {
   "cell_type": "code",
   "execution_count": 8,
   "outputs": [
    {
     "data": {
      "text/plain": "<Figure size 432x288 with 1 Axes>",
      "image/png": "[encoded data removed]"
     },
     "metadata": {
      "needs_background": "light"
     },
     "output_type": "display_data"
    }
   ],
   "source": [
    "fig0, ax0 = pyplot.subplots()\n",
    "strNumber = str(selected_detector)\n",
    "ax0.plot(vldetectors[0], vldetectors[1],'g-', label=strVLambda)\n",
    "ax0.plot(vldetectors[0], vldetectors[selected_detector],'r*', label=r'Detector Number:' + strNumber)\n",
    "ax0.legend()\n",
    "pyplot.ylabel(strVLambda + r' , $s_{' + strNumber + '}(\\lambda)' + strAU+ '$',fontsize=label_font_size)\n",
    "pyplot.xlabel('$\\lambda$ / nm',fontsize=label_font_size)\n",
    "save_fig(filename='SampleDetector')"
   ],
   "metadata": {
    "collapsed": false,
    "pycharm": {
     "name": "#%%\n"
    }
   }
  },
  {
   "cell_type": "code",
   "execution_count": 9,
   "outputs": [],
   "source": [
    "def label_management( locfig0, locax2nd, strColor2nd='blue'):\n",
    "    lines_labels = [ax.get_legend_handles_labels() for ax in locfig0.axes]\n",
    "    lines, labels = [sum(lol, []) for lol in zip(*lines_labels)]\n",
    "    locax2nd.spines['right'].set_color(strColor2nd)\n",
    "    locax2nd.yaxis.label.set_color(strColor2nd)\n",
    "    locax2nd.tick_params(axis='y', colors=strColor2nd)\n",
    "    return [lines, labels]\n"
   ],
   "metadata": {
    "collapsed": false,
    "pycharm": {
     "name": "#%%\n"
    }
   }
  },
  {
   "cell_type": "code",
   "execution_count": 12,
   "outputs": [
    {
     "data": {
      "text/plain": "<Figure size 432x288 with 2 Axes>",
      "image/png": "[encoded data removed]"
     },
     "metadata": {
      "needs_background": "light"
     },
     "output_type": "display_data"
    }
   ],
   "source": [
    "strNumberDetector = str(selected_detector)\n",
    "\n",
    "fig0, ax0 = pyplot.subplots()\n",
    "strNumber = str(selected_detector)\n",
    "ax0.plot(vldetectors[0], vldetectors[1],'g-', label=strVLambda)\n",
    "ax0.plot(vldetectors[0], vldetectors[selected_detector],'r*', label=r'Detector Number:' + strNumber)\n",
    "ax0.set_ylabel(strVLambda + r' , $s_{' + strNumber + '}(\\lambda)'+ strAU +'$',fontsize=label_font_size)\n",
    "ax0.set_xlabel('$\\lambda$ / nm',fontsize=label_font_size)\n",
    "\n",
    "\n",
    "strDiff = '$V(\\lambda)-s_{' + strNumberDetector + '}(\\lambda)$'\n",
    "ax1 = ax0.twinx()\n",
    "ax1.plot(vldetectors[0], vldetectors[1]-vldetectors[selected_detector], 'b', label=strDiff)\n",
    "ax1.set_ylabel( strDiff,fontsize=label_font_size)\n",
    "\n",
    "\n",
    "[lines, labels]=label_management( fig0, ax1, 'blue')\n",
    "fig0.legend(lines, labels, bbox_to_anchor=(0.55, 0.55, 0.4, 0.3), loc='upper left')\n",
    "\n",
    "\n",
    "save_fig(filename='SampleDetectorAbsDiff')\n"
   ],
   "metadata": {
    "collapsed": false,
    "pycharm": {
     "name": "#%%\n"
    }
   }
  },
  {
   "cell_type": "code",
   "execution_count": 11,
   "outputs": [
    {
     "data": {
      "text/plain": "<Figure size 432x288 with 2 Axes>",
      "image/png": "[encoded data removed]"
     },
     "metadata": {
      "needs_background": "light"
     },
     "output_type": "display_data"
    }
   ],
   "source": [
    "fig0, ax0 = pyplot.subplots()\n",
    "strNumber = str(selected_detector)\n",
    "ax0.plot(vldetectors[0], vldetectors[1],'g-', label=strVLambda)\n",
    "ax0.plot(vldetectors[0], vldetectors[selected_detector],'r*', label=r'Detector Number:' + strNumber)\n",
    "ax0.set_xlabel('$\\lambda$ / nm',fontsize=label_font_size)\n",
    "\n",
    "strDiffRel = '$(V(\\lambda)-s_{' + strNumberDetector + '}(\\lambda))/V(\\lambda)$'\n",
    "ax1 = ax0.twinx()\n",
    "\n",
    "ax1.plot(vldetectors[0], (vldetectors[1]-vldetectors[selected_detector])/vldetectors[1], 'b', label=strDiffRel)\n",
    "ax0.set_ylabel(strVLambda + r' , $s_{' + strNumber + '}(\\lambda)' + strAU + '$',fontsize=label_font_size)\n",
    "ax1.set_ylabel( strDiffRel,fontsize=label_font_size)\n",
    "\n",
    "[lines, labels]=label_management( fig0, ax1, 'blue')\n",
    "fig0.legend(lines, labels, bbox_to_anchor=(0.55, 0.55, 0.4, 0.3), loc='upper left')\n",
    "save_fig(filename='SampleDetectorRelDiff')"
   ],
   "metadata": {
    "collapsed": false,
    "pycharm": {
     "name": "#%%\n"
    }
   }
  },
  {
   "cell_type": "code",
   "execution_count": null,
   "outputs": [],
   "source": [
    "selected_SPD=2\n",
    "fig0, ax0 = pyplot.subplots()\n",
    "if selected_SPD == 1:\n",
    "    strNumberSPD = 'A'\n",
    "elif selected_SPD == 2:\n",
    "    strNumberSPD = 'L'\n",
    "else:\n",
    "    strNumberSPD = str(selected_SPD)\n",
    "ax0.plot(vldetectors[0], vldetectors[1],'g-', label=strVLambda)\n",
    "ax0.plot(vldetectors[0], vldetectors[selected_detector],'r*', label=r'Detector Number:' + strNumberDetector)\n",
    "ax0.set_xlabel('$\\lambda$ / nm',fontsize=label_font_size)\n",
    "ax0.set_ylabel(strVLambda + r' , $s_{' + strNumberDetector + '}(\\lambda)' + strAU + '$',fontsize=label_font_size)\n",
    "\n",
    "ax1 = ax0.twinx()\n",
    "if selected_SPD == 1:\n",
    "    ax1.plot(spectra[0], spectra[selected_SPD], 'b', label=r'CIE Standard Illuminant A')\n",
    "elif selected_SPD == 2:\n",
    "    ax1.plot(spectra[0], spectra[selected_SPD], 'b', label=r'Illuminant L (B3;L41)')\n",
    "else:\n",
    "    ax1.plot(spectra[0], spectra[selected_SPD], 'b', label=r'SD Number:' + strNumberSPD)\n",
    "ax1.set_ylabel( r' $S_{' + strNumberSPD + '}(\\lambda)' + strAU + '$',fontsize=label_font_size)\n",
    "\n",
    "[lines, labels] = label_management(fig0, ax1, 'blue')\n",
    "fig0.legend(lines, labels, bbox_to_anchor=(0.55, 0.55, 0.4, 0.3), loc='upper left')\n",
    "\n",
    "save_fig(filename='SampleDetectorSPD')"
   ],
   "metadata": {
    "collapsed": false,
    "pycharm": {
     "name": "#%%\n"
    }
   }
  },
  {
   "cell_type": "markdown",
   "source": [
    "### Let's measure with both detectors (the ideal one and the real one) and integrate wavelength step by wavelength step"
   ],
   "metadata": {
    "collapsed": false
   }
  },
  {
   "cell_type": "code",
   "execution_count": null,
   "outputs": [],
   "source": [
    "wl_temp = vldetectors[0].copy()\n",
    "spectra_interpol = lx.cie_interp(spectra, wl_temp, negative_values_allowed=True, kind='linear')\n",
    "ideal_detector = vldetectors[1].copy()\n",
    "real_detector = vldetectors[selected_detector].copy()\n",
    "i0=spectra_interpol[selected_SPD].copy()\n",
    "i1=spectra_interpol[selected_SPD].copy()\n",
    "calib=spectra_interpol[1].copy()\n",
    "c0=1e-5*np.sum(calib*ideal_detector)\n",
    "c1=1e-5*np.sum(calib*real_detector)\n",
    "i0=1./c0*np.cumsum(i0*ideal_detector)\n",
    "i1=1./c1*np.cumsum(i1*real_detector)\n",
    "\n",
    "fig0, ax0 = pyplot.subplots()\n",
    "str_label1 = '$\\int S_{' + strNumberSPD + '}(\\lambda)\\cdot V(\\lambda) \\cdot \\mathrm{d}\\lambda$'\n",
    "str_label2 = '$\\int S_{' + strNumberSPD + '}(\\lambda)\\cdot s_{' + strNumberDetector + '}(\\lambda) \\cdot \\mathrm{d}\\lambda$'\n",
    "str_axis = '$\\int_{\\lambda=360nm}^{\\lambda_{0}} S_{' + strNumberSPD + '}(\\lambda)\\cdot s(\\lambda) \\cdot \\mathrm{d}\\lambda$'\n",
    "\n",
    "ax0.plot(wl_temp, i0,'g', label=str_label1)\n",
    "ax0.plot(wl_temp, i1, 'r', label=str_label2)\n",
    "ax0.set_xlabel('$\\lambda_{0}$ / nm',fontsize=label_font_size)\n",
    "ax0.set_ylabel( str_axis + strAU,fontsize=label_font_size)\n",
    "\n",
    "ax1 = ax0.twinx()\n",
    "#ax1.plot(wl_temp, (i1-i0)/(i1[-1]-i0[-1]), 'b', label=r'SMCF')\n",
    "str_label3 = '$F(\\lambda_{0})$'\n",
    "ax1.plot(wl_temp, (i1-i0)/i0[-1]+1, 'b', label=str_label3)\n",
    "ax1.set_ylabel( str_label3,fontsize=label_font_size)\n",
    "\n",
    "ax1.spines['right'].set_color('blue')\n",
    "ax1.yaxis.label.set_color('blue')\n",
    "ax1.tick_params(axis='y', colors='blue')\n",
    "\n",
    "lines_labels = [ax.get_legend_handles_labels() for ax in fig0.axes]\n",
    "lines, labels = [sum(lol, []) for lol in zip(*lines_labels)]\n",
    "fig0.legend(lines, labels, bbox_to_anchor=(0.55, 0.45, 0.4, 0.3), loc='upper left')\n",
    "\n",
    "save_fig(filename='SampleDetectorSMCFDevelopment')\n"
   ],
   "metadata": {
    "collapsed": false,
    "pycharm": {
     "name": "#%%\n"
    }
   }
  },
  {
   "cell_type": "markdown",
   "source": [
    "## Get some statistical data from the detectors"
   ],
   "metadata": {
    "collapsed": false
   }
  },
  {
   "cell_type": "markdown",
   "source": [
    "### Detector responsivity distribution"
   ],
   "metadata": {
    "collapsed": false
   }
  },
  {
   "cell_type": "code",
   "execution_count": null,
   "outputs": [],
   "source": [
    "wl_temp = vldetectors[0].copy()\n",
    "index0=np. where(wl_temp == 555)\n",
    "vldetectorNormA = vldetectors.copy()\n",
    "vldetectorNormL = vldetectors.copy()\n",
    "# 1 NLA, 2 L\n",
    "calib_specA=spectra_interpol[1].copy()\n",
    "calib_specL=spectra_interpol[2].copy()\n",
    "c0A=1e-5*np.sum(calib_specA*ideal_detector)\n",
    "c0L=1e-5*np.sum(calib_specL*ideal_detector)\n",
    "for i in range(1, vldetectors.shape[0]-1):\n",
    "    c1A=1e-5*np.sum(calib_specA*vldetectorNormA[i])\n",
    "    c1L=1e-5*np.sum(calib_specL*vldetectorNormL[i])\n",
    "    vldetectorNormA[i] = vldetectorNormA[i]*c0A/c1A\n",
    "    vldetectorNormL[i] = vldetectorNormL[i]*c0L/c1L\n",
    "    #vldetectorNorm[i] = vldetectorNorm[i]/vldetectorNorm[i][index0]\n",
    "    pyplot.plot(wl_temp, vldetectorNormA[i])"
   ],
   "metadata": {
    "collapsed": false,
    "pycharm": {
     "name": "#%%\n"
    }
   }
  },
  {
   "cell_type": "code",
   "execution_count": null,
   "outputs": [],
   "source": [
    "for i in range(1, vldetectors.shape[0]-1):\n",
    "    pyplot.plot(wl_temp, vldetectorNormL[i])"
   ],
   "metadata": {
    "collapsed": false,
    "pycharm": {
     "name": "#%%\n"
    }
   }
  },
  {
   "cell_type": "code",
   "execution_count": null,
   "outputs": [],
   "source": [
    "fig, ax1 = pyplot.subplots()\n",
    "ax1.plot(wl_temp, np.mean(vldetectorNormA[1:,:], axis=0), 'b', label= r'$\\bar {s}_{\\mathrm{rel}}^{*}(\\lambda)$')\n",
    "ax1.fill_between(wl_temp,np.max(vldetectorNormA[1:,:], axis=0), np.min(vldetectorNormA[1:,:],axis=0), alpha=0.2)\n",
    "ax1.set_ylabel('$s_{\\mathrm{rel}}(\\lambda)$',fontsize=label_font_size)\n",
    "ax1.set_xlabel('$\\lambda$ / nm',fontsize=label_font_size)\n",
    "\n",
    "ax2 = ax1.twinx()\n",
    "ax2.plot(wl_temp, np.std(vldetectorNormA[1:,:], axis=0), 'r', label=r'$\\sigma({s}_{\\mathrm{rel}}^{*}(\\lambda)$)')\n",
    "ax2.plot(wl_temp, np.std(vldetectorNormL[1:,:], axis=0), 'g', label=r'$\\sigma({s}_{\\mathrm{rel,L}}^{}(\\lambda)$)')\n",
    "ax2.set_ylabel('$\\sigma(s_{\\mathrm{rel}}(\\lambda))$',fontsize=label_font_size)\n",
    "\n",
    "\n",
    "[lines, labels]=label_management( fig, ax2, 'red')\n",
    "fig.legend(lines, labels, bbox_to_anchor=(0.65, 0.55, 0.4, 0.3), loc='upper left')\n",
    "\n",
    "save_fig(filename='DetectorsStat0')\n",
    "\n",
    "#pyplot.plot(wl_temp, np.mean(vldetectorNorm[1:,:], axis=0))\n",
    "#pyplot.plot(wl_temp, np.std(vldetectorNorm[1:,:], axis=0))"
   ],
   "metadata": {
    "collapsed": false,
    "pycharm": {
     "name": "#%%\n"
    }
   }
  },
  {
   "cell_type": "markdown",
   "source": [
    "### Get $f_{1}^{´}$ statistics"
   ],
   "metadata": {
    "collapsed": false
   }
  },
  {
   "cell_type": "code",
   "execution_count": null,
   "outputs": [],
   "source": [
    "#f1pA=lx.spectral_mismatch_and_uncertainty.f1prime(vldetectors, S_C='A', cieobs='1931_2', s_target_index=2)\n",
    "#f1pE=lx.spectral_mismatch_and_uncertainty.f1prime(vldetectors, S_C='E', cieobs='1931_2', s_target_index=2)\n",
    "#f1pLED=lx.spectral_mismatch_and_uncertainty.f1prime(vldetectors, S_C='LED_B3', cieobs='1931_2', s_target_index=2)\n",
    "f1pA=py_f1PrimeGlx(vldetectors, strObserver='1931_2', iObserverOffset = 1, strWeighting='A', iMin=0, dCutOff=0., dBandWidth=0.)\n",
    "f1pE=py_f1PrimeGlx(vldetectors, strObserver='1931_2', iObserverOffset = 1, strWeighting='E', iMin=0, dCutOff=0., dBandWidth=0.)\n",
    "f1pLED=py_f1PrimeGlx(vldetectors, strObserver='1931_2', iObserverOffset = 1, strWeighting='LED_B3', iMin=0, dCutOff=0., dBandWidth=0.)\n",
    "f1pAFMin=py_f1PrimeGlx(vldetectors, strObserver='1931_2', iObserverOffset = 1, strWeighting='A', iMin=1, dCutOff=0., dBandWidth=0.)\n",
    "f1pp=py_f1PrimeGlx(vldetectors, strObserver='1931_2', iObserverOffset = 1, strWeighting='E', iMin=0, dCutOff=dCutOff, dBandWidth=0.)\n",
    "f1ppR=py_f1PrimeGlx(vldetectors, strObserver='1931_2', iObserverOffset = 1, strWeighting='E', iMin=0, dCutOff=-dCutOff, dBandWidth=0.)\n",
    "f1pBW20nm=py_f1PrimeGlx(vldetectors, strObserver='1931_2', iObserverOffset = 1, strWeighting='A', iMin=0, dCutOff=0., dBandWidth=20.)"
   ],
   "metadata": {
    "collapsed": false,
    "pycharm": {
     "name": "#%%\n"
    }
   }
  },
  {
   "cell_type": "markdown",
   "source": [
    "### Get all $f_{1}^{´}$ values (standard evaluation, weighting with illuminant A, target function $V(\\lambda)$)"
   ],
   "metadata": {
    "collapsed": false
   }
  },
  {
   "cell_type": "code",
   "execution_count": null,
   "outputs": [],
   "source": [
    "if b_not_for_paper:\n",
    "    plotHist( f1pA, xLabel=strf1p, yLabel='Number of detectors', bins=25, title='Histogram of $f_{1}^{´}$  Data:' + detector_names, fontsize=label_font_size)\n",
    "else:\n",
    "    plotHist( f1pA, xLabel=strf1p, yLabel='Number of detectors', bins=25, title=None,fontsize=label_font_size)\n",
    "save_fig(filename='Histf1p')\n"
   ],
   "metadata": {
    "collapsed": false,
    "pycharm": {
     "name": "#%%\n"
    }
   }
  },
  {
   "cell_type": "markdown",
   "source": [
    "### Let's have a look for the differences $f_{1}^{´}$-$f_{1,\\mathrm{L}}^{´}$ and  $f_{1}^{´}$-$f_{1}^{*}$ over $f_{1}^{´}$\n",
    "#### BTW:  $f_{1}^{*}$ is using the weighting with Standard illuminant E (no weighting at all)"
   ],
   "metadata": {
    "collapsed": false
   }
  },
  {
   "cell_type": "code",
   "execution_count": null,
   "outputs": [],
   "source": [
    "pyplot.plot(f1pA, f1pA-f1pE, '*', label=strf1p + ' - ' + strf1pE)\n",
    "pyplot.plot(f1pA, f1pA-f1pLED, 'o', label=strf1p + ' - ' + strf1pLED)\n",
    "pyplot.plot(f1pA, f1pA-f1pAFMin, '1', label=strf1p + ' - ' + strf1pMin)\n",
    "pyplot.xlabel(strf1p,fontsize=label_font_size)\n",
    "pyplot.ylabel(strf1p + ' difference',fontsize=label_font_size)\n",
    "pyplot.legend()\n",
    "save_fig(filename='f1pDiff')"
   ],
   "metadata": {
    "collapsed": false,
    "pycharm": {
     "name": "#%%\n"
    }
   }
  },
  {
   "cell_type": "code",
   "execution_count": null,
   "outputs": [],
   "source": [
    "pyplot.plot(f1pA, 100*(f1pA-f1pE)/f1pA, '*', label='(' + strf1p + ' - ' + strf1pE+')/'+strf1p)\n",
    "pyplot.plot(f1pA, 100*(f1pA-f1pLED)/f1pA, 'o', label='(' + strf1p + ' - ' + strf1pLED+')/'+strf1p)\n",
    "pyplot.plot(f1pA, 100*(f1pA-f1pAFMin)/f1pA, '1', label='(' + strf1p + ' - ' + strf1pMin+')/'+strf1p)\n",
    "pyplot.xlabel(strf1p,fontsize=label_font_size)\n",
    "pyplot.ylabel(strf1p + ' rel. difference / %',fontsize=label_font_size)\n",
    "pyplot.legend()\n",
    "save_fig(filename='f1pDiffRel')"
   ],
   "metadata": {
    "collapsed": false,
    "pycharm": {
     "name": "#%%\n"
    }
   }
  },
  {
   "cell_type": "code",
   "execution_count": null,
   "outputs": [],
   "source": [
    "pyplot.plot(f1pA, f1pA-f1ppR, '2', label=strf1p + ' - ' + strf1ppR)\n",
    "pyplot.plot(f1pA, f1pA-f1pBW20nm, '3', label=strf1p + ' - ' + strf1pBW)\n",
    "pyplot.xlabel(strf1p,fontsize=label_font_size)\n",
    "pyplot.ylabel(strf1p + ' difference',fontsize=label_font_size)\n",
    "pyplot.legend()\n",
    "save_fig(filename='f1pDiffNew')"
   ],
   "metadata": {
    "collapsed": false,
    "pycharm": {
     "name": "#%%\n"
    }
   }
  },
  {
   "cell_type": "code",
   "execution_count": null,
   "outputs": [],
   "source": [
    "pyplot.plot(f1pA, 100*(f1pA-f1ppR)/f1pA, '2', label='(' + strf1p + ' - ' + strf1ppR+')/'+strf1p)\n",
    "pyplot.plot(f1pA, 100*(f1pA-f1pBW20nm)/f1pA, '3', label='(' + strf1p + ' - ' + strf1pBW+')/'+strf1p)\n",
    "pyplot.xlabel(strf1p, fontsize=label_font_size)\n",
    "pyplot.ylabel(strf1p + ' rel. difference / %',fontsize=label_font_size)\n",
    "pyplot.legend()\n",
    "save_fig(filename='f1pDiffRelNew')"
   ],
   "metadata": {
    "collapsed": false,
    "pycharm": {
     "name": "#%%\n"
    }
   }
  },
  {
   "cell_type": "markdown",
   "source": [
    "# Explanation of the deltaVector"
   ],
   "metadata": {
    "collapsed": false
   }
  },
  {
   "cell_type": "code",
   "execution_count": null,
   "outputs": [],
   "source": [
    "vlDetectorNumber = vldetectors.shape[0]-1\n",
    "vlDetectorListNumber = 1\n",
    "if vlDetectorListNumber < vlDetectorNumber:\n",
    "    detectorList = [random.randint(1, vlDetectorNumber) for p in range(1, vlDetectorListNumber+1)]\n",
    "else:\n",
    "    detectorList = range(1, vlDetectorNumber+1)\n",
    "    vlDetectorListNumber = vlDetectorNumber\n",
    "\n",
    "detectorList[0]=selected_detector\n",
    "\n",
    "f1Array = np.zeros( (3, vlDetectorListNumber))\n",
    "detaVectorArray = np.zeros( (3, vlDetectorListNumber, vldetectors.shape[1]))\n",
    "\n",
    "for i in range(0, vlDetectorListNumber):\n",
    "    [f1Array[0,i], detaVectorArray[0,i]] = py_f1PrimeG(vldetectors[0], vldetectors[detectorList[i]], strObserver='1931_2', iObserverOffset = 1, strWeighting='A', iMin=0, dCutOff=0., dBandWidth=0.)\n",
    "    [f1Array[1,i], detaVectorArray[1,i]] = py_f1PrimeG(vldetectors[0], vldetectors[detectorList[i]], strObserver='1931_2', iObserverOffset = 1, strWeighting='E', iMin=0, dCutOff=-dCutOff, dBandWidth=0.)\n",
    "    [f1Array[2,i], detaVectorArray[2,i]] = py_f1PrimeG(vldetectors[0], vldetectors[detectorList[i]], strObserver='1931_2', iObserverOffset = 1, strWeighting='A', iMin=0, dCutOff=0., dBandWidth=20.)\n",
    "\n",
    "    fig, ax = pyplot.subplots()\n",
    "    strLabel = 'Org # ' + str(detectorList[i]) + ' ' + strf1p + '$=$' + round(str(f1Array[0,i]*100), decimals=2) + r'%'\n",
    "    ax.plot(vldetectors[0], detaVectorArray[0,i],'r*', label=strLabel)\n",
    "    strLabel = 'R # ' + str(detectorList[i]) + ' ' + strf1ppR + '$=$' + round(str(f1Array[1,i]*100), decimals=2) + r'%'\n",
    "    ax.plot(vldetectors[0], detaVectorArray[1,i],'g*', label=strLabel)\n",
    "    strLabel = 'BW # ' + str(detectorList[i]) + ' ' + strf1pBW + '$=$' + round(str(f1Array[2,i]*100), decimals=2) + r'%'\n",
    "    ax.plot(vldetectors[0], detaVectorArray[2,i],'b*', label=strLabel)\n",
    "    ax.set_xlim(left=380, right=780)\n",
    "    ax.axhline(0)\n",
    "    ax.legend()\n",
    "    if b_not_for_paper:\n",
    "        pyplot.title('Comparison of $\\delta_{\\mathrm{s}} (\\lambda)$ functions for different ' + strf1p + ' calculations')\n",
    "    pyplot.ylabel('$\\delta_{\\mathrm{s}}(\\lambda)' + strAU + '$', fontsize=label_font_size)\n",
    "    pyplot.xlabel('$\\lambda$ / nm', fontsize=label_font_size)\n",
    "    save_fig(filename='DeltaFunctions')\n",
    "\n",
    "\n",
    "print('#:\\t', detectorList)\n",
    "print(strf1p, '$:\\t$', f1Array[0])\n",
    "print(strf1ppR, '$:\\t$', f1Array[1])\n",
    "print(strf1pBW, '$:\\t$', f1Array[2])"
   ],
   "metadata": {
    "collapsed": false,
    "pycharm": {
     "name": "#%%\n"
    }
   }
  },
  {
   "cell_type": "code",
   "execution_count": null,
   "outputs": [],
   "source": [
    "f1Array = np.zeros( (4, vlDetectorListNumber))\n",
    "detaVectorArray = np.zeros( (4, vlDetectorListNumber, vldetectors.shape[1]))\n",
    "\n",
    "for i in range(0, vlDetectorListNumber):\n",
    "    [f1Array[0,i], detaVectorArray[0,i]] = py_f1PrimeG(vldetectors[0], vldetectors[detectorList[i]], strObserver='1931_2', iObserverOffset = 1, strWeighting='A', iMin=0, dCutOff=0., dBandWidth=0.)\n",
    "    [f1Array[1,i], detaVectorArray[1,i]] = py_f1PrimeG(vldetectors[0], vldetectors[detectorList[i]], strObserver='1931_2', iObserverOffset = 1, strWeighting='E', iMin=0, dCutOff=-dCutOff, dBandWidth=0.)\n",
    "    [f1Array[2,i], detaVectorArray[2,i]] = py_f1PrimeG(vldetectors[0], vldetectors[detectorList[i]], strObserver='1931_2', iObserverOffset = 1, strWeighting='E', iMin=0, dCutOff=-4*dCutOff, dBandWidth=0.)\n",
    "    [f1Array[3,i], detaVectorArray[3,i]] = py_f1PrimeG(vldetectors[0], vldetectors[detectorList[i]], strObserver='1931_2', iObserverOffset = 1, strWeighting='E', iMin=0, dCutOff=-5*dCutOff, dBandWidth=0.)\n",
    "\n",
    "    fig, ax = pyplot.subplots()\n",
    "    strLabel = 'Org # ' + str(detectorList[i]) + ' ' + strf1p + '$=$' + round(str(f1Array[0,i]*100), decimals=2) + r'%'\n",
    "    ax.plot(vldetectors[0], detaVectorArray[0,i],'r-', label=strLabel)\n",
    "    strLabel = 'R # ' + str(detectorList[i]) + ' ' + strf1ppR + '$=$' + round(str(f1Array[1,i]*100), decimals=2) + r'%'\n",
    "    ax.plot(vldetectors[0], detaVectorArray[1,i],'g*', label=strLabel)\n",
    "    strLabel = 'R4 # ' + str(detectorList[i]) + ' ' + strf1ppR + '$=$' + round(str(f1Array[2,i]*100), decimals=2) + r'%'\n",
    "    ax.plot(vldetectors[0], detaVectorArray[2,i],'b*', label=strLabel)\n",
    "    strLabel = 'R5 # ' + str(detectorList[i]) + ' ' + strf1ppR + '$=$' + round(str(f1Array[3,i]*100), decimals=2) + r'%'\n",
    "    ax.plot(vldetectors[0], detaVectorArray[3,i],'c*', label=strLabel)\n",
    "    ax.set_xlim(left=380, right=780)\n",
    "    ax.axhline(0)\n",
    "    ax.legend()\n",
    "    if b_not_for_paper:\n",
    "        pyplot.title('Comparison of $\\delta_{\\mathrm{s}} (\\lambda)$ functions for different cutoff frequencies')\n",
    "    pyplot.ylabel('$\\delta_{\\mathrm{s}}(\\lambda)' + strAU + '$', fontsize=label_font_size)\n",
    "    pyplot.xlabel('$\\lambda$ / nm', fontsize=label_font_size)\n",
    "    save_fig(filename='DeltaFunctionsCutOff')"
   ],
   "metadata": {
    "collapsed": false,
    "pycharm": {
     "name": "#%%\n"
    }
   }
  },
  {
   "cell_type": "code",
   "execution_count": null,
   "outputs": [],
   "source": [
    "hBins = 30\n",
    "\n",
    "fig, ax = pyplot.subplots()\n",
    "ax.set_xlabel(strf1p + ',' + strf1pE + ','  + strf1pLED + ',' + strf1pMin, fontsize=label_font_size)\n",
    "ax.set_ylabel('Number of detectors', fontsize=label_font_size)\n",
    "ax.hist(f1pA.flatten(),  bins=hBins, alpha = a1, log=False, label=strf1p, color = 'r')\n",
    "ax.hist(f1pE.flatten(),  bins=hBins, alpha = a2, log=False, label=strf1pE, color = 'g')\n",
    "ax.hist(f1pLED.flatten(),  bins=hBins, alpha = a3, log=False, label=strf1pLED, color = 'b')\n",
    "ax.hist(f1pAFMin.flatten(), bins=hBins, alpha = a4, log=False, label=strf1pMin, color = 'k')\n",
    "ax.legend()\n",
    "save_fig(filename='Hist_Comp_f1pf1pEf1pLEDf1pMin')"
   ],
   "metadata": {
    "collapsed": false,
    "pycharm": {
     "name": "#%%\n"
    }
   }
  },
  {
   "cell_type": "code",
   "execution_count": null,
   "outputs": [],
   "source": [
    "fig, ax = pyplot.subplots()\n",
    "ax.set_xlabel(strf1p + ',' + strf1ppR   + ','  + strf1pBW, fontsize=label_font_size)\n",
    "ax.set_ylabel('Number of detectors', fontsize=label_font_size)\n",
    "ax.hist(f1pA.flatten(),  bins=hBins, alpha = a1, log=False, label=strf1p, color = 'r')\n",
    "ax.hist(f1ppR.flatten(),  bins=hBins, alpha = a2, log=False, label=strf1ppR, color = 'g')\n",
    "ax.hist(f1pBW20nm.flatten(),  bins=hBins, alpha = a3, log=False, label=strf1pBW, color = 'b')\n",
    "ax.legend()\n",
    "save_fig(filename='Hist_Comp_f1pf1ppRf1pBW')"
   ],
   "metadata": {
    "collapsed": false,
    "pycharm": {
     "name": "#%%\n"
    }
   }
  },
  {
   "cell_type": "markdown",
   "source": [
    "### Calculating the correlation between all the different $f_{1}^{'}$ values"
   ],
   "metadata": {
    "collapsed": false
   }
  },
  {
   "cell_type": "code",
   "execution_count": null,
   "outputs": [],
   "source": [
    "# Combine the results in a vector\n",
    "f1pEval = np.vstack(( f1pA, f1pE, f1pLED, f1pAFMin, f1pp, f1ppR, f1pBW20nm))\n",
    "f1pEvalCorr = np.corrcoef(f1pEval)"
   ],
   "metadata": {
    "collapsed": false,
    "pycharm": {
     "name": "#%%\n"
    }
   }
  },
  {
   "cell_type": "code",
   "execution_count": null,
   "outputs": [],
   "source": [
    "np.savetxt('f1pEval.csv', f1pEval, delimiter=';')\n",
    "np.savetxt('specTestl.csv', vldetectors, delimiter=';')"
   ],
   "metadata": {
    "collapsed": false,
    "pycharm": {
     "name": "#%%\n"
    }
   }
  },
  {
   "cell_type": "code",
   "execution_count": null,
   "outputs": [],
   "source": [
    "x_label_list = [ strf1p, strf1pE, strf1pLED, strf1pMin, strf1pp, strf1ppR, strf1pBW]\n",
    "if b_not_for_paper:\n",
    "    plotCorrMatrixSmall(f1pEvalCorr, x_label_list, title='$f_{1}^{´}$ Correlations', fileName=None, with_values=True)\n",
    "else:\n",
    "    plotCorrMatrixSmall(f1pEvalCorr, x_label_list, title=None, fileName=None, with_values=True)\n",
    "save_fig(filename='f1pCorrelations')"
   ],
   "metadata": {
    "collapsed": false,
    "pycharm": {
     "name": "#%%\n"
    }
   }
  },
  {
   "cell_type": "code",
   "execution_count": null,
   "outputs": [],
   "source": [
    "def calc_data_from_spectra_detectors(detectorsLoc, spectraLoc, eins_minus=False, r_sq_calc=True, use_SMCFLED=True):\n",
    "    b_f1pA=py_f1PrimeGlx(detectorsLoc, strObserver='1931_2', iObserverOffset = 1, strWeighting='A', iMin=0, dCutOff=0., dBandWidth=0.)\n",
    "    b_f1pE=py_f1PrimeGlx(detectorsLoc, strObserver='1931_2', iObserverOffset = 1, strWeighting='E', iMin=0, dCutOff=0., dBandWidth=0.)\n",
    "    b_f1pLED=py_f1PrimeGlx(detectorsLoc, strObserver='1931_2', iObserverOffset = 1, strWeighting='LED_B3', iMin=0, dCutOff=0., dBandWidth=0.)\n",
    "    b_f1pAFMin=py_f1PrimeGlx(detectorsLoc, strObserver='1931_2', iObserverOffset = 1, strWeighting='A', iMin=1, dCutOff=0., dBandWidth=0.)\n",
    "    b_f1pp=py_f1PrimeGlx(detectorsLoc, strObserver='1931_2', iObserverOffset = 1, strWeighting='E', iMin=0, dCutOff=dCutOff, dBandWidth=0.)\n",
    "    b_f1ppR=py_f1PrimeGlx(detectorsLoc, strObserver='1931_2', iObserverOffset = 1, strWeighting='E', iMin=0, dCutOff=-dCutOff, dBandWidth=0.)\n",
    "    b_f1pBW20nm=py_f1PrimeGlx(detectorsLoc, strObserver='1931_2', iObserverOffset = 1, strWeighting='A', iMin=0, dCutOff=0., dBandWidth=20.)\n",
    "\n",
    "    b_SMCF=lx.spectral_mismatch_and_uncertainty.get_spectral_mismatch_correction_factors( spectraLoc, detectorsLoc, S_C='A')\n",
    "    b_SMCFE=lx.spectral_mismatch_and_uncertainty.get_spectral_mismatch_correction_factors( spectraLoc, detectorsLoc, S_C='E')\n",
    "    b_SMCFLED=lx.spectral_mismatch_and_uncertainty.get_spectral_mismatch_correction_factors( spectraLoc, detectorsLoc, S_C='LED_B3')\n",
    "\n",
    "    b_meanA0=np.mean(abs(b_SMCF-1), axis=0)\n",
    "    b_stdA0_1=np.std(b_SMCF, axis=0)\n",
    "\n",
    "    b_meanLED=np.mean(abs(b_SMCFLED-1), axis=0)\n",
    "    b_stdLED_1=np.std(b_SMCFLED, axis=0)\n",
    "\n",
    "    qPlusA=np.quantile( abs(b_SMCF-1), 1-quantil/2, axis=0)\n",
    "    qPlusLED=np.quantile( abs(b_SMCFLED-1), 1-quantil/2, axis=0)\n",
    "\n",
    "    # Combine the results in a vector\n",
    "    b_eval = np.vstack(( b_f1pA, b_f1pE, b_f1pLED, b_f1pAFMin, b_f1pp, b_f1ppR, b_f1pBW20nm, b_meanA0, b_stdA0_1, qPlusA, b_meanLED, b_stdLED_1, qPlusLED))\n",
    "    b_corr = np.corrcoef(b_eval)\n",
    "\n",
    "    if use_SMCFLED:\n",
    "        b_SMCF_use=b_SMCFLED\n",
    "    else:\n",
    "        b_SMCF_use=b_SMCF\n",
    "    v_m_Dataf1p=SMCFPlotCalc(b_f1pA, b_SMCF_use, eins_minus=eins_minus, r_sq_calc=r_sq_calc)\n",
    "    v_m_Dataf1pE=SMCFPlotCalc(b_f1pE, b_SMCF_use, eins_minus=eins_minus, r_sq_calc=r_sq_calc)\n",
    "    v_m_Dataf1pLED=SMCFPlotCalc(b_f1pLED, b_SMCF_use, eins_minus=eins_minus, r_sq_calc=r_sq_calc)\n",
    "    v_m_Dataf1pAFMin=SMCFPlotCalc(b_f1pAFMin, b_SMCF_use, eins_minus=eins_minus, r_sq_calc=r_sq_calc)\n",
    "    v_m_Dataf1ppR=SMCFPlotCalc(b_f1ppR, b_SMCF_use, eins_minus=eins_minus, r_sq_calc=r_sq_calc)\n",
    "    v_m_Dataf1pBW20nm=SMCFPlotCalc(b_f1pBW20nm, b_SMCF_use, eins_minus=eins_minus, r_sq_calc=r_sq_calc)\n",
    "    return [b_corr, v_m_Dataf1p,v_m_Dataf1pE, v_m_Dataf1pLED, v_m_Dataf1pAFMin, v_m_Dataf1ppR, v_m_Dataf1pBW20nm]"
   ],
   "metadata": {
    "collapsed": false,
    "pycharm": {
     "name": "#%%\n"
    }
   }
  },
  {
   "cell_type": "markdown",
   "source": [
    "# SMCF\n",
    "# Calculate the SMCF based on Illuminant A and SMCFLED based on Illuminant L41"
   ],
   "metadata": {
    "collapsed": false
   }
  },
  {
   "cell_type": "code",
   "execution_count": null,
   "outputs": [],
   "source": [
    "[res, v_m_Dataf1pA, _, v_m_Dataf1pLED, _, v_m_Dataf1ppR, _]=calc_data_from_spectra_detectors( vldetectors, spectra, eins_minus=True)\n",
    "\n",
    "SMCF=lx.spectral_mismatch_and_uncertainty.get_spectral_mismatch_correction_factors( spectra, vldetectors, S_C='A')\n",
    "SMCFE=lx.spectral_mismatch_and_uncertainty.get_spectral_mismatch_correction_factors( spectra, vldetectors, S_C='E')\n",
    "SMCFLED=lx.spectral_mismatch_and_uncertainty.get_spectral_mismatch_correction_factors( spectra, vldetectors, S_C='LED_B3')\n",
    "spectraRGB = _SPD['CIES025_RGBLED']['S']['data'].copy()\n",
    "SMCFLED_RGB=lx.spectral_mismatch_and_uncertainty.get_spectral_mismatch_correction_factors( spectraRGB, vldetectors, S_C='LED_B3')\n",
    "SMCF_RGB=lx.spectral_mismatch_and_uncertainty.get_spectral_mismatch_correction_factors( spectraRGB, vldetectors, S_C='A')"
   ],
   "metadata": {
    "collapsed": false,
    "pycharm": {
     "name": "#%%\n"
    }
   }
  },
  {
   "cell_type": "code",
   "execution_count": null,
   "outputs": [],
   "source": [
    "fig, ax = pyplot.subplots()\n",
    "ax.set_xlabel(r'$1-F_{i}(C=A)$' + ', ' + r'$1-F_{i}(C=E)$' + ', ' + r'$1-F_{i}(C=L)$', fontsize=label_font_size)\n",
    "ax.set_ylabel('Number', fontsize=label_font_size)\n",
    "ax.hist(1-SMCF[selected_detector],  bins=20, alpha = a1, log=False, label='A', color = 'r')\n",
    "ax.hist(1-SMCFE[selected_detector],  bins=20, alpha = a2, log=False, label='E', color = 'g')\n",
    "ax.hist(1-SMCFLED[selected_detector], bins=20, alpha = a3, log=False, label='L', color = 'b')\n",
    "ax.set_xlim([-0.05,0.05])\n",
    "ax.legend()\n",
    "save_fig(filename='Hist_Comp_SMCF1_A_E_LED')"
   ],
   "metadata": {
    "collapsed": false,
    "pycharm": {
     "name": "#%%\n"
    }
   }
  },
  {
   "cell_type": "code",
   "execution_count": null,
   "outputs": [],
   "source": [
    "fig, ax = pyplot.subplots()\n",
    "ax.set_xlabel(r'$F^{a}_{i}(C=A)$' + ', ' + r'$F^{a}_{i}(C=E)$' + ', ' + r'$F^{a}_{i}(C=L)$', fontsize=label_font_size)\n",
    "ax.set_ylabel('Number', fontsize=label_font_size)\n",
    "ax.hist(np.abs(1-SMCF).flatten(),  bins=100, alpha = a1, log=False, label='A', color = 'r')\n",
    "ax.hist(np.abs(1-SMCFE).flatten(),  bins=100, alpha = a2, log=False, label='E', color = 'g')\n",
    "ax.hist(np.abs(1-SMCFLED).flatten(), bins=100, alpha = a3, log=False, label='L', color = 'b')\n",
    "ax.set_xlim([0,0.05])\n",
    "ax.legend()\n",
    "save_fig(filename='Hist_Comp_SMCFA_E_LED')\n"
   ],
   "metadata": {
    "collapsed": false,
    "pycharm": {
     "name": "#%%\n"
    }
   }
  },
  {
   "cell_type": "code",
   "execution_count": null,
   "outputs": [],
   "source": [
    "fig, ax = pyplot.subplots()\n",
    "ax.set_xlabel(r'$F^{\\sigma}_{i}(C=A)$' + ', ' + r'$F^{\\sigma}_{i}(C=E)$' + ', ' + r'$F^{\\sigma}_{i}(C=L)$', fontsize=label_font_size)\n",
    "ax.set_ylabel('Number', fontsize=label_font_size)\n",
    "ax.hist(np.std((1-SMCF), axis=0).flatten(),  bins=25, alpha = a1, log=False, label='A', color = 'r')\n",
    "ax.hist(np.std((1-SMCFE), axis=0).flatten(),  bins=25, alpha = a2, log=False, label='E', color = 'g')\n",
    "ax.hist(np.std((1-SMCFLED), axis=0).flatten(), bins=25, alpha = a3, log=False, label='L', color = 'b')\n",
    "#ax.set_xlim([0,0.05])\n",
    "ax.legend()\n",
    "save_fig(filename='Hist_Comp_StdSMCFA_E_LED')"
   ],
   "metadata": {
    "collapsed": false,
    "pycharm": {
     "name": "#%%\n"
    }
   }
  },
  {
   "cell_type": "code",
   "execution_count": null,
   "outputs": [],
   "source": [
    "h_qPlusA=np.quantile( abs(SMCF-1), 1-quantil/2, axis=0)\n",
    "h_qPlusE=np.quantile( abs(SMCFE-1), 1-quantil/2, axis=0)\n",
    "h_qPlusLED=np.quantile( abs(SMCFLED-1), 1-quantil/2, axis=0)\n",
    "\n",
    "fig, ax = pyplot.subplots()\n",
    "ax.set_xlabel(r'$F_{i,q+}^{a}(C=A)$' + ', ' + r'$F_{i,q+}^{a}(C=E)$' + ', ' + r'$F_{i,q+}^{a}(C=L)$', fontsize=label_font_size)\n",
    "ax.set_ylabel('Number', fontsize=label_font_size)\n",
    "ax.hist(h_qPlusA.flatten(),  bins=25, alpha = a1, log=False, label='A', color = 'r')\n",
    "ax.hist(h_qPlusE.flatten(),  bins=25, alpha = a2, log=False, label='E', color = 'g')\n",
    "ax.hist(h_qPlusLED.flatten(), bins=25, alpha = a3, log=False, label='L', color = 'b')\n",
    "#ax.set_xlim([0,0.05])\n",
    "ax.legend()\n",
    "save_fig(filename='Hist_Comp_qPlusA_E_LED')\n"
   ],
   "metadata": {
    "collapsed": false,
    "pycharm": {
     "name": "#%%\n"
    }
   }
  },
  {
   "cell_type": "markdown",
   "source": [
    "# Correlation\n",
    "#### Let's have a look at all correlations (between all the characteristics calculated before)"
   ],
   "metadata": {
    "collapsed": false
   }
  },
  {
   "cell_type": "code",
   "execution_count": null,
   "outputs": [],
   "source": [
    "#    b_eval = np.vstack(( b_f1pA, b_f1pE, b_f1pLED, b_f1pAFMin, b_f1pp, b_f1ppR, b_f1pBW20nm,\n",
    "#    b_meanA0, b_stdA0_1, qPlusA, b_meanLED, b_stdLED_1, qPlusLED))\n",
    "\n",
    "x_label_list = [strf1p,strf1pE, strf1pLED, strf1pMin, strf1pp, strf1ppR, strf1pBW, \\\n",
    "                r'$\\bar{F}^{a}_{i}(C=A)$', r'$F^{\\sigma}_{i}(C=A)$', '$F_{i,q+}^{a}(C=A)$',\\\n",
    "                r'$\\bar{F}^{a}_{i}(C=L)$', r'$F^{\\sigma}_{i}(C=L)$', '$F_{i,q+}^{a}(C=L)$']"
   ],
   "metadata": {
    "collapsed": false,
    "pycharm": {
     "name": "#%%\n"
    }
   }
  },
  {
   "cell_type": "code",
   "execution_count": null,
   "outputs": [],
   "source": [
    "plotCorrMatrixSmall(res, x_label_list, with_values=True)\n",
    "\n",
    "if spd_data['CIES025_PTLED']:\n",
    "    save_fig(filename='f1pCorrelations2_CIES025')\n",
    "else:\n",
    "    save_fig(filename='f1pCorrelations2_PhotoLED')\n"
   ],
   "metadata": {
    "collapsed": false,
    "pycharm": {
     "name": "#%%\n"
    }
   }
  },
  {
   "cell_type": "code",
   "execution_count": null,
   "outputs": [],
   "source": [
    "plotCorrMatrixSmall(res, x_label_list, iRaws=7, iCols=6, with_values=True)\n",
    "\n",
    "if spd_data['CIES025_PTLED']:\n",
    "    save_fig(filename='f1pCorrelations2P_CIES025')\n",
    "else:\n",
    "    save_fig(filename='f1pCorrelations2P_PhotoLED')"
   ],
   "metadata": {
    "collapsed": false,
    "pycharm": {
     "name": "#%%\n"
    }
   }
  },
  {
   "cell_type": "code",
   "execution_count": null,
   "outputs": [],
   "source": [
    "SMCFPlot( f1pA, SMCF, strf1p, r'$\\bar{F}_{i}(C=S_{\\mathrm{A}}(\\lambda))$', \\\n",
    "              quantil_ind=False )\n",
    "\n",
    "if spd_data['CIES025_PTLED']:\n",
    "    save_fig(filename='CIES025QuantilePlots')\n",
    "else:\n",
    "    save_fig(filename='PhotoLEDQuantilePlots')"
   ],
   "metadata": {
    "collapsed": false,
    "pycharm": {
     "name": "#%%\n"
    }
   }
  },
  {
   "cell_type": "code",
   "execution_count": null,
   "outputs": [],
   "source": [
    "SMCFPlot( f1pA, SMCF, strf1p, r'$\\bar{F}_{i}(C=S_{\\mathrm{A}}(\\lambda))$', \\\n",
    "              ylabel2=r'$F^{\\sigma}_{i}(C=S_{\\mathrm{A}}(\\lambda))$', quantil_ind=True )\n",
    "\n",
    "if spd_data['CIES025_PTLED']:\n",
    "    save_fig(filename='CIES025QuantilePlotsAll')\n",
    "else:\n",
    "    save_fig(filename='PhotoLEDQuantilePlotsAll')\n"
   ],
   "metadata": {
    "collapsed": false,
    "pycharm": {
     "name": "#%%\n"
    }
   }
  },
  {
   "cell_type": "code",
   "execution_count": null,
   "outputs": [],
   "source": [
    "SMCFPlot( f1ppR, SMCF, strf1ppR, r'$\\bar{F}_{i}(C=S_{\\mathrm{A}}(\\lambda))$', \\\n",
    "              quantil_ind=False )\n",
    "\n",
    "if spd_data['CIES025_PTLED']:\n",
    "    save_fig(filename='CIES025QuantilePlotsf1ppR')\n",
    "else:\n",
    "    save_fig(filename='PhotoLEDQuantilePlotsf1ppR')"
   ],
   "metadata": {
    "collapsed": false,
    "pycharm": {
     "name": "#%%\n"
    }
   }
  },
  {
   "cell_type": "code",
   "execution_count": null,
   "outputs": [],
   "source": [
    "SMCFPlot( f1pLED, SMCFLED, strf1pLED, r'$\\bar{F}_{i}(C=S_{\\mathrm{L}}(\\lambda))$', \\\n",
    "              ylabel2=r'$F^{\\sigma}_{i}(C=S_{\\mathrm{L}}(\\lambda))$', quantil_ind=True )\n",
    "\n",
    "if spd_data['CIES025_PTLED']:\n",
    "    save_fig(filename='CIES025QuantilePlotsAllf1pLED')\n",
    "else:\n",
    "    save_fig(filename='PhotoLEDQuantilePlotsAllf1pLED')"
   ],
   "metadata": {
    "collapsed": false,
    "pycharm": {
     "name": "#%%\n"
    }
   }
  },
  {
   "cell_type": "code",
   "execution_count": null,
   "outputs": [],
   "source": [
    "SMCFPlot( f1ppR, SMCFLED, strf1ppR, r'$\\bar{F}_{i}(C=S_{\\mathrm{L}}(\\lambda))$', \\\n",
    "              ylabel2=r'$F^{\\sigma}_{i}(C=S_{\\mathrm{L}}(\\lambda))$', quantil_ind=True )\n",
    "\n",
    "if spd_data['CIES025_PTLED']:\n",
    "    save_fig(filename='CIES025QuantilePlotsAllf1ppR')\n",
    "else:\n",
    "    save_fig(filename='PhotoLEDQuantilePlotsAllf1ppR')"
   ],
   "metadata": {
    "collapsed": false,
    "pycharm": {
     "name": "#%%\n"
    }
   }
  },
  {
   "cell_type": "code",
   "execution_count": null,
   "outputs": [],
   "source": [
    "SMCFPlot( f1pA, SMCF, strf1p, r'$\\bar{F}_{i}^{a}(C=S_{\\mathrm{A}}(\\lambda))$', \\\n",
    "              ylabel2=r'$F^{\\sigma}_{i}(C=S_{\\mathrm{A}}(\\lambda))$', quantil_ind=True, eins_minus=True )\n",
    "\n",
    "if spd_data['CIES025_PTLED']:\n",
    "    save_fig(filename='CIES025QuantilePlots1Minus')\n",
    "else:\n",
    "    save_fig(filename='PhotoLEDQuantilePlots1Minus')"
   ],
   "metadata": {
    "collapsed": false,
    "pycharm": {
     "name": "#%%\n"
    }
   }
  },
  {
   "cell_type": "code",
   "execution_count": null,
   "outputs": [],
   "source": [
    "SMCFPlot( f1pA, SMCFLED, strf1p, r'$\\bar{F}_{i}^{a}(C=S_{\\mathrm{L}}(\\lambda))$', \\\n",
    "              ylabel2=r'$F^{\\sigma}_{i}(C=S_{\\mathrm{L}}(\\lambda))$', quantil_ind=True, eins_minus=True )\n",
    "\n",
    "if spd_data['CIES025_PTLED']:\n",
    "    save_fig(filename='CIES025QuantilePlotsf1p1Minus')\n",
    "else:\n",
    "    save_fig(filename='PhotoLEDQuantilePlotsf1p1Minus')"
   ],
   "metadata": {
    "collapsed": false,
    "pycharm": {
     "name": "#%%\n"
    }
   }
  },
  {
   "cell_type": "code",
   "execution_count": null,
   "outputs": [],
   "source": [
    "SMCFPlot( f1pA, SMCF, strf1p, r'$\\bar{F}_{i}^{a}(C=S_{\\mathrm{A}}(\\lambda))$', \\\n",
    "              ylabel2=r'$F^{\\sigma}_{i}(C=S_{\\mathrm{A}}(\\lambda))$', quantil_ind=True, eins_minus=True )\n",
    "\n",
    "if spd_data['CIES025_PTLED']:\n",
    "    save_fig(filename='CIES025QuantilePlotsf1p1MinusA')\n",
    "else:\n",
    "    save_fig(filename='PhotoLEDQuantilePlotsf1p1MinusA')"
   ],
   "metadata": {
    "collapsed": false,
    "pycharm": {
     "name": "#%%\n"
    }
   }
  },
  {
   "cell_type": "code",
   "execution_count": null,
   "outputs": [],
   "source": [
    "SMCFPlot( f1pE, SMCFLED, strf1pE, r'$\\bar{F}_{i}(C=S_{\\mathrm{L}}(\\lambda))$', \\\n",
    "              ylabel2=r'$F^{\\sigma}_{i}(C=S_{\\mathrm{L}}(\\lambda))$', quantil_ind=True, eins_minus=True)\n",
    "\n",
    "if spd_data['CIES025_PTLED']:\n",
    "    save_fig(filename='CIES025QuantilePlotsAllf1pE1Minus')\n",
    "else:\n",
    "    save_fig(filename='PhotoLEDQuantilePlotsAllf1pE1Minus')"
   ],
   "metadata": {
    "collapsed": false,
    "pycharm": {
     "name": "#%%\n"
    }
   }
  },
  {
   "cell_type": "code",
   "execution_count": null,
   "outputs": [],
   "source": [
    "SMCFPlot( f1pE, SMCF, strf1pE, r'$\\bar{F}_{i}(C=S_{\\mathrm{A}}(\\lambda))$', \\\n",
    "              ylabel2=r'$F^{\\sigma}_{i}(C=S_{\\mathrm{A}}(\\lambda))$', quantil_ind=True, eins_minus=True)\n",
    "\n",
    "if spd_data['CIES025_PTLED']:\n",
    "    save_fig(filename='CIES025QuantilePlotsAllf1pE1MinusA')\n",
    "else:\n",
    "    save_fig(filename='PhotoLEDQuantilePlotsAllf1pE1MinusA')"
   ],
   "metadata": {
    "collapsed": false,
    "pycharm": {
     "name": "#%%\n"
    }
   }
  },
  {
   "cell_type": "code",
   "execution_count": null,
   "outputs": [],
   "source": [
    "SMCFPlot( f1pLED, SMCFLED, strf1pLED, r'$\\bar{F}_{i}(C=S_{\\mathrm{L}}(\\lambda))$', \\\n",
    "              ylabel2=r'$F^{\\sigma}_{i}(C=S_{\\mathrm{L}}(\\lambda))$', quantil_ind=True, eins_minus=True )\n",
    "\n",
    "if spd_data['CIES025_PTLED']:\n",
    "    save_fig(filename='CIES025QuantilePlotsAllf1pLED1Minus')\n",
    "else:\n",
    "    save_fig(filename='PhotoLEDQuantilePlotsAllf1pLED1Minus')"
   ],
   "metadata": {
    "collapsed": false,
    "pycharm": {
     "name": "#%%\n"
    }
   }
  },
  {
   "cell_type": "code",
   "execution_count": null,
   "outputs": [],
   "source": [
    "SMCFPlot( f1pLED, SMCF, strf1pLED, r'$\\bar{F}_{i}(C=S_{\\mathrm{A}}(\\lambda))$', \\\n",
    "              ylabel2=r'$F^{\\sigma}_{i}(C=S_{\\mathrm{A}}(\\lambda))$', quantil_ind=True, eins_minus=True )\n",
    "\n",
    "if spd_data['CIES025_PTLED']:\n",
    "    save_fig(filename='CIES025QuantilePlotsAllf1pLED1MinusA')\n",
    "else:\n",
    "    save_fig(filename='PhotoLEDQuantilePlotsAllf1pLED1MinusA')"
   ],
   "metadata": {
    "collapsed": false,
    "pycharm": {
     "name": "#%%\n"
    }
   }
  },
  {
   "cell_type": "code",
   "execution_count": null,
   "outputs": [],
   "source": [
    "SMCFPlot( f1pAFMin, SMCFLED, strf1pMin, r'$\\bar{F}_{i}(C=S_{\\mathrm{L}}(\\lambda))$', \\\n",
    "              ylabel2=r'$F^{\\sigma}_{i}(C=S_{\\mathrm{L}}(\\lambda))$', quantil_ind=True, eins_minus=True)\n",
    "\n",
    "if spd_data['CIES025_PTLED']:\n",
    "    save_fig(filename='CIES025QuantilePlotsAllf1pMin1Minus')\n",
    "else:\n",
    "    save_fig(filename='PhotoLEDQuantilePlotsAllf1pMin1Minus')"
   ],
   "metadata": {
    "collapsed": false,
    "pycharm": {
     "name": "#%%\n"
    }
   }
  },
  {
   "cell_type": "code",
   "execution_count": null,
   "outputs": [],
   "source": [
    "SMCFPlot( f1pAFMin, SMCF, strf1pMin, r'$\\bar{F}_{i}(C=S_{\\mathrm{A}}(\\lambda))$', \\\n",
    "              ylabel2=r'$F^{\\sigma}_{i}(C=S_{\\mathrm{A}}(\\lambda))$', quantil_ind=True, eins_minus=True)\n",
    "\n",
    "if spd_data['CIES025_PTLED']:\n",
    "    save_fig(filename='CIES025QuantilePlotsAllf1pMin1MinusA')\n",
    "else:\n",
    "    save_fig(filename='PhotoLEDQuantilePlotsAllf1pMin1MinusA')"
   ],
   "metadata": {
    "collapsed": false,
    "pycharm": {
     "name": "#%%\n"
    }
   }
  },
  {
   "cell_type": "code",
   "execution_count": null,
   "outputs": [],
   "source": [
    "SMCFPlot( f1ppR, SMCFLED, strf1ppR, r'$\\bar{F}_{i}(C=S_{\\mathrm{L}}(\\lambda))$', \\\n",
    "              ylabel2=r'$F^{\\sigma}_{i}(C=S_{\\mathrm{L}}(\\lambda))$', quantil_ind=True, eins_minus=True)\n",
    "\n",
    "if spd_data['CIES025_PTLED']:\n",
    "    save_fig(filename='CIES025QuantilePlotsAllf1ppR1Minus')\n",
    "else:\n",
    "    save_fig(filename='PhotoLEDQuantilePlotsAllf1ppR1Minus')"
   ],
   "metadata": {
    "collapsed": false,
    "pycharm": {
     "name": "#%%\n"
    }
   }
  },
  {
   "cell_type": "code",
   "execution_count": null,
   "outputs": [],
   "source": [
    "SMCFPlot( f1ppR, SMCF, strf1ppR, r'$\\bar{F}_{i}(C=S_{\\mathrm{A}}(\\lambda))$', \\\n",
    "              ylabel2=r'$F^{\\sigma}_{i}(C=S_{\\mathrm{A}}(\\lambda))$', quantil_ind=True, eins_minus=True)\n",
    "\n",
    "if spd_data['CIES025_PTLED']:\n",
    "    save_fig(filename='CIES025QuantilePlotsAllf1ppR1MinusA')\n",
    "else:\n",
    "    save_fig(filename='PhotoLEDQuantilePlotsAllf1ppR1MinusA')"
   ],
   "metadata": {
    "collapsed": false,
    "pycharm": {
     "name": "#%%\n"
    }
   }
  },
  {
   "cell_type": "code",
   "execution_count": null,
   "outputs": [],
   "source": [
    "SMCFPlot( f1pBW20nm, SMCFLED, strf1pBW, r'$\\bar{F}_{i}(C=S_{\\mathrm{L}}(\\lambda))$', \\\n",
    "              ylabel2=r'$F^{\\sigma}_{i}(C=S_{\\mathrm{L}}(\\lambda))$', quantil_ind=True, eins_minus=True)\n",
    "\n",
    "if spd_data['CIES025_PTLED']:\n",
    "    save_fig(filename='CIES025QuantilePlotsAllf1pBW1Minus')\n",
    "else:\n",
    "    save_fig(filename='PhotoLEDQuantilePlotsAllf1pBW1Minus')"
   ],
   "metadata": {
    "collapsed": false,
    "pycharm": {
     "name": "#%%\n"
    }
   }
  },
  {
   "cell_type": "code",
   "execution_count": null,
   "outputs": [],
   "source": [
    "SMCFPlot( f1pBW20nm, SMCF, strf1pBW, r'$\\bar{F}_{i}(C=S_{\\mathrm{A}}(\\lambda))$', \\\n",
    "              ylabel2=r'$F^{\\sigma}_{i}(C=S_{\\mathrm{A}}(\\lambda))$', quantil_ind=True, eins_minus=True)\n",
    "\n",
    "if spd_data['CIES025_PTLED']:\n",
    "    save_fig(filename='CIES025QuantilePlotsAllf1pBW1MinusA')\n",
    "else:\n",
    "    save_fig(filename='PhotoLEDQuantilePlotsAllf1pBW1MinusA')\n"
   ],
   "metadata": {
    "collapsed": false,
    "pycharm": {
     "name": "#%%\n"
    }
   }
  },
  {
   "cell_type": "code",
   "execution_count": null,
   "outputs": [],
   "source": [
    "SMCFPlot( f1pA, SMCFLED_RGB, strf1p, r'$\\bar{F}_{i}(C=S_{\\mathrm{L}}(\\lambda))$', \\\n",
    "              ylabel2=r'$F^{\\sigma}_{i}(C=S_{\\mathrm{L}}(\\lambda))$', quantil_ind=True, eins_minus=True )\n",
    "save_fig(filename='CIES025RGBQuantilePlotsAllf1p1Minus')"
   ],
   "metadata": {
    "collapsed": false,
    "pycharm": {
     "name": "#%%\n"
    }
   }
  },
  {
   "cell_type": "code",
   "execution_count": null,
   "outputs": [],
   "source": [
    "SMCFPlot( f1pA, SMCF_RGB, strf1p, r'$\\bar{F}_{i}(C=S_{\\mathrm{A}}(\\lambda))$', \\\n",
    "              ylabel2=r'$F^{\\sigma}_{i}(C=S_{\\mathrm{A}}(\\lambda))$', quantil_ind=True, eins_minus=True )\n",
    "save_fig(filename='CIES025RGBQuantilePlotsAllf1p1MinusA')"
   ],
   "metadata": {
    "collapsed": false,
    "pycharm": {
     "name": "#%%\n"
    }
   }
  },
  {
   "cell_type": "code",
   "execution_count": null,
   "outputs": [],
   "source": [
    "SMCFPlot( f1pE, SMCFLED_RGB, strf1pE, r'$\\bar{F}_{i}(C=S_{\\mathrm{L}}(\\lambda))$', \\\n",
    "              ylabel2=r'$F^{\\sigma}_{i}(C=S_{\\mathrm{L}}(\\lambda))$', quantil_ind=True, eins_minus=True )\n",
    "save_fig(filename='CIES025RGBQuantilePlotsAllf1pE1Minus')"
   ],
   "metadata": {
    "collapsed": false,
    "pycharm": {
     "name": "#%%\n"
    }
   }
  },
  {
   "cell_type": "code",
   "execution_count": null,
   "outputs": [],
   "source": [
    "SMCFPlot( f1pE, SMCF_RGB, strf1pE, r'$\\bar{F}_{i}(C=S_{\\mathrm{A}}(\\lambda))$', \\\n",
    "              ylabel2=r'$F^{\\sigma}_{i}(C=S_{\\mathrm{A}}(\\lambda))$', quantil_ind=True, eins_minus=True )\n",
    "save_fig(filename='CIES025RGBQuantilePlotsAllf1pE1MinusA')"
   ],
   "metadata": {
    "collapsed": false,
    "pycharm": {
     "name": "#%%\n"
    }
   }
  },
  {
   "cell_type": "code",
   "execution_count": null,
   "outputs": [],
   "source": [
    "SMCFPlot( f1pLED, SMCFLED_RGB, strf1pLED, r'$\\bar{F}_{i}(C=S_{\\mathrm{L}}(\\lambda))$', \\\n",
    "              ylabel2=r'$F^{\\sigma}_{i}(C=S_{\\mathrm{L}}(\\lambda))$', quantil_ind=True, eins_minus=True )\n",
    "save_fig(filename='CIES025RGBQuantilePlotsAllf1pLED1Minus')"
   ],
   "metadata": {
    "collapsed": false,
    "pycharm": {
     "name": "#%%\n"
    }
   }
  },
  {
   "cell_type": "code",
   "execution_count": null,
   "outputs": [],
   "source": [
    "SMCFPlot( f1pLED, SMCF_RGB, strf1pLED, r'$\\bar{F}_{i}(C=S_{\\mathrm{A}}(\\lambda))$', \\\n",
    "              ylabel2=r'$F^{\\sigma}_{i}(C=S_{\\mathrm{A}}(\\lambda))$', quantil_ind=True, eins_minus=True )\n",
    "save_fig(filename='CIES025RGBQuantilePlotsAllf1pLED1MinusA')"
   ],
   "metadata": {
    "collapsed": false,
    "pycharm": {
     "name": "#%%\n"
    }
   }
  },
  {
   "cell_type": "code",
   "execution_count": null,
   "outputs": [],
   "source": [
    "SMCFPlot( f1pAFMin, SMCFLED_RGB, strf1pMin, r'$\\bar{F}_{i}(C=S_{\\mathrm{L}}(\\lambda))$', \\\n",
    "              ylabel2=r'$F^{\\sigma}_{i}(C=S_{\\mathrm{L}}(\\lambda))$', quantil_ind=True, eins_minus=True )\n",
    "save_fig(filename='CIES025RGBQuantilePlotsAllf1pMin1Minus')"
   ],
   "metadata": {
    "collapsed": false,
    "pycharm": {
     "name": "#%%\n"
    }
   }
  },
  {
   "cell_type": "code",
   "execution_count": null,
   "outputs": [],
   "source": [
    "SMCFPlot( f1pAFMin, SMCF_RGB, strf1pMin, r'$\\bar{F}_{i}(C=S_{\\mathrm{A}}(\\lambda))$', \\\n",
    "              ylabel2=r'$F^{\\sigma}_{i}(C=S_{\\mathrm{A}}(\\lambda))$', quantil_ind=True, eins_minus=True )\n",
    "save_fig(filename='CIES025RGBQuantilePlotsAllf1pMin1MinusA')"
   ],
   "metadata": {
    "collapsed": false,
    "pycharm": {
     "name": "#%%\n"
    }
   }
  },
  {
   "cell_type": "code",
   "execution_count": null,
   "outputs": [],
   "source": [
    "SMCFPlot( f1ppR, SMCFLED_RGB, strf1ppR, r'$\\bar{F}_{i}(C=S_{\\mathrm{L}}(\\lambda))$', \\\n",
    "              ylabel2=r'$F^{\\sigma}_{i}(C=S_{\\mathrm{L}}(\\lambda))$', quantil_ind=True, eins_minus=True )\n",
    "save_fig(filename='CIES025RGBQuantilePlotsAllf1ppR1Minus')"
   ],
   "metadata": {
    "collapsed": false,
    "pycharm": {
     "name": "#%%\n"
    }
   }
  },
  {
   "cell_type": "code",
   "execution_count": null,
   "outputs": [],
   "source": [
    "SMCFPlot( f1ppR, SMCF_RGB, strf1ppR, r'$\\bar{F}_{i}(C=S_{\\mathrm{A}}(\\lambda))$', \\\n",
    "              ylabel2=r'$F^{\\sigma}_{i}(C=S_{\\mathrm{A}}(\\lambda))$', quantil_ind=True, eins_minus=True )\n",
    "save_fig(filename='CIES025RGBQuantilePlotsAllf1ppR1MinusA')"
   ],
   "metadata": {
    "collapsed": false,
    "pycharm": {
     "name": "#%%\n"
    }
   }
  },
  {
   "cell_type": "code",
   "execution_count": null,
   "outputs": [],
   "source": [
    "SMCFPlot( f1pBW20nm, SMCFLED_RGB, strf1pBW, r'$\\bar{F}_{i}(C=S_{\\mathrm{L}}(\\lambda))$', \\\n",
    "              ylabel2=r'$F^{\\sigma}_{i}(C=S_{\\mathrm{L}}(\\lambda))$', quantil_ind=True, eins_minus=True )\n",
    "save_fig(filename='CIES025RGBQuantilePlotsAllf1pBW1Minus')"
   ],
   "metadata": {
    "collapsed": false,
    "pycharm": {
     "name": "#%%\n"
    }
   }
  },
  {
   "cell_type": "code",
   "execution_count": null,
   "outputs": [],
   "source": [
    "SMCFPlot( f1pBW20nm, SMCF_RGB, strf1pBW, r'$\\bar{F}_{i}(C=S_{\\mathrm{A}}(\\lambda))$', \\\n",
    "              ylabel2=r'$F^{\\sigma}_{i}(C=S_{\\mathrm{A}}(\\lambda))$', quantil_ind=True, eins_minus=True )\n",
    "save_fig(filename='CIES025RGBQuantilePlotsAllf1pBW1MinusA')"
   ],
   "metadata": {
    "collapsed": false,
    "pycharm": {
     "name": "#%%\n"
    }
   }
  },
  {
   "cell_type": "markdown",
   "source": [
    "# All data into a table"
   ],
   "metadata": {
    "collapsed": false
   }
  },
  {
   "cell_type": "markdown",
   "source": [
    "## CIES025 PT LED"
   ],
   "metadata": {
    "collapsed": false
   }
  },
  {
   "cell_type": "code",
   "source": [
    "import pandas as pd\n",
    "\n",
    "def makeTable( spectraLoc, filename, use_SMCFLED=True):\n",
    "    #[_, v_m_Dataf1p,v_m_Dataf1pE, v_m_Dataf1pLED, v_m_Dataf1pAFMin, v_m_Dataf1ppR, v_m_Dataf1pBW20nm]= \\\n",
    "    data = calc_data_from_spectra_detectors( vldetectors, spectraLoc, eins_minus=True, r_sq_calc=True, use_SMCFLED=use_SMCFLED)\n",
    "\n",
    "    strNames=['', 'f1p', 'f1pE', 'f1pLED', 'f1pMin', 'f1ppR', 'f1pBW20nm']\n",
    "    f1pTable = pd.DataFrame()\n",
    "    for i in range(1,7):\n",
    "        v_m_current = data[i]\n",
    "        #strName = 'f1p'\n",
    "        df = pd.DataFrame( { \\\n",
    "            'N': [i], \\\n",
    "            'Name': strNames[i], \\\n",
    "            'm_mean': v_m_current[0], 'm_mean_r_sq': v_m_current[1], \\\n",
    "            'm_sigma': v_m_current[2], 'm_sigma_r_sq': v_m_current[3], \\\n",
    "            'm_qMax': v_m_current[4], 'm_qMax_r_sq': v_m_current[5], \\\n",
    "            'smcfSlopeQMax': v_m_current[6] } )\n",
    "        f1pTable = f1pTable.append( df)\n",
    "\n",
    "    print( f1pTable)\n",
    "    f1pTable.to_csv(get_fig_file_name(filename, table=True), sep=';',  decimal=\",\")\n",
    "\n",
    "\n",
    "strData = 'CIES025_PTLED'\n",
    "spectraTmp = _SPD[strData]['S']['data'].copy()\n",
    "makeTable( spectraTmp, strData+'LED', use_SMCFLED=True)\n",
    "makeTable( spectraTmp, strData+'A', use_SMCFLED=False)\n"
   ],
   "metadata": {
    "collapsed": false,
    "pycharm": {
     "name": "#%%\n"
    }
   },
   "execution_count": null,
   "outputs": []
  },
  {
   "cell_type": "markdown",
   "source": [
    "## CIES025 RGB White LED"
   ],
   "metadata": {
    "collapsed": false
   }
  },
  {
   "cell_type": "code",
   "execution_count": null,
   "outputs": [],
   "source": [
    "strData = 'CIES025_RGBLED'\n",
    "spectraTmp = _SPD[strData]['S']['data'].copy()\n",
    "makeTable( spectraTmp, strData+'LED', use_SMCFLED=True)\n",
    "makeTable( spectraTmp, strData+'A', use_SMCFLED=False)"
   ],
   "metadata": {
    "collapsed": false,
    "pycharm": {
     "name": "#%%\n"
    }
   }
  },
  {
   "cell_type": "markdown",
   "source": [
    "## PhotoLED PT LED"
   ],
   "metadata": {
    "collapsed": false
   }
  },
  {
   "cell_type": "code",
   "execution_count": null,
   "outputs": [],
   "source": [
    "strData = 'PHOTOLED'\n",
    "spectraTmp = _SPD[strData]['S']['data'].copy()\n",
    "makeTable( spectraTmp, strData+'LED', use_SMCFLED=True)\n",
    "makeTable( spectraTmp, strData+'A', use_SMCFLED=False)"
   ],
   "metadata": {
    "collapsed": false,
    "pycharm": {
     "name": "#%%\n"
    }
   }
  },
  {
   "cell_type": "markdown",
   "source": [
    "# Bootstrap"
   ],
   "metadata": {
    "collapsed": false
   }
  },
  {
   "cell_type": "code",
   "execution_count": null,
   "outputs": [],
   "source": [],
   "metadata": {
    "collapsed": false,
    "pycharm": {
     "name": "#%%\n"
    }
   }
  },
  {
   "cell_type": "code",
   "execution_count": null,
   "outputs": [],
   "source": [
    "b_runs = 1000\n",
    "b_use_detector = True\n",
    "b_use_spectra = True\n",
    "\n",
    "b_eins_minus = True\n",
    "\n",
    "#strData = 'PHOTOLED'\n",
    "strData = 'CIES025_RGBLED'\n",
    "spectraTmp = _SPD[strData]['S']['data'].copy()\n",
    "\n",
    "vlDetectorNumber = vldetectors.shape[0]-1\n",
    "b_detector_number=vlDetectorNumber\n",
    "spectraNumber = spectraTmp.shape[0]-1\n",
    "b_spectra_number=spectraNumber\n",
    "\n",
    "# store the simulation results\n",
    "[res, v_m_Dataf1pA, v_m_Dataf1pE, v_m_Dataf1pLED, v_m_Dataf1pMin, v_m_Dataf1ppR, v_m_Dataf1pBW]=\\\n",
    "    calc_data_from_spectra_detectors( vldetectors, spectraTmp, eins_minus=b_eins_minus, r_sq_calc=False)\n",
    "resArray = np.zeros( (b_runs, res.shape[0], res.shape[1]))\n",
    "\n",
    "v_m_Data_Array=np.zeros((b_runs, 6, np.array(v_m_Dataf1pA).shape[0]))\n",
    "\n",
    "iRow=7\n",
    "iCol=4\n",
    "\n",
    "for i in range(0, b_runs):\n",
    "    # i == 0 generates the original evaluation with all the data\n",
    "    if b_use_detector and i != 0:\n",
    "        b_detectorList = np.hstack((0,[random.randint(1, vlDetectorNumber) for p in range(1, b_detector_number+1)]))\n",
    "    else:\n",
    "        b_detectorList = range(0, b_detector_number+1)\n",
    "    if b_use_spectra and i != 0:\n",
    "        b_spectraList = np.hstack((0,[random.randint(1, spectraNumber) for p in range(1, b_spectra_number+1)]))\n",
    "    else:\n",
    "        b_spectraList = range(0, b_spectra_number+1)\n",
    "\n",
    "    b_detectors = vldetectors[b_detectorList]\n",
    "    b_spectra = spectraTmp[b_spectraList]\n",
    "\n",
    "    [res, v_m_Dataf1pA, v_m_Dataf1pE, v_m_Dataf1pLED, v_m_Dataf1pMin, v_m_Dataf1ppR, v_m_Dataf1pBW]=\\\n",
    "        calc_data_from_spectra_detectors( b_detectors, b_spectra, eins_minus=b_eins_minus, r_sq_calc=False)\n",
    "    resArray[i]=res.copy()\n",
    "    v_m_Data_Array[i, 0]=np.array(v_m_Dataf1pA).copy()\n",
    "    v_m_Data_Array[i, 1]=np.array(v_m_Dataf1pE).copy()\n",
    "    v_m_Data_Array[i, 2]=np.array(v_m_Dataf1pLED).copy()\n",
    "    v_m_Data_Array[i, 3]=np.array(v_m_Dataf1pMin).copy()\n",
    "    v_m_Data_Array[i, 4]=np.array(v_m_Dataf1ppR).copy()\n",
    "    v_m_Data_Array[i, 5]=np.array(v_m_Dataf1pBW).copy()\n",
    "    print(i, np.mean(resArray[:i, iRow, iCol]), np.std(resArray[:i, iRow, iCol]))\n",
    "\n",
    "plotCorrMatrixSmall(res, x_label_list, iRaws=7, iCols=6)\n",
    "plotHistScales( resArray[:,iRow,iCol], )"
   ],
   "metadata": {
    "collapsed": false,
    "pycharm": {
     "name": "#%%\n"
    }
   }
  },
  {
   "cell_type": "code",
   "execution_count": null,
   "outputs": [],
   "source": [
    "if b_eins_minus:\n",
    "    v_m_x_list = [str_m_mean_a, str_m_sigma, str_m_q_plus_a, str_m_q_max_a]\n",
    "else:\n",
    "    v_m_x_list = [str_m_mean, str_m_sigma, str_m_q_plus, str_m_q_minus, str_m_q_max, str_m_q_min]\n",
    "v_m_y_list = [strf1p, strf1pE, strf1pLED, strf1pMin, strf1ppR, strf1pBW]\n",
    "v_m_DataMean=np.mean(v_m_Data_Array, axis=0)\n",
    "v_m_DataStd=np.std(v_m_Data_Array, axis=0)\n",
    "print( v_m_DataMean)\n",
    "print( v_m_DataStd)\n",
    "plotCorrMatrixSmall(v_m_DataMean, v_m_x_list, y_data_labels=v_m_y_list)\n",
    "save_fig(filename='BS_mCorrImage'+strData)"
   ],
   "metadata": {
    "collapsed": false,
    "pycharm": {
     "name": "#%%\n"
    }
   }
  },
  {
   "cell_type": "code",
   "execution_count": null,
   "outputs": [],
   "source": [
    "plotCorrMatrixSmall(v_m_DataStd/v_m_DataMean, v_m_x_list, y_data_labels=v_m_y_list, fileName='BS_stdCorrImage')\n",
    "save_fig(filename='BS_stdCorrImage'+strData)"
   ],
   "metadata": {
    "collapsed": false,
    "pycharm": {
     "name": "#%%\n"
    }
   }
  },
  {
   "cell_type": "code",
   "execution_count": null,
   "outputs": [],
   "source": [
    "strNames=['f1p', 'f1pE', 'f1pLED', 'f1pMin', 'f1ppR', 'f1pBW20nm']\n",
    "bTable = pd.DataFrame()\n",
    "sRel= v_m_DataStd/v_m_DataMean\n",
    "for i in range(0,6):\n",
    "    #strName = 'f1p'\n",
    "    df = pd.DataFrame( { \\\n",
    "        'N': [i], \\\n",
    "        'Name': strNames[i], \\\n",
    "        'm_mean': v_m_DataMean[i][0], 'u(m_mean)': sRel[i][0], \\\n",
    "        'm_sigma': v_m_DataMean[i][1], 'u(m_sigma)': sRel[i][1], \\\n",
    "        'm_qMax': v_m_DataMean[i][2], 'u(qMax)': sRel[i][2], \\\n",
    "        'smcfSlopeQMax': v_m_DataMean[i][3],  'u(smcfSlopeQMax)': sRel[i][3]} )\n",
    "    bTable = bTable.append( df)\n",
    "\n",
    "print( bTable)\n",
    "bTable.to_csv(get_fig_file_name('bTable'+strData, table=True), sep=';',  decimal=\",\")"
   ],
   "metadata": {
    "collapsed": false,
    "pycharm": {
     "name": "#%%\n"
    }
   }
  },
  {
   "cell_type": "code",
   "execution_count": null,
   "outputs": [],
   "source": [
    "pyplot.plot(v_m_Data_Array[:, 0])"
   ],
   "metadata": {
    "collapsed": false,
    "pycharm": {
     "name": "#%%\n"
    }
   }
  },
  {
   "cell_type": "code",
   "execution_count": null,
   "outputs": [],
   "source": [
    "pyplot.plot(v_m_Data_Array[:, 1])"
   ],
   "metadata": {
    "collapsed": false,
    "pycharm": {
     "name": "#%%\n"
    }
   }
  },
  {
   "cell_type": "code",
   "execution_count": null,
   "outputs": [],
   "source": [
    "pyplot.plot(v_m_Data_Array[:, 2])"
   ],
   "metadata": {
    "collapsed": false,
    "pycharm": {
     "name": "#%%\n"
    }
   }
  },
  {
   "cell_type": "code",
   "execution_count": null,
   "outputs": [],
   "source": [
    "imMean=np.mean(resArray, axis=0)\n",
    "imStd=np.std(resArray, axis=0)\n",
    "plotCorrMatrixSmall(imMean, x_label_list)\n",
    "save_fig(filename='BS_Corr_Mean'+strData)"
   ],
   "metadata": {
    "collapsed": false,
    "pycharm": {
     "name": "#%%\n"
    }
   }
  },
  {
   "cell_type": "code",
   "execution_count": null,
   "outputs": [],
   "source": [
    "plotCorrMatrixSmall(imStd, x_label_list)\n",
    "save_fig(filename='BS_Corr_Std'+strData)"
   ],
   "metadata": {
    "collapsed": false,
    "pycharm": {
     "name": "#%%\n"
    }
   }
  },
  {
   "cell_type": "code",
   "execution_count": null,
   "outputs": [],
   "source": [
    "plotCorrMatrixSmall(imStd[0:iRow-1, 0:iRow-1], x_label_list[0:iRow-1])\n",
    "save_fig(filename='BS_Corr_Std_Part'+strData)"
   ],
   "metadata": {
    "collapsed": false,
    "pycharm": {
     "name": "#%%\n"
    }
   }
  },
  {
   "cell_type": "code",
   "execution_count": null,
   "outputs": [],
   "source": [
    "plotCorrMatrixSmall(imMean, x_label_list, iRaws=7, iCols=6)\n",
    "save_fig(filename='BS_Corr_MeanPart'+strData)"
   ],
   "metadata": {
    "collapsed": false,
    "pycharm": {
     "name": "#%%\n"
    }
   }
  },
  {
   "cell_type": "code",
   "execution_count": null,
   "outputs": [],
   "source": [
    "plotCorrMatrixSmall(imStd, x_label_list, iRaws=7, iCols=6)\n",
    "save_fig(filename='BS_Corr_StdPart'+strData)"
   ],
   "metadata": {
    "collapsed": false,
    "pycharm": {
     "name": "#%%\n"
    }
   }
  },
  {
   "cell_type": "code",
   "execution_count": null,
   "outputs": [],
   "source": [
    "plotHistScales( resArray[:,iRow,iCol] )"
   ],
   "metadata": {
    "collapsed": false,
    "pycharm": {
     "name": "#%%\n"
    }
   }
  },
  {
   "cell_type": "markdown",
   "source": [
    "# Sensitivity investigations\n",
    "#### Noise at different wavelength positions (influence of the weighting function)"
   ],
   "metadata": {
    "collapsed": false
   }
  },
  {
   "cell_type": "code",
   "execution_count": 14,
   "outputs": [
    {
     "data": {
      "text/plain": "<Figure size 432x288 with 1 Axes>",
      "image/png": "[encoded data removed]"
     },
     "metadata": {
      "needs_background": "light"
     },
     "output_type": "display_data"
    }
   ],
   "source": [
    "fig0, ax0 = pyplot.subplots()\n",
    "ax0.plot(lx._CMF['1931_2']['bar'][0], lx._CMF['1931_2']['bar'][2], label='$V(\\lambda)$', color='g')\n",
    "ax0.plot(lx._CIE_ILLUMINANTS['A'][0], lx._CIE_ILLUMINANTS['A'][1]/np.max(lx._CIE_ILLUMINANTS['A'][1]), label='CIE Standard Illuminant A, $S_{\\mathrm{A}}(\\lambda)$', color='r')\n",
    "ax0.plot(lx._CIE_ILLUMINANTS['LED_B3'][0], lx._CIE_ILLUMINANTS['LED_B3'][1]/np.max(lx._CIE_ILLUMINANTS['LED_B3'][1]), label='Illuminant LED/LED_B3/L41, $S_{\\mathrm{L}}(\\lambda)$', color='b')\n",
    "\n",
    "ax0.set_xlabel('$\\lambda$ / nm', fontsize=label_font_size)\n",
    "ax0.set_ylabel('Signal' + strAU, fontsize=label_font_size)\n",
    "ax0.legend( loc=\"lower right\")\n",
    "save_fig(filename='Target and weighting')"
   ],
   "metadata": {
    "collapsed": false,
    "pycharm": {
     "name": "#%%\n"
    }
   }
  },
  {
   "cell_type": "code",
   "execution_count": null,
   "outputs": [],
   "source": [
    "VLDetectorNoise = _RES['VLSimNoise']['S']['data'].copy()\n",
    "VLDetectorNoise.shape"
   ],
   "metadata": {
    "collapsed": false,
    "pycharm": {
     "name": "#%%\n"
    }
   }
  },
  {
   "cell_type": "code",
   "execution_count": null,
   "outputs": [],
   "source": [
    "nf1pA=lx.spectral_mismatch_and_uncertainty.f1prime(VLDetectorNoise, S_C='A', cieobs='1931_2', s_target_index=2)\n",
    "nf1pE=lx.spectral_mismatch_and_uncertainty.f1prime(VLDetectorNoise, S_C='E', cieobs='1931_2', s_target_index=2)\n",
    "nf1pLED=lx.spectral_mismatch_and_uncertainty.f1prime(VLDetectorNoise, S_C='LED_B3', cieobs='1931_2', s_target_index=2)\n",
    "nf1pA_py=py_f1PrimeGlx(VLDetectorNoise, strObserver='1931_2', iObserverOffset = 1, strWeighting='A', iMin=0, dCutOff=0., dBandWidth=0.)\n",
    "nf1pAFMin=py_f1PrimeGlx(VLDetectorNoise, strObserver='1931_2', iObserverOffset = 1, strWeighting='A', iMin=1, dCutOff=0., dBandWidth=0.)\n",
    "nf1ppR=py_f1PrimeGlx(VLDetectorNoise, strObserver='1931_2', iObserverOffset = 1, strWeighting='E', iMin=0, dCutOff=-dCutOff, dBandWidth=0.)\n",
    "nf1pp=py_f1PrimeGlx(VLDetectorNoise, strObserver='1931_2', iObserverOffset = 1, strWeighting='E', iMin=0, dCutOff=dCutOff, dBandWidth=0.)\n",
    "nf1pBW20nm=py_f1PrimeGlx(VLDetectorNoise, strObserver='1931_2', iObserverOffset = 1, strWeighting='A', iMin=0, dCutOff=0., dBandWidth=20.)"
   ],
   "metadata": {
    "collapsed": false,
    "pycharm": {
     "name": "#%%\n"
    }
   }
  },
  {
   "cell_type": "code",
   "execution_count": null,
   "outputs": [],
   "source": [
    "fig, ax1 = pyplot.subplots()\n",
    "ax1.plot(VLDetectorNoise[0], VLDetectorNoise[1], 'g-', label='$V(\\lambda)$')\n",
    "ax1.plot(VLDetectorNoise[0], VLDetectorNoise[4], '*', label='$V(\\lambda)+\\Delta$')\n",
    "ax1.set_xlabel('$\\lambda$ / nm', fontsize=label_font_size)\n",
    "ax1.set_ylabel('Signal' + strAU, fontsize=label_font_size)\n",
    "ax1.set_xlim([380, 500])\n",
    "ax1.set_ylim([0, 0.1])\n",
    "pyplot.legend()\n",
    "save_fig(filename='vldetectornoise_mag')"
   ],
   "metadata": {
    "collapsed": false,
    "pycharm": {
     "name": "#%%\n"
    }
   }
  },
  {
   "cell_type": "code",
   "execution_count": null,
   "outputs": [],
   "source": [
    "nsubPlot = 2\n",
    "xRange = np.arange(375,780+1,5)\n",
    "fig, ax1 = pyplot.subplots()\n",
    "ax2 = ax1.twinx()\n",
    "\n",
    "ax1.plot(xRange[1::nsubPlot], nf1pA[1::nsubPlot], '-', label=strf1p)\n",
    "ax1.plot(xRange[1::nsubPlot], nf1pE[1::nsubPlot], 'x', label=strf1pE)\n",
    "ax1.plot(xRange[1::nsubPlot], nf1pLED[1::nsubPlot], '--', label=strf1pLED)\n",
    "ax1.plot(xRange[1::nsubPlot], nf1pAFMin[1::nsubPlot], '<', label=strf1pMin)\n",
    "ax1.plot(xRange[1::nsubPlot], nf1ppR[1::nsubPlot], '>', label=strf1ppR)\n",
    "ax1.plot(xRange[1::nsubPlot], nf1pBW20nm[1::nsubPlot], '2', label=strf1pBW)\n",
    "ax2.plot(xRange[1::nsubPlot], nf1pp[1::nsubPlot], '1', label=strf1pp)\n",
    "\n",
    "ax1.set_xlabel('$\\lambda$ / nm', fontsize=label_font_size)\n",
    "ax1.set_ylabel(strf1p + ',' + strf1pE + ',' +  strf1pMin + ',' +  strf1ppR + ',' +  strf1pBW, fontsize=label_font_size)\n",
    "ax2.set_ylabel(strf1pp, fontsize=label_font_size)\n",
    "lines_labels = [ax.get_legend_handles_labels() for ax in fig.axes]\n",
    "lines, labels = [sum(lol, []) for lol in zip(*lines_labels)]\n",
    "pyplot.legend(lines, labels, bbox_to_anchor=(0.0, -0.3, 1, 0), loc='lower left',\n",
    "           ncol=7, mode=\"expand\", borderaxespad=0.)\n",
    "save_fig(filename='weighting influence')"
   ],
   "metadata": {
    "collapsed": false,
    "pycharm": {
     "name": "#%%\n"
    }
   }
  },
  {
   "cell_type": "markdown",
   "source": [
    "#### Influence of the wavelength shift to the detector characteristics"
   ],
   "metadata": {
    "collapsed": false
   }
  },
  {
   "cell_type": "code",
   "execution_count": null,
   "outputs": [],
   "source": [
    "VLDetectorShift = _RES['VLSimShift']['S']['data'].copy()\n",
    "\n",
    "sf1pA=lx.spectral_mismatch_and_uncertainty.f1prime(VLDetectorShift, S_C='A', cieobs='1931_2', s_target_index=2)\n",
    "sf1pE=lx.spectral_mismatch_and_uncertainty.f1prime(VLDetectorShift, S_C='E', cieobs='1931_2', s_target_index=2)\n",
    "sf1pLED=lx.spectral_mismatch_and_uncertainty.f1prime(VLDetectorShift, S_C='LED_B3', cieobs='1931_2', s_target_index=2)\n",
    "sf1pA_py=py_f1PrimeGlx(VLDetectorShift, strObserver='1931_2', iObserverOffset = 1, strWeighting='A', iMin=0, dCutOff=0., dBandWidth=0.)\n",
    "sf1pAFMin=py_f1PrimeGlx(VLDetectorShift, strObserver='1931_2', iObserverOffset = 1, strWeighting='A', iMin=1, dCutOff=0., dBandWidth=0.)\n",
    "sf1pAFCutOffR=py_f1PrimeGlx(VLDetectorShift, strObserver='1931_2', iObserverOffset = 1, strWeighting='E', iMin=0, dCutOff=-dCutOff, dBandWidth=0.)\n",
    "sf1pp=py_f1PrimeGlx(VLDetectorShift, strObserver='1931_2', iObserverOffset = 1, strWeighting='E', iMin=0, dCutOff=dCutOff, dBandWidth=0.)\n",
    "sf1pBW20nm=py_f1PrimeGlx(VLDetectorShift, strObserver='1931_2', iObserverOffset = 1, strWeighting='A', iMin=0, dCutOff=0., dBandWidth=20.)\n",
    "\n",
    "fig, ax1 = pyplot.subplots()\n",
    "ax2 = ax1.twinx()\n",
    "\n",
    "xRange = np.arange(-5,5+0.2,0.1)\n",
    "subPlot = 5\n",
    "ax1.plot(xRange[1::subPlot], sf1pA[1::subPlot], '-', label=strf1p)\n",
    "ax1.plot(xRange[1::subPlot], sf1pE[1::subPlot], 'x', label=strf1pE)\n",
    "ax1.plot(xRange[1::subPlot], sf1pLED[1::subPlot], '--', label=strf1pLED)\n",
    "ax1.plot(xRange[1::subPlot], sf1pAFMin[1::subPlot], '<', label=strf1pMin)\n",
    "ax1.plot(xRange[1::subPlot], sf1pAFCutOffR[1::subPlot], '>', label=strf1ppR)\n",
    "ax1.plot(xRange[1::subPlot], sf1pBW20nm[1::subPlot], '2', label=strf1pBW)\n",
    "ax2.plot(xRange[1::subPlot], sf1pp[1::subPlot], '1', label=strf1pp)\n",
    "\n",
    "ax1.set_xlabel('$\\Delta\\lambda$ / nm', fontsize=label_font_size)\n",
    "ax1.set_ylabel(strf1p + ',' + strf1pE + ',' +  strf1pMin + ',' +  strf1ppR + ',' +  strf1pBW, fontsize=label_font_size)\n",
    "ax2.set_ylabel(strf1pp, fontsize=label_font_size)\n",
    "lines_labels = [ax.get_legend_handles_labels() for ax in fig.axes]\n",
    "lines, labels = [sum(lol, []) for lol in zip(*lines_labels)]\n",
    "pyplot.legend(lines, labels, bbox_to_anchor=(0.0, -0.2, 1, 0), loc='upper left',\n",
    "           ncol=7, mode=\"expand\", borderaxespad=0.)\n",
    "save_fig(filename='f1Prime_Sens_WLShift')"
   ],
   "metadata": {
    "collapsed": false,
    "pycharm": {
     "name": "#%%\n"
    }
   }
  },
  {
   "cell_type": "code",
   "execution_count": null,
   "outputs": [],
   "source": [
    "lr_model = LinearRegression()\n",
    "xSlope = np.abs(xRange[1:])\n",
    "xSlope=xSlope.reshape(-1,1)\n",
    "lr_model.fit(xSlope, sf1pA[1:])\n",
    "f1pSlope=lr_model.coef_[0]\n",
    "r_sq = lr_model.score(xSlope, sf1pA[1:])\n",
    "\n",
    "pyplot.plot(xSlope, sf1pA[1:])\n",
    "print( f1pSlope, r_sq)"
   ],
   "metadata": {
    "collapsed": false,
    "pycharm": {
     "name": "#%%\n"
    }
   }
  },
  {
   "cell_type": "code",
   "execution_count": null,
   "outputs": [],
   "source": [
    "VLDetectorNumber = VLDetectorShift.shape[0]\n",
    "pyplot.plot(VLDetectorShift[0,:], VLDetectorShift[2,:], 'r-', label='shift -5nm')\n",
    "pyplot.plot(VLDetectorShift[0,:], VLDetectorShift[int((VLDetectorNumber-1)/2),:], 'g-', label='$V(\\lambda)$')\n",
    "pyplot.plot(VLDetectorShift[0,:], VLDetectorShift[VLDetectorNumber-1,:], 'b-', label='shift +5nm')\n",
    "pyplot.xlabel('$\\lambda$ / nm', fontsize=label_font_size)\n",
    "pyplot.ylabel('spectral responsivity' + strAU, fontsize=label_font_size)\n",
    "#pyplot.title('Shifted $V(\\lambda$) functions')\n",
    "pyplot.legend()\n",
    "save_fig(filename='VLShifts')"
   ],
   "metadata": {
    "collapsed": false,
    "pycharm": {
     "name": "#%%\n"
    }
   }
  },
  {
   "cell_type": "markdown",
   "source": [
    "# Ende Gelände"
   ],
   "metadata": {
    "collapsed": false
   }
  }
 ],
 "metadata": {
  "kernelspec": {
   "name": "python3",
   "language": "python",
   "display_name": "Python 3"
  },
  "language_info": {
   "codemirror_mode": {
    "name": "ipython",
    "version": 3
   },
   "file_extension": ".py",
   "mimetype": "text/x-python",
   "name": "python",
   "nbconvert_exporter": "python",
   "pygments_lexer": "ipython3",
   "version": "3.8.8"
  }
 },
 "nbformat": 4,
 "nbformat_minor": 5
}