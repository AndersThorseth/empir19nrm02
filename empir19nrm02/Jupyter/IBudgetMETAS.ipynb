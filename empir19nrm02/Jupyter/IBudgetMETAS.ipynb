{
 "cells": [
  {
   "cell_type": "markdown",
   "id": "67766b49-da38-4520-a8d4-8e694806c370",
   "metadata": {},
   "source": [
    "# METAS uncLib https://www.metas.ch/metas/en/home/fabe/hochfrequenz/unclib.html"
   ]
  },
  {
   "cell_type": "code",
   "execution_count": 1,
   "id": "2bd44d83",
   "metadata": {},
   "outputs": [],
   "source": [
    "from metas_unclib import *\n",
    "import matplotlib.pyplot as plt\n",
    "from sigfig import round\n",
    "%matplotlib inline"
   ]
  },
  {
   "cell_type": "code",
   "execution_count": 2,
   "id": "84605da4-31d6-4a30-8a1d-cf0b4612acc1",
   "metadata": {},
   "outputs": [],
   "source": [
    "use_mcprop(n=100000)\n",
    "#use_linprop()\n",
    "\n",
    "def uncLib_PlotHist(mcValue, xLabel='Value / A.U.', yLabel='Probability', title='Histogram of value', bins=1001, coverage=0.95):\n",
    "    hObject = mcValue.net_object \n",
    "    hValues = [float(bi) for bi in hObject.values]\n",
    "    y,x,_ = plt.hist(hValues, bins=bins, density=True)\n",
    "    plt.xlabel(xLabel)\n",
    "    plt.title(title)\n",
    "    plt.ylabel(yLabel)\n",
    "    \n",
    "    # stat over all\n",
    "    coverage_interval=[np.mean(hValues), np.percentile(hValues, ((1.0-coverage)/2.0) * 100), np.percentile(hValues, (coverage+((1.0-coverage)/2.0)) * 100)]\n",
    "    plt.axvline( coverage_interval[0])\n",
    "    plt.axvline( coverage_interval[1])\n",
    "    plt.axvline( coverage_interval[2])\n",
    "    outString = round(str(coverage_interval[0]), uncertainty=str((coverage_interval[2]-coverage_interval[1])/2))\n",
    "    plt.text( coverage_interval[2], max(y)/2, outString)\n",
    "    plt.show()\n",
    "    return [[y,x], coverage_interval]"
   ]
  },
  {
   "cell_type": "markdown",
   "id": "464ff99b-cb4f-4fc8-b31c-07828a3db850",
   "metadata": {},
   "source": [
    "# Measurement Uncertainty Simplest Possible Example"
   ]
  },
  {
   "cell_type": "markdown",
   "id": "9d8b6027-6c2f-4892-b1df-74c21190131f",
   "metadata": {},
   "source": [
    "## Define the parameter for the calibration factor"
   ]
  },
  {
   "cell_type": "code",
   "execution_count": 3,
   "id": "1e397dc8",
   "metadata": {},
   "outputs": [],
   "source": [
    "k_e = ufloat(0.01, 0.0000045)"
   ]
  },
  {
   "cell_type": "code",
   "execution_count": 4,
   "id": "822c79ac",
   "metadata": {},
   "outputs": [
    {
     "data": {
      "text/plain": "0.00999998844153783 ± 4.496710762329142e-06"
     },
     "execution_count": 4,
     "metadata": {},
     "output_type": "execute_result"
    }
   ],
   "source": [
    "k_e"
   ]
  },
  {
   "cell_type": "markdown",
   "id": "5f45315e-f986-48f9-96e6-27b10b090883",
   "metadata": {},
   "source": [
    "## Define the parameter for the photometer reading"
   ]
  },
  {
   "cell_type": "code",
   "execution_count": 5,
   "id": "6c119045",
   "metadata": {},
   "outputs": [],
   "source": [
    "Y_e = ufloat(2673.3,1.)"
   ]
  },
  {
   "cell_type": "code",
   "execution_count": 6,
   "id": "183b57a2",
   "metadata": {},
   "outputs": [
    {
     "data": {
      "text/plain": "2673.3034418189172 ± 0.9998266898883609"
     },
     "execution_count": 6,
     "metadata": {},
     "output_type": "execute_result"
    }
   ],
   "source": [
    "Y_e"
   ]
  },
  {
   "cell_type": "markdown",
   "id": "7ed50735-4cf9-4aec-8116-0fbb99efead6",
   "metadata": {},
   "source": [
    "## Define the parameter for the distance measurement"
   ]
  },
  {
   "cell_type": "code",
   "execution_count": 7,
   "id": "e68e3fc6",
   "metadata": {},
   "outputs": [],
   "source": [
    "d=ufloat(25.0000, 0.0025)"
   ]
  },
  {
   "cell_type": "code",
   "execution_count": 8,
   "id": "1c0dd28f",
   "metadata": {},
   "outputs": [
    {
     "data": {
      "text/plain": "25.000005497213426 ± 0.0025012557302725278"
     },
     "execution_count": 8,
     "metadata": {},
     "output_type": "execute_result"
    }
   ],
   "source": [
    "d"
   ]
  },
  {
   "cell_type": "markdown",
   "id": "0808977e-cee7-442c-87ff-42ac757474b3",
   "metadata": {},
   "source": [
    "# The Model"
   ]
  },
  {
   "cell_type": "code",
   "execution_count": 9,
   "id": "5dfc72fe",
   "metadata": {},
   "outputs": [],
   "source": [
    "I=k_e*Y_e*d**2"
   ]
  },
  {
   "cell_type": "code",
   "execution_count": 10,
   "id": "022d6e14",
   "metadata": {},
   "outputs": [
    {
     "data": {
      "text/plain": "16708.134704323744 ± 10.311991734322916"
     },
     "execution_count": 10,
     "metadata": {},
     "output_type": "execute_result"
    }
   ],
   "source": [
    "I"
   ]
  },
  {
   "cell_type": "code",
   "execution_count": 11,
   "id": "6c1dabaf-1fa9-445d-aefd-01849449346a",
   "metadata": {},
   "outputs": [
    {
     "data": {
      "text/plain": "<Figure size 432x288 with 1 Axes>",
      "image/png": "[encoded data removed]"
     },
     "metadata": {
      "needs_background": "light"
     },
     "output_type": "display_data"
    },
    {
     "name": "stdout",
     "output_type": "stream",
     "text": [
      "Mean: 16708.134704323762, I0: 16688.05188525347, I1: 16728.38390890037\n"
     ]
    }
   ],
   "source": [
    "[h, result_vecotr] = uncLib_PlotHist(I, xLabel='Luminous intensity / cd')\n",
    "print('Mean: {}, I0: {}, I1: {}'.format(result_vecotr[0], result_vecotr[1], result_vecotr[2]))\n"
   ]
  },
  {
   "cell_type": "code",
   "execution_count": 12,
   "id": "d610646a-c705-4f3d-aff0-baa23c992215",
   "metadata": {},
   "outputs": [
    {
     "data": {
      "text/plain": "<Figure size 432x288 with 1 Axes>",
      "image/png": "[encoded data removed]"
     },
     "metadata": {
      "needs_background": "light"
     },
     "output_type": "display_data"
    }
   ],
   "source": [
    "h=uncLib_PlotHist(k_e, xLabel='calibration factor / lx/LSB')"
   ]
  },
  {
   "cell_type": "code",
   "execution_count": 12,
   "id": "5c32c1da-4f42-498e-8840-868289f37394",
   "metadata": {},
   "outputs": [],
   "source": []
  },
  {
   "cell_type": "code",
   "execution_count": 12,
   "id": "006ac97e-e439-4b29-970e-7faa3038170d",
   "metadata": {},
   "outputs": [],
   "source": []
  },
  {
   "cell_type": "code",
   "execution_count": 12,
   "id": "e6f43b1c-7007-46fd-ad1a-5bcdf9a1498c",
   "metadata": {},
   "outputs": [],
   "source": []
  }
 ],
 "metadata": {
  "kernelspec": {
   "display_name": "Python 3",
   "language": "python",
   "name": "python3"
  },
  "language_info": {
   "codemirror_mode": {
    "name": "ipython",
    "version": 3
   },
   "file_extension": ".py",
   "mimetype": "text/x-python",
   "name": "python",
   "nbconvert_exporter": "python",
   "pygments_lexer": "ipython3",
   "version": "3.8.8"
  }
 },
 "nbformat": 4,
 "nbformat_minor": 5
}