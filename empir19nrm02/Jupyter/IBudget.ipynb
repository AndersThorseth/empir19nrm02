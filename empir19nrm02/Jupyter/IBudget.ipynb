{
 "cells": [
  {
   "cell_type": "markdown",
   "source": [
    "# metrolopy"
   ],
   "metadata": {
    "collapsed": false
   }
  },
  {
   "cell_type": "code",
   "execution_count": 1,
   "id": "2bd44d83",
   "metadata": {},
   "outputs": [],
   "source": [
    "import metrolopy as uc"
   ]
  },
  {
   "cell_type": "code",
   "execution_count": 2,
   "id": "33bc285a",
   "metadata": {},
   "outputs": [
    {
     "data": {
      "text/plain": "lux (20 prefixes), 1 lx = 1 lm/m², alias: lx",
      "text/html": "<ul>\n<li>lux (20 prefixes), 1&nbsp;lx&nbsp;=&nbsp;1&nbsp;lm/m<sup>2</sup>, alias: lx</li></ul>"
     },
     "execution_count": 2,
     "metadata": {},
     "output_type": "execute_result"
    }
   ],
   "source": [
    "uc.search_units('lx')"
   ]
  },
  {
   "cell_type": "code",
   "execution_count": 3,
   "id": "e0c9d969-03b1-432b-8b42-000e5fcc0b76",
   "metadata": {},
   "outputs": [
    {
     "data": {
      "text/plain": "candela (20 prefixes), symbol: cd, alias: cd",
      "text/html": "<ul>\n<li>candela (20 prefixes), symbol: cd, alias: cd</li></ul>"
     },
     "execution_count": 3,
     "metadata": {},
     "output_type": "execute_result"
    }
   ],
   "source": [
    "uc.search_units('cd')"
   ]
  },
  {
   "cell_type": "code",
   "execution_count": 4,
   "id": "b92ecfaf-0f39-4958-92ff-6f5d0da2efcc",
   "metadata": {},
   "outputs": [
    {
     "data": {
      "text/plain": "lumen (20 prefixes), 1 lm = 1 sr cd, alias: lm",
      "text/html": "<ul>\n<li>lumen (20 prefixes), 1&nbsp;lm&nbsp;=&nbsp;1&nbsp;sr&thinsp;cd, alias: lm</li></ul>"
     },
     "execution_count": 4,
     "metadata": {},
     "output_type": "execute_result"
    }
   ],
   "source": [
    "uc.search_units('lm')"
   ]
  },
  {
   "cell_type": "code",
   "execution_count": 5,
   "id": "b35eeb9e-a38e-4f1c-b5b1-b224c7e1c7e9",
   "metadata": {},
   "outputs": [
    {
     "data": {
      "text/plain": "steradian (20 prefixes), 1 sr = 1 m²/m², alias: sr",
      "text/html": "<ul>\n<li>steradian (20 prefixes), 1&nbsp;sr&nbsp;=&nbsp;1&nbsp;m<sup>2</sup>/m<sup>2</sup>, alias: sr</li></ul>"
     },
     "execution_count": 5,
     "metadata": {},
     "output_type": "execute_result"
    }
   ],
   "source": [
    "uc.search_units('sr')"
   ]
  },
  {
   "cell_type": "code",
   "execution_count": 6,
   "id": "617e1119-6ac5-4163-9067-08d7981eab8f",
   "metadata": {},
   "outputs": [],
   "source": [
    "Omega0=uc.GummyConstant(1, unit='sr')"
   ]
  },
  {
   "cell_type": "markdown",
   "id": "464ff99b-cb4f-4fc8-b31c-07828a3db850",
   "metadata": {},
   "source": [
    "# Measurement Uncertainty Simplest Possible Example"
   ]
  },
  {
   "cell_type": "markdown",
   "id": "981e7f9a-bbfc-4341-8930-0ff63a649f16",
   "metadata": {},
   "source": [
    "## Define a new Unit LSB"
   ]
  },
  {
   "cell_type": "code",
   "execution_count": 7,
   "id": "59c24027-3bbc-4d0c-9086-533d420c17c1",
   "metadata": {},
   "outputs": [
    {
     "data": {
      "text/plain": "LSB",
      "text/html": "LSB"
     },
     "execution_count": 7,
     "metadata": {},
     "output_type": "execute_result"
    }
   ],
   "source": [
    "uc.Unit('Count','LSB',add_symbol=True)"
   ]
  },
  {
   "cell_type": "markdown",
   "id": "644b6ff3-1084-4911-aeeb-727059761600",
   "metadata": {},
   "source": [
    "Set the default output style to '+-' notation"
   ]
  },
  {
   "cell_type": "code",
   "execution_count": 8,
   "id": "ef4541e6-1d89-4999-831b-76677721f646",
   "metadata": {},
   "outputs": [],
   "source": [
    "uc.gummy.style='+-'"
   ]
  },
  {
   "cell_type": "markdown",
   "id": "9d8b6027-6c2f-4892-b1df-74c21190131f",
   "metadata": {},
   "source": [
    "## Define the parameter for the calibration factor"
   ]
  },
  {
   "cell_type": "code",
   "execution_count": 9,
   "id": "1e397dc8",
   "metadata": {},
   "outputs": [],
   "source": [
    "ke = uc.gummy(0.01,u=0.0000045,unit='lux/LSB')\n",
    "ke.name = 'Calibration'"
   ]
  },
  {
   "cell_type": "code",
   "execution_count": 10,
   "id": "822c79ac",
   "metadata": {},
   "outputs": [
    {
     "data": {
      "text/plain": "Calibration = (0.010 000 0 ± 0.000 004 5) lx/LSB",
      "text/html": "Calibration = <span>(0.010&thinsp;000&thinsp;0 &plusmn; 0.000&thinsp;004&thinsp;5)&nbsp;lx/LSB</span>"
     },
     "execution_count": 10,
     "metadata": {},
     "output_type": "execute_result"
    }
   ],
   "source": [
    "ke"
   ]
  },
  {
   "cell_type": "markdown",
   "id": "5f45315e-f986-48f9-96e6-27b10b090883",
   "metadata": {},
   "source": [
    "## Define the parameter for the photometer reading"
   ]
  },
  {
   "cell_type": "code",
   "execution_count": 11,
   "id": "6c119045",
   "metadata": {},
   "outputs": [],
   "source": [
    "Ye = uc.gummy(2673.3,u=1,unit='LSB')\n",
    "Ye.name = 'Reading'"
   ]
  },
  {
   "cell_type": "code",
   "execution_count": 12,
   "id": "183b57a2",
   "metadata": {},
   "outputs": [
    {
     "data": {
      "text/plain": "Reading = (2673.3 ± 1.0) LSB",
      "text/html": "Reading = <span>(2673.3 &plusmn; 1.0)&nbsp;LSB</span>"
     },
     "execution_count": 12,
     "metadata": {},
     "output_type": "execute_result"
    }
   ],
   "source": [
    "Ye"
   ]
  },
  {
   "cell_type": "markdown",
   "id": "7ed50735-4cf9-4aec-8116-0fbb99efead6",
   "metadata": {},
   "source": [
    "## Define the parameter for the distance measurement"
   ]
  },
  {
   "cell_type": "code",
   "execution_count": 13,
   "id": "e68e3fc6",
   "metadata": {},
   "outputs": [],
   "source": [
    "d = uc.gummy(25.0,u=0.0025,unit='m')\n",
    "d.name = 'Distance'"
   ]
  },
  {
   "cell_type": "code",
   "execution_count": 14,
   "id": "1c0dd28f",
   "metadata": {},
   "outputs": [
    {
     "data": {
      "text/plain": "Distance = (25.0000 ± 0.0025) m",
      "text/html": "Distance = <span>(25.0000 &plusmn; 0.0025)&nbsp;m</span>"
     },
     "execution_count": 14,
     "metadata": {},
     "output_type": "execute_result"
    }
   ],
   "source": [
    "d"
   ]
  },
  {
   "cell_type": "markdown",
   "id": "0808977e-cee7-442c-87ff-42ac757474b3",
   "metadata": {},
   "source": [
    "# The Model"
   ]
  },
  {
   "cell_type": "code",
   "execution_count": 15,
   "id": "5dfc72fe",
   "metadata": {},
   "outputs": [],
   "source": [
    "I=ke*Ye*d**2/Omega0"
   ]
  },
  {
   "cell_type": "code",
   "execution_count": 16,
   "id": "022d6e14",
   "metadata": {},
   "outputs": [
    {
     "data": {
      "text/plain": "(16708 ± 10) lx m²/sr",
      "text/html": "<span>(16708 &plusmn; 10)&nbsp;lx&thinsp;m<sup>2</sup>/sr</span>"
     },
     "execution_count": 16,
     "metadata": {},
     "output_type": "execute_result"
    }
   ],
   "source": [
    "I"
   ]
  },
  {
   "cell_type": "code",
   "execution_count": 17,
   "id": "45de6d37-b1a7-4a20-99ac-a1df022a6177",
   "metadata": {},
   "outputs": [],
   "source": [
    "I.name = 'Intensity'  #give the variables names for the plot\n",
    "I.p = 0.95  # put the reference lines in the histograms at a 95% confidence interval\n",
    "I.unit = 'cd' # not managed by the tool :-("
   ]
  },
  {
   "cell_type": "code",
   "execution_count": 18,
   "id": "85361d61-5b98-4443-9e22-368e0ac2b360",
   "metadata": {},
   "outputs": [
    {
     "data": {
      "text/plain": "(16708 ± 20) cd with a 95% level of confidence",
      "text/html": "<span>(16708 &plusmn; 20)&nbsp;cd with a 95% level of confidence</span>"
     },
     "execution_count": 18,
     "metadata": {},
     "output_type": "execute_result"
    }
   ],
   "source": [
    "I"
   ]
  },
  {
   "cell_type": "markdown",
   "id": "6b9f663c-7615-4fa4-b2bc-932e030a22c8",
   "metadata": {},
   "source": [
    "## Let's generate some MC Simulation data for the parameter and the result"
   ]
  },
  {
   "cell_type": "code",
   "execution_count": 19,
   "id": "c4efe104",
   "metadata": {},
   "outputs": [
    {
     "data": {
      "text/plain": "<Figure size 432x288 with 1 Axes>",
      "image/png": "[encoded data removed]"
     },
     "metadata": {
      "needs_background": "light"
     },
     "output_type": "display_data"
    }
   ],
   "source": [
    "%matplotlib inline\n",
    "uc.gummy.simulate([ke, Ye, d, I])  # generate Monte-Carlo data, default is 1e6 samples for each gummy\n",
    "\n",
    "I.hist()  # create the histogram for a (we could have used a.hist(p=0.95) instead of a.p = 0.95 above)\n"
   ]
  },
  {
   "cell_type": "code",
   "execution_count": 20,
   "id": "304c2cbe-a8b9-427c-a0d6-439d026a0841",
   "metadata": {},
   "outputs": [
    {
     "data": {
      "text/plain": "<Figure size 432x288 with 1 Axes>",
      "image/png": "[encoded data removed]"
     },
     "metadata": {
      "needs_background": "light"
     },
     "output_type": "display_data"
    }
   ],
   "source": [
    "ke.hist()"
   ]
  },
  {
   "cell_type": "markdown",
   "id": "fa66fb68-921d-49b3-9473-70040da00e16",
   "metadata": {},
   "source": [
    "## List the table with all results"
   ]
  },
  {
   "cell_type": "code",
   "execution_count": 21,
   "id": "d131f300",
   "metadata": {},
   "outputs": [
    {
     "data": {
      "text/plain": "    Component   Unit       Value  u / %    s   |dy/dx|\n         x[1] lx/LSB 0.010 000 0 4.5e-6 0.73 1 672 442\n         x[2]    LSB      2673.3    1.0 0.61       6.3\n         x[3]      m     25.0000 0.0025 0.32      1340\n            y     cd       16708     10               \nUc at k = 2.0     cd                 20               ",
      "text/html": "<div>\n<style>\n.budget_table {\n    display: table;\n}\n    \n.budget_row {\n    display: table-row;\n}\n\n.budget_header_row {\n    display: table-row;\n    font-weight: bold;\n}\n\n.budget_first_col_header_cell\n{\n    display: table-cell;\n    text-align: center;\n    border-bottom: solid;\n    border-width: thin;\n    padding-left: 5px;\n    padding-right: 5px;\n}\n\n.budget_header_cell {\n    display: table-cell;\n    text-align: center;\n    border-bottom: solid;\n    border-width: thin;\n    padding-left: 5px;\n    padding-right: 5px;\n    \n}\n\n.budget_first_col_x_cell {\n    display: table-cell;\n    text-align: center;\n    padding-left: 5px;\n    padding-right: 5px;\n    min-width: 8ex;\n}\n\n.budget_x_cell {\n    display: table-cell;\n    text-align: center;\n    padding-left: 5px;\n    padding-right: 5px;\n    min-width: 8ex;\n}\n</style>\n<div class=\"budget_table\">\n    <div class=\"budget_header_row\">\n        <div class = \"budget_header_cell\">Component</div>\n        <div class = \"budget_header_cell\">Unit</div>\n        <div class = \"budget_header_cell\">Value</div>\n        <div class = \"budget_header_cell\"><span><i>u</i>&thinsp;/&thinsp;%</span></div>\n        <div class = \"budget_header_cell\"><span><i>s</i></span></div>\n        <div class = \"budget_header_cell\">|<span>&part;<i>y</i>/&part;<i>x</i></span>|</div>\n    </div>\n    <div class=\"budget_row\">\n        <div class=\"budget_first_col_x_cell\"><span><i>x</i><sub>1</sub></span></div>\n        <div class=\"budget_x_cell\">lx/LSB</div>\n        <div class=\"budget_x_cell\">0.010&thinsp;000&thinsp;0</div>\n        <div class=\"budget_x_cell\">4.5 &times; 10<sup>-6</sup></div>\n        <div class=\"budget_x_cell\">0.73</div>\n        <div class=\"budget_x_cell\">1&thinsp;672&thinsp;442</div>\n    </div>\n    <div class=\"budget_row\">\n        <div class=\"budget_first_col_x_cell\"><span><i>x</i><sub>2</sub></span></div>\n        <div class=\"budget_x_cell\">LSB</div>\n        <div class=\"budget_x_cell\">2673.3</div>\n        <div class=\"budget_x_cell\">1.0</div>\n        <div class=\"budget_x_cell\">0.61</div>\n        <div class=\"budget_x_cell\">6.3</div>\n    </div>\n    <div class=\"budget_row\">\n        <div class=\"budget_first_col_header_cell\"><span><i>x</i><sub>3</sub></span></div>\n        <div class=\"budget_header_cell\">m</div>\n        <div class=\"budget_header_cell\">25.0000</div>\n        <div class=\"budget_header_cell\">0.0025</div>\n        <div class=\"budget_header_cell\">0.32</div>\n        <div class=\"budget_header_cell\">1340</div>\n    </div>\n    <div class=\"budget_row\">\n        <div class=\"budget_first_col_header_cell\"><span><i>y</i></span></div>\n        <div class=\"budget_header_cell\">cd</div>\n        <div class=\"budget_header_cell\">16708</div>\n        <div class=\"budget_header_cell\">10</div>\n        <div class=\"budget_header_cell\">  </div>\n        <div class=\"budget_header_cell\">  </div>\n    </div>\n    <div class=\"budget_row\">\n        <div class=\"budget_first_col_x_cell\"><span><i>U<sub>c<sub></i> at <i>k</i> = 2.0</span></div>\n        <div class=\"budget_x_cell\">cd</div>\n        <div class=\"budget_x_cell\">  </div>\n        <div class=\"budget_x_cell\">20</div>\n        <div class=\"budget_x_cell\">  </div>\n        <div class=\"budget_x_cell\">  </div>\n    </div>\n</div>\n</div>"
     },
     "execution_count": 21,
     "metadata": {},
     "output_type": "execute_result"
    }
   ],
   "source": [
    "I.budget([ke,Ye,d],uunit='%',sim=True, columns = ['name','unit', 'value', 'u',  's', 'c'])"
   ]
  },
  {
   "cell_type": "code",
   "execution_count": 21,
   "id": "574ad72a-8841-4b04-a1f0-4c27acb372d0",
   "metadata": {},
   "outputs": [],
   "source": []
  },
  {
   "cell_type": "code",
   "execution_count": 21,
   "id": "fd76ed2a-6769-411e-ae25-427172fc63ed",
   "metadata": {},
   "outputs": [],
   "source": []
  }
 ],
 "metadata": {
  "kernelspec": {
   "display_name": "Python 3",
   "language": "python",
   "name": "python3"
  },
  "language_info": {
   "codemirror_mode": {
    "name": "ipython",
    "version": 3
   },
   "file_extension": ".py",
   "mimetype": "text/x-python",
   "name": "python",
   "nbconvert_exporter": "python",
   "pygments_lexer": "ipython3",
   "version": "3.8.8"
  }
 },
 "nbformat": 4,
 "nbformat_minor": 5
}